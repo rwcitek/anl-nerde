{
  "nbformat": 4,
  "nbformat_minor": 0,
  "metadata": {
    "colab": {
      "provenance": [],
      "authorship_tag": "ABX9TyPUyvcniImwXL5svzcTDocn",
      "include_colab_link": true
    },
    "kernelspec": {
      "name": "ir",
      "display_name": "R"
    },
    "language_info": {
      "name": "R"
    }
  },
  "cells": [
    {
      "cell_type": "markdown",
      "metadata": {
        "id": "view-in-github",
        "colab_type": "text"
      },
      "source": [
        "<a href=\"https://colab.research.google.com/github/rwcitek/anl-nerde/blob/main/nerde_argonne_api_r.ipynb\" target=\"_parent\"><img src=\"https://colab.research.google.com/assets/colab-badge.svg\" alt=\"Open In Colab\"/></a>"
      ]
    },
    {
      "cell_type": "markdown",
      "source": [
        "# NERDE API via R\n",
        "\n"
      ],
      "metadata": {
        "id": "5U6FRlgYE27G"
      }
    },
    {
      "cell_type": "markdown",
      "source": [
        "NERDE ( National Economic Resilience Data Explorer )\n",
        "\n",
        "\n",
        "\n",
        "- https://www.anl.gov/dis/national-economic-resilience-data-explorer-nerde\n",
        "- https://nerde.anl.gov/\n",
        "- [Introduction to Nerde]( https://youtu.be/FCzSLtNCG5U?feature=shared ) on YouTube\n",
        "- [API Docs]( https://nerde.anl.gov/resources/api-documentation )\n",
        "  - [account registration/sign in]( https://nerde.anl.gov/auth/login )\n"
      ],
      "metadata": {
        "id": "mwLiCi8vJYJC"
      }
    },
    {
      "cell_type": "markdown",
      "source": [
        "Other resources:\n",
        "- [Federal Information Processing Standards (FIPS) ]( https://en.wikipedia.org/wiki/Federal_Information_Processing_Standards )"
      ],
      "metadata": {
        "id": "Kxk7tZ2UE23_"
      }
    },
    {
      "cell_type": "markdown",
      "source": [
        "## Tapping into the NERDE API\n",
        "\n"
      ],
      "metadata": {
        "id": "c7fNhSDLMKy5"
      }
    },
    {
      "cell_type": "markdown",
      "source": [
        "Welcome to the NERDE API for R users. Make sure that prior to attempting to connect to the NERDE API, ensure you have registered as a NERDE user at https://nerde.anl.gov/auth/login . The credentials used for your account will be the values for your Username and Password.\n",
        "\n",
        "Table of Contents:\n",
        "\n",
        "- Obtaining an API Token\n",
        "- County Summary Data\n",
        "- Demographics\n",
        "- Housing\n",
        "- Workforce\n",
        "- Local Economy\n",
        "- Industry Trends\n",
        "- Risk & Resilience\n",
        "\n",
        "\n"
      ],
      "metadata": {
        "id": "J8qx8iPjMd9h"
      }
    },
    {
      "cell_type": "markdown",
      "source": [
        "### Obtaining an API Token\n"
      ],
      "metadata": {
        "id": "qPGXhIhxMXkz"
      }
    },
    {
      "cell_type": "code",
      "source": [
        "## Remember to replace your username and password below\n",
        "nerde_username <- \"username@email.com\"\n",
        "nerde_password <- \"password\""
      ],
      "metadata": {
        "id": "jNmjWlBzOWat"
      },
      "execution_count": null,
      "outputs": []
    },
    {
      "cell_type": "code",
      "source": [
        "library(jsonlite)\n",
        "library(httr)\n",
        "\n",
        "call <- \"https://nerde.anl.gov\"\n",
        "\n",
        "# Pull API Token\n",
        "token <- fromJSON( #transforms content to JSON\n",
        "  content( #retrieves POST content\n",
        "  POST(url=paste0(call,\"/api/auth/login\"),\n",
        "       ## Remember to replace your username and password below\n",
        "       body=list(userName=nerde_username, password=nerde_password, rememberMe=TRUE),\n",
        "       encode = \"json\"),\n",
        "     \"text\",\n",
        "     encoding = \"UTF-8\"))\n",
        "\n",
        "# Your unique key\n",
        "key <- token$result$token\n",
        "\n",
        "# Establishing fips and start and end dates for collection (start and end dataes are not often used)\n",
        "my_fips <- \"24011,24013,24015,24017,24019,24021,24023,24025,24027,24029,24031,24033,24035,24039,24037,24041,24043,24045,24047\"\n",
        "fips_length <- lengths(regmatches(my_fips,gregexpr(\",\",my_fips)))+1\n",
        "my_start <- \"2020-01-01\"\n",
        "my_end <- \"2023-01-01\"\n",
        "\n",
        "\n"
      ],
      "metadata": {
        "id": "Qox0723TMOUs"
      },
      "execution_count": null,
      "outputs": []
    },
    {
      "cell_type": "code",
      "source": [
        "# r Retrieve Results function\n",
        "NERDE_API <- function(section_url,fips){\n",
        "  results_summary <- content(GET(url=paste0(call,section_url,\"?county_fips=\",fips),\n",
        "    add_headers(key)))\n",
        "\n",
        "results_summary_digest <- list()\n",
        "## Each county will populate a list, this loops through each called county to parse results\n",
        "for (i in 1:length(results_summary$result)){\n",
        "x <- results_summary$result[[i]]\n",
        "results_summary_digest <- c(results_summary_digest,x)\n",
        "}\n",
        "return(results_summary_digest)\n",
        "}\n"
      ],
      "metadata": {
        "id": "i-YmkrhEMmLF"
      },
      "execution_count": null,
      "outputs": []
    },
    {
      "cell_type": "markdown",
      "source": [
        "### County Summary Data\n",
        "\n"
      ],
      "metadata": {
        "id": "hKM-NuxOPnlj"
      }
    },
    {
      "cell_type": "code",
      "source": [
        "# r County Summary\n",
        "section_url <- \"/api/v1/county/explorer/summary\"\n",
        "\n",
        "summary_digest <- NERDE_API(section_url = section_url,fips=my_fips)\n",
        "## Creating a data frame for special needs characteristics\n",
        "\n",
        "# Remove EDCI and Local 24 month Unemployment\n",
        "sp_need_vars <- c(grep(\"local\",summary_digest),grep(\"local\",summary_digest)-1)\n",
        "\n",
        "# Unnesting API results\n",
        "sp_need <- data.frame(stack(summary_digest[-sp_need_vars]))\n",
        "sp_need$ind <- as.character(sp_need$ind)\n",
        "\n",
        "#initial data frame for loop (does not pull in coal community information)\n",
        "mycol <- unique(sp_need$ind)[1]\n",
        "special_needs <- data.frame(mycol=sp_need[sp_need$ind==mycol,1])\n",
        "\n",
        "# loop to populate data frame with special needs characteristics\n",
        "for (i in 2:length(unique(sp_need$ind))){\n",
        "  mycol <- unique(sp_need$ind)[i]\n",
        "  l <- data.frame(sp_need[sp_need$ind==mycol,1])\n",
        "  names(l) <- mycol\n",
        "  ifelse(nrow(l)==fips_length,\n",
        "         special_needs <- cbind(special_needs,l),\n",
        "\n",
        "         #coal community data is a special case due to the fact that those communities that are not designated as coal communities do not pull information for this field. The following code works to identify those counties and accurately describe them as coal communities or not.\n",
        "         {\n",
        "         f <- data.frame(sp_need[sp_need$ind %in% c(\"county\",mycol),1])\n",
        "         cc <- grepl(\"County\",f$sp_need.sp_need.ind..in..c..county...mycol...1.)\n",
        "         cc <- !c(cc[-1],TRUE)\n",
        "         cc <- cbind(f,cc)\n",
        "         names(cc) <- c(\"county\",mycol)\n",
        "         cc <- cc[grepl(\"County\",cc$county)==TRUE,]\n",
        "         special_needs <- cbind(special_needs,cc[,mycol])\n",
        "         names(special_needs)[ncol(special_needs)] <- mycol\n",
        "         }\n",
        "         )\n",
        "\n",
        "\n",
        "}\n"
      ],
      "metadata": {
        "id": "asB-p5UIPoxK"
      },
      "execution_count": null,
      "outputs": []
    },
    {
      "cell_type": "code",
      "source": [
        "# r 24 month unemployment\n",
        "# 24 month unemployment data cleaning - unemployment data is calculated in aggregate for the selection so all of your selected counties will be summarized for a single month\n",
        "\n",
        "unemp_24mo_raw <- summary_digest$local_24month_unemployment_rate_series\n",
        "m <- unlist(unemp_24mo_raw)\n",
        "unemp_24mo <-stack(m)\n",
        "\n",
        "timestamps <- unemp_24mo[unemp_24mo$ind==\"timestamp\",1]\n",
        "values <-unemp_24mo[unemp_24mo$ind==\"value\",1]\n",
        "values <- c(rep(NA,length(timestamps)-length(values)),values)\n",
        "\n",
        "unemp_24mo <- data.frame(timestamps,values)\n"
      ],
      "metadata": {
        "id": "pgQRP6MaP0jl"
      },
      "execution_count": null,
      "outputs": []
    },
    {
      "cell_type": "markdown",
      "source": [
        "### Demographics\n",
        "\n"
      ],
      "metadata": {
        "id": "TVkx9YyWP5Mr"
      }
    },
    {
      "cell_type": "code",
      "source": [
        "demographics_digest <- NERDE_API(section_url = \"/api/v1/county/explorer/demographics\", fips=my_fips)\n",
        "\n",
        "#print listed variables that need a seprate ingest function\n",
        "unique(names(demographics_digest[sapply(demographics_digest,is.list)==TRUE]))\n",
        "# Unnesting API results\n",
        "\n",
        "demographics_digest <- data.frame(stack(demographics_digest[sapply(demographics_digest,is.list)==FALSE]))\n",
        "demographics_digest$ind <- as.character(demographics_digest$ind)\n",
        "\n",
        "mycol <- unique(demographics_digest$ind)[1]\n",
        "demographics <- data.frame(mycol=demographics_digest[demographics_digest$ind==mycol,1])\n",
        "\n",
        "# loop to populate data frame with special needs characteristics\n",
        "for (i in 2:length(unique(demographics_digest$ind))){\n",
        "  mycol <- unique(demographics_digest$ind)[i]\n",
        "  l <- data.frame(demographics_digest[demographics_digest$ind==mycol,1])\n",
        "  names(l) <- mycol\n",
        "  demographics <- cbind(demographics,l)\n",
        "         }\n"
      ],
      "metadata": {
        "id": "S1I8sDlJP87b"
      },
      "execution_count": null,
      "outputs": []
    },
    {
      "cell_type": "markdown",
      "source": [
        "### Housing\n",
        "\n"
      ],
      "metadata": {
        "id": "o6vVHqfrQBfa"
      }
    },
    {
      "cell_type": "code",
      "source": [
        "housing_digest <- NERDE_API(section_url = \"/api/v1/county/explorer/housing\", fips=my_fips)\n",
        "unique(names(housing_digest[sapply(housing_digest,is.list)==TRUE]))\n",
        "# Unnesting API results\n",
        "\n",
        "housing_digest <- data.frame(stack(housing_digest[sapply(housing_digest,is.list)==FALSE]))\n",
        "housing_digest$ind <- as.character(housing_digest$ind)\n",
        "\n",
        "mycol <- unique(housing_digest$ind)[1]\n",
        "housing <- data.frame(mycol=housing_digest[housing_digest$ind==mycol,1])\n",
        "\n",
        "# loop to populate data frame\n",
        "for (i in 2:length(unique(housing_digest$ind))){\n",
        "  mycol <- unique(housing_digest$ind)[i]\n",
        "  l <- data.frame(housing_digest[housing_digest$ind==mycol,1])\n",
        "  names(l) <- mycol\n",
        "  housing <- cbind(housing,l)\n",
        "}\n"
      ],
      "metadata": {
        "id": "G6xcP6ecQCR_"
      },
      "execution_count": null,
      "outputs": []
    },
    {
      "cell_type": "markdown",
      "source": [
        "### Workforce\n",
        "\n"
      ],
      "metadata": {
        "id": "vIN3AvFvQGgA"
      }
    },
    {
      "cell_type": "code",
      "source": [
        "workforce_digest <- NERDE_API(section_url = \"/api/v1/county/explorer/workforce\", fips=my_fips)\n",
        "unique(names(workforce_digest[sapply(workforce_digest,is.list)==TRUE]))\n",
        "# Unnesting API results\n",
        "\n",
        "workforce_digest <- data.frame(stack(workforce_digest[sapply(workforce_digest,is.list)==FALSE]))\n",
        "workforce_digest$ind <- as.character(workforce_digest$ind)\n",
        "\n",
        "mycol <- unique(workforce_digest$ind)[1]\n",
        "workforce <- data.frame(mycol=workforce_digest[workforce_digest$ind==mycol,1])\n",
        "\n",
        "# loop to populate data frame\n",
        "for (i in 2:length(unique(workforce_digest$ind))){\n",
        "  mycol <- unique(workforce_digest$ind)[i]\n",
        "  l <- data.frame(workforce_digest[workforce_digest$ind==mycol,1])\n",
        "  names(l) <- mycol\n",
        "  workforce <- cbind(workforce,l)\n",
        "}\n"
      ],
      "metadata": {
        "id": "CgMzLfchQFy4"
      },
      "execution_count": null,
      "outputs": []
    },
    {
      "cell_type": "markdown",
      "source": [
        "### Local Economy\n",
        "\n"
      ],
      "metadata": {
        "id": "3nnnbUEbQLRq"
      }
    },
    {
      "cell_type": "code",
      "source": [
        "l_econ_digest <- NERDE_API(section_url = \"/api/v1/county/explorer/localeconomy\", fips=my_fips)\n",
        "unique(names(l_econ_digest[sapply(l_econ_digest,is.list)==TRUE]))\n",
        "# Unnesting API results\n",
        "\n",
        "l_econ_digest <- data.frame(stack(l_econ_digest[sapply(l_econ_digest,is.list)==FALSE]))\n",
        "l_econ_digest$ind <- as.character(l_econ_digest$ind)\n",
        "\n",
        "mycol <- unique(l_econ_digest$ind)[1]\n",
        "local_econ <- data.frame(mycol=l_econ_digest[l_econ_digest$ind==mycol,1])\n",
        "\n",
        "# loop to populate data frame\n",
        "for (i in 2:length(unique(l_econ_digest$ind))){\n",
        "  mycol <- unique(l_econ_digest$ind)[i]\n",
        "  l <- data.frame(l_econ_digest[l_econ_digest$ind==mycol,1])\n",
        "  names(l) <- mycol\n",
        "  local_econ <- cbind(local_econ,l)\n",
        "}\n"
      ],
      "metadata": {
        "id": "s1XB57trQKrN"
      },
      "execution_count": null,
      "outputs": []
    },
    {
      "cell_type": "markdown",
      "source": [
        "### Industry Trends\n",
        "\n"
      ],
      "metadata": {
        "id": "cO6awOHWQPWQ"
      }
    },
    {
      "cell_type": "code",
      "source": [
        "industry_digest <- NERDE_API(section_url = \"/api/v1/county/explorer/industrytrends\", fips=my_fips)\n",
        "unique(names(industry_digest[sapply(industry_digest,is.list)==TRUE]))\n",
        "\n",
        "# Unnesting API results\n",
        "\n",
        "industry_digest <- data.frame(stack(industry_digest[sapply(industry_digest,is.list)==FALSE]))\n",
        "industry_digest$ind <- as.character(industry_digest$ind)\n",
        "\n",
        "mycol <- unique(industry_digest$ind)[1]\n",
        "industry <- data.frame(mycol=industry_digest[industry_digest$ind==mycol,1])\n",
        "\n",
        "# loop to populate data frame\n",
        "for (i in 2:length(unique(industry_digest$ind))){\n",
        "  mycol <- unique(industry_digest$ind)[i]\n",
        "  l <- data.frame(industry_digest[industry_digest$ind==mycol,1])\n",
        "  names(l) <- mycol\n",
        "  industry <- cbind(industry,l)\n",
        "}\n"
      ],
      "metadata": {
        "id": "x1b4k8QkQOig"
      },
      "execution_count": null,
      "outputs": []
    },
    {
      "cell_type": "markdown",
      "source": [
        "### Risk and Resilience\n",
        "\n"
      ],
      "metadata": {
        "id": "ool45GQFQWv5"
      }
    },
    {
      "cell_type": "code",
      "source": [
        "risk_digest <- NERDE_API(section_url = \"/api/v1/county/explorer/riskresilience\", fips=my_fips)\n",
        "unique(names(risk_digest[sapply(risk_digest,is.list)==TRUE]))\n",
        "\n",
        "# Unnesting API results\n",
        "\n",
        "risk_digest <- data.frame(stack(risk_digest[sapply(risk_digest,is.list)==FALSE]))\n",
        "risk_digest$ind <- as.character(risk_digest$ind)\n",
        "\n",
        "mycol <- unique(risk_digest$ind)[1]\n",
        "risk <- data.frame(mycol=risk_digest[risk_digest$ind==mycol,1])\n",
        "\n",
        "# loop to populate data frame with special needs characteristics\n",
        "for (i in 2:length(unique(risk_digest$ind))){\n",
        "  mycol <- unique(risk_digest$ind)[i]\n",
        "  l <- data.frame(risk_digest[risk_digest$ind==mycol,1])\n",
        "  names(l) <- mycol\n",
        "  risk <- cbind(risk,l)\n",
        "}\n"
      ],
      "metadata": {
        "id": "bQIBx57mQV9o"
      },
      "execution_count": null,
      "outputs": []
    }
  ]
}
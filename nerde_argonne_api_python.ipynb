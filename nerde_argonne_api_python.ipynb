{
  "nbformat": 4,
  "nbformat_minor": 0,
  "metadata": {
    "colab": {
      "provenance": [],
      "authorship_tag": "ABX9TyMieitCmAGIM3wSiyksX3q6",
      "include_colab_link": true
    },
    "kernelspec": {
      "name": "python3",
      "display_name": "Python 3"
    },
    "language_info": {
      "name": "python"
    }
  },
  "cells": [
    {
      "cell_type": "markdown",
      "metadata": {
        "id": "view-in-github",
        "colab_type": "text"
      },
      "source": [
        "<a href=\"https://colab.research.google.com/github/rwcitek/anl-nerde/blob/main/nerde_argonne_api_python.ipynb\" target=\"_parent\"><img src=\"https://colab.research.google.com/assets/colab-badge.svg\" alt=\"Open In Colab\"/></a>"
      ]
    },
    {
      "cell_type": "markdown",
      "source": [
        "# NERDE API via Python\n",
        "\n"
      ],
      "metadata": {
        "id": "5U6FRlgYE27G"
      }
    },
    {
      "cell_type": "markdown",
      "source": [
        "NERDE ( National Economic Resilience Data Explorer )\n",
        "\n",
        "\n",
        "\n",
        "- https://www.anl.gov/dis/national-economic-resilience-data-explorer-nerde\n",
        "- https://nerde.anl.gov/\n",
        "- [Introduction to Nerde]( https://youtu.be/FCzSLtNCG5U?feature=shared ) on YouTube\n",
        "- [API Docs]( https://nerde.anl.gov/resources/api-documentation )\n",
        "  - [account registration/sign in]( https://nerde.anl.gov/auth/login )\n"
      ],
      "metadata": {
        "id": "mwLiCi8vJYJC"
      }
    },
    {
      "cell_type": "markdown",
      "source": [
        "Other resources:\n",
        "- [Federal Information Processing Standards (FIPS) ]( https://en.wikipedia.org/wiki/Federal_Information_Processing_Standards )"
      ],
      "metadata": {
        "id": "Kxk7tZ2UE23_"
      }
    },
    {
      "cell_type": "markdown",
      "source": [
        "## Setting up the Request\n"
      ],
      "metadata": {
        "id": "IKUs0LtjUBjg"
      }
    },
    {
      "cell_type": "markdown",
      "source": [
        "### Obtaining an API Token\n"
      ],
      "metadata": {
        "id": "4pVIavG1UHGQ"
      }
    },
    {
      "cell_type": "code",
      "source": [
        "# Get u/p credentials from Colab Vault\n",
        "from google.colab import userdata\n",
        "\n",
        "nerde_username = userdata.get('nerde_username')\n",
        "nerde_password = userdata.get('nerde_password')\n"
      ],
      "metadata": {
        "id": "n8MATwUc-q2l"
      },
      "execution_count": 1,
      "outputs": []
    },
    {
      "cell_type": "code",
      "source": [
        "import requests\n",
        "import json\n",
        "import pandas as pd\n"
      ],
      "metadata": {
        "id": "hXPVU0H6AEya"
      },
      "execution_count": 2,
      "outputs": []
    },
    {
      "cell_type": "code",
      "source": [
        "call = \"https://nerde.anl.gov\"\n",
        "\n",
        "# Pull API Token\n",
        "response = requests.post(\n",
        "  url=f\"{call}/api/auth/login\",\n",
        "  json={\n",
        "    \"userName\": nerde_username,  # Remember to replace your username\n",
        "    \"password\": nerde_password,  # Remember to replace your password\n",
        "    \"rememberMe\": True\n",
        "  }\n",
        ")\n",
        "response\n"
      ],
      "metadata": {
        "id": "1KdLOlCvRWs8",
        "outputId": "4d9ba478-f462-461e-ff90-36aca46dc717",
        "colab": {
          "base_uri": "https://localhost:8080/"
        }
      },
      "execution_count": 3,
      "outputs": [
        {
          "output_type": "execute_result",
          "data": {
            "text/plain": [
              "<Response [200]>"
            ]
          },
          "metadata": {},
          "execution_count": 3
        }
      ]
    },
    {
      "cell_type": "code",
      "source": [
        "token = response.json()\n",
        "\n",
        "key = token['result']['token'] # Your unique key\n",
        "f\"{key[:20]}...{key[-20:]}\""
      ],
      "metadata": {
        "id": "Pd60VRz2SSbA",
        "outputId": "31f3c740-1f65-4c05-bdd5-d892813ce088",
        "colab": {
          "base_uri": "https://localhost:8080/",
          "height": 37
        }
      },
      "execution_count": 4,
      "outputs": [
        {
          "output_type": "execute_result",
          "data": {
            "text/plain": [
              "'eyJhbGciOiJIUzI1NiIs...Wtj9eHVg7JeJPywkKmhs'"
            ],
            "application/vnd.google.colaboratory.intrinsic+json": {
              "type": "string"
            }
          },
          "metadata": {},
          "execution_count": 4
        }
      ]
    },
    {
      "cell_type": "markdown",
      "source": [
        "### Establishing parameters\n",
        "\n",
        "\n"
      ],
      "metadata": {
        "id": "Sb2qGn8OT9gG"
      }
    },
    {
      "cell_type": "code",
      "source": [
        "# FIPS codes\n",
        "my_fips = '24011,24013,24015,24017,24019,24021,24023,24025,24027,24029,24031,24033,24035,24039,24037,24041,24043,24045,24047'\n",
        "# Start and End dates\n",
        "my_start = '2020-01-01'\n",
        "my_end = '2023-01-01'\n"
      ],
      "metadata": {
        "id": "b6AQ8sHHSji6"
      },
      "execution_count": 5,
      "outputs": []
    },
    {
      "cell_type": "markdown",
      "source": [
        "### Defining the function to make the data request\n",
        "\n",
        "\n"
      ],
      "metadata": {
        "id": "9E3TUPXsUW26"
      }
    },
    {
      "cell_type": "code",
      "source": [
        "def NERDE_API(section_url, fips, startdate, enddate):\n",
        "  response = requests.get(\n",
        "    url=f\"{call}{section_url}?county_fips={fips}&start_date={startdate}&end_date={enddate}\",\n",
        "    headers={\"Authorization\": f\"Bearer {key}\"}\n",
        "  ).json()\n",
        "\n",
        "  results_summary_digest = []\n",
        "\n",
        "  # Each county will populate a list, this loops through each called county to parse results\n",
        "  for result in response['result']:\n",
        "    results_summary_digest.append(result)\n",
        "\n",
        "  return results_summary_digest\n"
      ],
      "metadata": {
        "id": "y76H1WxaUUIc"
      },
      "execution_count": 6,
      "outputs": []
    },
    {
      "cell_type": "markdown",
      "source": [
        "## Getting County Level Data\n",
        "\n"
      ],
      "metadata": {
        "id": "6f9GQ6qhVDUQ"
      }
    },
    {
      "cell_type": "markdown",
      "source": [
        "### Summary Data\n",
        "\n"
      ],
      "metadata": {
        "id": "iS9uHmNSVFS5"
      }
    },
    {
      "cell_type": "code",
      "source": [
        "# Create the variable to point to the correct dataset you'd like to pull data from\n",
        "section_url = \"/api/v1/county/explorer/summary\"\n"
      ],
      "metadata": {
        "id": "MKNm4JV0U9wU"
      },
      "execution_count": 7,
      "outputs": []
    },
    {
      "cell_type": "code",
      "source": [
        "# API call\n",
        "summary_digest = NERDE_API(section_url, my_fips, my_start, my_end)\n"
      ],
      "metadata": {
        "id": "9jnCXXYFVrjw"
      },
      "execution_count": 8,
      "outputs": []
    },
    {
      "cell_type": "code",
      "source": [
        "# Create a Pandas DataFrame from summary_digest\n",
        "main_summary_df = pd.json_normalize(summary_digest)\n"
      ],
      "metadata": {
        "id": "etlR9ALGVr9N"
      },
      "execution_count": 9,
      "outputs": []
    },
    {
      "cell_type": "markdown",
      "source": [
        "Our returned dataframe contains binary column data that has been returned as a floating number as well as several missing values. Let's clean that up...\n",
        "\n"
      ],
      "metadata": {
        "id": "-MbaYHSkVTkn"
      }
    },
    {
      "cell_type": "markdown",
      "source": [
        "### Cleaning the Dataframe\n",
        "\n"
      ],
      "metadata": {
        "id": "OKr6Fp7pVUzZ"
      }
    },
    {
      "cell_type": "code",
      "source": [
        "def update_column_values(df, column_name):\n",
        "  # Replace 1.0 with 'Yes' and NaN with 'No'\n",
        "  df[column_name] = df[column_name].apply(lambda x: 'Yes' if x == 1.0 else 'No' if pd.isna(x) else x)\n",
        "\n",
        "  # Set column to string type\n",
        "  df[column_name] = df[column_name].astype(str)\n",
        "\n",
        "  return df\n"
      ],
      "metadata": {
        "id": "e8_5182m69wi"
      },
      "execution_count": 10,
      "outputs": []
    },
    {
      "cell_type": "code",
      "source": [
        "main_summary_df = update_column_values(main_summary_df, 'designated_coal_community')\n",
        "main_summary_df = update_column_values(main_summary_df, 'nuclear_power_plant_present')\n"
      ],
      "metadata": {
        "id": "2_q4cEI2Vp_j"
      },
      "execution_count": 11,
      "outputs": []
    },
    {
      "cell_type": "markdown",
      "source": [
        "### Separate Unemploment data and EDCI Indicators and flattened nested dictionaries\n",
        "\n",
        "\n"
      ],
      "metadata": {
        "id": "4f1sPg9Y63ZO"
      }
    },
    {
      "cell_type": "code",
      "source": [
        "# Create function to un-nest columns\n",
        "def flatten_column_data(df, list_column, county_column='county', code_column='county_fips'):\n",
        "  flattened_rows = []\n",
        "\n",
        "  for _, row in df.iterrows():\n",
        "    county = row[county_column]\n",
        "    code = row[code_column]\n",
        "    for entry in row[list_column]:\n",
        "      flattened_entry = {\n",
        "        'County': county,\n",
        "        'Code': code\n",
        "      }\n",
        "      # Add all key-value pairs from the dictionary to the flattened entry\n",
        "      for key, value in entry.items():\n",
        "        flattened_entry[key] = value\n",
        "      flattened_rows.append(flattened_entry)\n",
        "\n",
        "    return pd.DataFrame(flattened_rows)\n"
      ],
      "metadata": {
        "id": "LeNscPTO62ju"
      },
      "execution_count": 12,
      "outputs": []
    },
    {
      "cell_type": "code",
      "source": [
        "# Unemployment Data\n",
        "unemployment_edci_data = main_summary_df[['county', 'county_fips', 'local_24month_unemployment_rate_series', 'edci_data']]\n"
      ],
      "metadata": {
        "id": "1teW_dPQUb2D",
        "outputId": "efd82534-d038-4b3b-e03b-6a47bec028f8",
        "colab": {
          "base_uri": "https://localhost:8080/",
          "height": 348
        }
      },
      "execution_count": 13,
      "outputs": [
        {
          "output_type": "error",
          "ename": "KeyError",
          "evalue": "\"['edci_data'] not in index\"",
          "traceback": [
            "\u001b[0;31m---------------------------------------------------------------------------\u001b[0m",
            "\u001b[0;31mKeyError\u001b[0m                                  Traceback (most recent call last)",
            "\u001b[0;32m<ipython-input-13-6d7c140cf891>\u001b[0m in \u001b[0;36m<cell line: 0>\u001b[0;34m()\u001b[0m\n\u001b[1;32m      1\u001b[0m \u001b[0;31m# Unemployment Data\u001b[0m\u001b[0;34m\u001b[0m\u001b[0;34m\u001b[0m\u001b[0m\n\u001b[0;32m----> 2\u001b[0;31m \u001b[0munemployment_edci_data\u001b[0m \u001b[0;34m=\u001b[0m \u001b[0mmain_summary_df\u001b[0m\u001b[0;34m[\u001b[0m\u001b[0;34m[\u001b[0m\u001b[0;34m'county'\u001b[0m\u001b[0;34m,\u001b[0m \u001b[0;34m'county_fips'\u001b[0m\u001b[0;34m,\u001b[0m \u001b[0;34m'local_24month_unemployment_rate_series'\u001b[0m\u001b[0;34m,\u001b[0m \u001b[0;34m'edci_data'\u001b[0m\u001b[0;34m]\u001b[0m\u001b[0;34m]\u001b[0m\u001b[0;34m\u001b[0m\u001b[0;34m\u001b[0m\u001b[0m\n\u001b[0m",
            "\u001b[0;32m/usr/local/lib/python3.11/dist-packages/pandas/core/frame.py\u001b[0m in \u001b[0;36m__getitem__\u001b[0;34m(self, key)\u001b[0m\n\u001b[1;32m   4106\u001b[0m             \u001b[0;32mif\u001b[0m \u001b[0mis_iterator\u001b[0m\u001b[0;34m(\u001b[0m\u001b[0mkey\u001b[0m\u001b[0;34m)\u001b[0m\u001b[0;34m:\u001b[0m\u001b[0;34m\u001b[0m\u001b[0;34m\u001b[0m\u001b[0m\n\u001b[1;32m   4107\u001b[0m                 \u001b[0mkey\u001b[0m \u001b[0;34m=\u001b[0m \u001b[0mlist\u001b[0m\u001b[0;34m(\u001b[0m\u001b[0mkey\u001b[0m\u001b[0;34m)\u001b[0m\u001b[0;34m\u001b[0m\u001b[0;34m\u001b[0m\u001b[0m\n\u001b[0;32m-> 4108\u001b[0;31m             \u001b[0mindexer\u001b[0m \u001b[0;34m=\u001b[0m \u001b[0mself\u001b[0m\u001b[0;34m.\u001b[0m\u001b[0mcolumns\u001b[0m\u001b[0;34m.\u001b[0m\u001b[0m_get_indexer_strict\u001b[0m\u001b[0;34m(\u001b[0m\u001b[0mkey\u001b[0m\u001b[0;34m,\u001b[0m \u001b[0;34m\"columns\"\u001b[0m\u001b[0;34m)\u001b[0m\u001b[0;34m[\u001b[0m\u001b[0;36m1\u001b[0m\u001b[0;34m]\u001b[0m\u001b[0;34m\u001b[0m\u001b[0;34m\u001b[0m\u001b[0m\n\u001b[0m\u001b[1;32m   4109\u001b[0m \u001b[0;34m\u001b[0m\u001b[0m\n\u001b[1;32m   4110\u001b[0m         \u001b[0;31m# take() does not accept boolean indexers\u001b[0m\u001b[0;34m\u001b[0m\u001b[0;34m\u001b[0m\u001b[0m\n",
            "\u001b[0;32m/usr/local/lib/python3.11/dist-packages/pandas/core/indexes/base.py\u001b[0m in \u001b[0;36m_get_indexer_strict\u001b[0;34m(self, key, axis_name)\u001b[0m\n\u001b[1;32m   6198\u001b[0m             \u001b[0mkeyarr\u001b[0m\u001b[0;34m,\u001b[0m \u001b[0mindexer\u001b[0m\u001b[0;34m,\u001b[0m \u001b[0mnew_indexer\u001b[0m \u001b[0;34m=\u001b[0m \u001b[0mself\u001b[0m\u001b[0;34m.\u001b[0m\u001b[0m_reindex_non_unique\u001b[0m\u001b[0;34m(\u001b[0m\u001b[0mkeyarr\u001b[0m\u001b[0;34m)\u001b[0m\u001b[0;34m\u001b[0m\u001b[0;34m\u001b[0m\u001b[0m\n\u001b[1;32m   6199\u001b[0m \u001b[0;34m\u001b[0m\u001b[0m\n\u001b[0;32m-> 6200\u001b[0;31m         \u001b[0mself\u001b[0m\u001b[0;34m.\u001b[0m\u001b[0m_raise_if_missing\u001b[0m\u001b[0;34m(\u001b[0m\u001b[0mkeyarr\u001b[0m\u001b[0;34m,\u001b[0m \u001b[0mindexer\u001b[0m\u001b[0;34m,\u001b[0m \u001b[0maxis_name\u001b[0m\u001b[0;34m)\u001b[0m\u001b[0;34m\u001b[0m\u001b[0;34m\u001b[0m\u001b[0m\n\u001b[0m\u001b[1;32m   6201\u001b[0m \u001b[0;34m\u001b[0m\u001b[0m\n\u001b[1;32m   6202\u001b[0m         \u001b[0mkeyarr\u001b[0m \u001b[0;34m=\u001b[0m \u001b[0mself\u001b[0m\u001b[0;34m.\u001b[0m\u001b[0mtake\u001b[0m\u001b[0;34m(\u001b[0m\u001b[0mindexer\u001b[0m\u001b[0;34m)\u001b[0m\u001b[0;34m\u001b[0m\u001b[0;34m\u001b[0m\u001b[0m\n",
            "\u001b[0;32m/usr/local/lib/python3.11/dist-packages/pandas/core/indexes/base.py\u001b[0m in \u001b[0;36m_raise_if_missing\u001b[0;34m(self, key, indexer, axis_name)\u001b[0m\n\u001b[1;32m   6250\u001b[0m \u001b[0;34m\u001b[0m\u001b[0m\n\u001b[1;32m   6251\u001b[0m             \u001b[0mnot_found\u001b[0m \u001b[0;34m=\u001b[0m \u001b[0mlist\u001b[0m\u001b[0;34m(\u001b[0m\u001b[0mensure_index\u001b[0m\u001b[0;34m(\u001b[0m\u001b[0mkey\u001b[0m\u001b[0;34m)\u001b[0m\u001b[0;34m[\u001b[0m\u001b[0mmissing_mask\u001b[0m\u001b[0;34m.\u001b[0m\u001b[0mnonzero\u001b[0m\u001b[0;34m(\u001b[0m\u001b[0;34m)\u001b[0m\u001b[0;34m[\u001b[0m\u001b[0;36m0\u001b[0m\u001b[0;34m]\u001b[0m\u001b[0;34m]\u001b[0m\u001b[0;34m.\u001b[0m\u001b[0munique\u001b[0m\u001b[0;34m(\u001b[0m\u001b[0;34m)\u001b[0m\u001b[0;34m)\u001b[0m\u001b[0;34m\u001b[0m\u001b[0;34m\u001b[0m\u001b[0m\n\u001b[0;32m-> 6252\u001b[0;31m             \u001b[0;32mraise\u001b[0m \u001b[0mKeyError\u001b[0m\u001b[0;34m(\u001b[0m\u001b[0;34mf\"{not_found} not in index\"\u001b[0m\u001b[0;34m)\u001b[0m\u001b[0;34m\u001b[0m\u001b[0;34m\u001b[0m\u001b[0m\n\u001b[0m\u001b[1;32m   6253\u001b[0m \u001b[0;34m\u001b[0m\u001b[0m\n\u001b[1;32m   6254\u001b[0m     \u001b[0;34m@\u001b[0m\u001b[0moverload\u001b[0m\u001b[0;34m\u001b[0m\u001b[0;34m\u001b[0m\u001b[0m\n",
            "\u001b[0;31mKeyError\u001b[0m: \"['edci_data'] not in index\""
          ]
        }
      ]
    },
    {
      "cell_type": "code",
      "source": [
        "# Create a new unemployment DataFrame with flattened data\n",
        "flattened_unemployment_data = flatten_column_data(unemployment_edci_data, 'local_24month_unemployment_rate_series')\n"
      ],
      "metadata": {
        "id": "95H-yGRRUf67",
        "outputId": "8545e888-a8ac-4553-d50c-ead6e7b70456",
        "colab": {
          "base_uri": "https://localhost:8080/",
          "height": 171
        }
      },
      "execution_count": 14,
      "outputs": [
        {
          "output_type": "error",
          "ename": "NameError",
          "evalue": "name 'unemployment_edci_data' is not defined",
          "traceback": [
            "\u001b[0;31m---------------------------------------------------------------------------\u001b[0m",
            "\u001b[0;31mNameError\u001b[0m                                 Traceback (most recent call last)",
            "\u001b[0;32m<ipython-input-14-a37b53bbe9c5>\u001b[0m in \u001b[0;36m<cell line: 0>\u001b[0;34m()\u001b[0m\n\u001b[1;32m      1\u001b[0m \u001b[0;31m# Create a new unemployment DataFrame with flattened data\u001b[0m\u001b[0;34m\u001b[0m\u001b[0;34m\u001b[0m\u001b[0m\n\u001b[0;32m----> 2\u001b[0;31m \u001b[0mflattened_unemployment_data\u001b[0m \u001b[0;34m=\u001b[0m \u001b[0mflatten_column_data\u001b[0m\u001b[0;34m(\u001b[0m\u001b[0munemployment_edci_data\u001b[0m\u001b[0;34m,\u001b[0m \u001b[0;34m'local_24month_unemployment_rate_series'\u001b[0m\u001b[0;34m)\u001b[0m\u001b[0;34m\u001b[0m\u001b[0;34m\u001b[0m\u001b[0m\n\u001b[0m",
            "\u001b[0;31mNameError\u001b[0m: name 'unemployment_edci_data' is not defined"
          ]
        }
      ]
    },
    {
      "cell_type": "code",
      "source": [
        "# EDCI Indicators Data\n",
        "edci_data = main_summary_df[['county', 'county_fips', 'edci_indicators']]\n"
      ],
      "metadata": {
        "id": "Jb_QHNsaUkQO"
      },
      "execution_count": 15,
      "outputs": []
    },
    {
      "cell_type": "code",
      "source": [
        "# Create a new EDCI DataFrame with flattened data\n",
        "flattened_edci_data = flatten_column_data(edci_data, 'edci_indicators')\n"
      ],
      "metadata": {
        "id": "LKLIjKtMUryg"
      },
      "execution_count": 16,
      "outputs": []
    },
    {
      "cell_type": "markdown",
      "source": [
        "> **Tip**\n",
        ">\n",
        "> If you run into `KeyError: 'result'` the API Key has expired and you should re-run the section [Obtaining an API Token](#obtaining-an-api-token)\n",
        "\n"
      ],
      "metadata": {
        "id": "zTUNXjEr6tX2"
      }
    },
    {
      "cell_type": "markdown",
      "source": [
        "### Demographics\n",
        "\n"
      ],
      "metadata": {
        "id": "Lj8VvDuH6q_O"
      }
    },
    {
      "cell_type": "code",
      "source": [
        "# Demographics API end point\n",
        "demographics_url=\"/api/v1/county/explorer/demographics\"\n"
      ],
      "metadata": {
        "id": "1_NhUg426qPa"
      },
      "execution_count": 17,
      "outputs": []
    },
    {
      "cell_type": "code",
      "source": [
        "# Calling the API\n",
        "demographics_digest = NERDE_API(demographics_url, my_fips, my_start, my_end)\n"
      ],
      "metadata": {
        "id": "h6POOXs5U0c7"
      },
      "execution_count": 18,
      "outputs": []
    },
    {
      "cell_type": "code",
      "source": [
        "# Turn response into Dataframe\n",
        "demographics_df = pd.json_normalize(demographics_digest)\n"
      ],
      "metadata": {
        "id": "ISFjJjObU08q"
      },
      "execution_count": 19,
      "outputs": []
    },
    {
      "cell_type": "code",
      "source": [
        "# Annual Demographics Dataframe\n",
        "demographics_nested_df = demographics[['county', 'county_fips', 'annual_demographics']]\n"
      ],
      "metadata": {
        "id": "Pmvyl9j7U1aD",
        "outputId": "6f262cab-987e-434d-da9a-734d8f62bc71",
        "colab": {
          "base_uri": "https://localhost:8080/",
          "height": 171
        }
      },
      "execution_count": 20,
      "outputs": [
        {
          "output_type": "error",
          "ename": "NameError",
          "evalue": "name 'demographics' is not defined",
          "traceback": [
            "\u001b[0;31m---------------------------------------------------------------------------\u001b[0m",
            "\u001b[0;31mNameError\u001b[0m                                 Traceback (most recent call last)",
            "\u001b[0;32m<ipython-input-20-7c61a5fd4dda>\u001b[0m in \u001b[0;36m<cell line: 0>\u001b[0;34m()\u001b[0m\n\u001b[1;32m      1\u001b[0m \u001b[0;31m# Annual Demographics Dataframe\u001b[0m\u001b[0;34m\u001b[0m\u001b[0;34m\u001b[0m\u001b[0m\n\u001b[0;32m----> 2\u001b[0;31m \u001b[0mdemographics_nested_df\u001b[0m \u001b[0;34m=\u001b[0m \u001b[0mdemographics\u001b[0m\u001b[0;34m[\u001b[0m\u001b[0;34m[\u001b[0m\u001b[0;34m'county'\u001b[0m\u001b[0;34m,\u001b[0m \u001b[0;34m'county_fips'\u001b[0m\u001b[0;34m,\u001b[0m \u001b[0;34m'annual_demographics'\u001b[0m\u001b[0;34m]\u001b[0m\u001b[0;34m]\u001b[0m\u001b[0;34m\u001b[0m\u001b[0;34m\u001b[0m\u001b[0m\n\u001b[0m",
            "\u001b[0;31mNameError\u001b[0m: name 'demographics' is not defined"
          ]
        }
      ]
    },
    {
      "cell_type": "code",
      "source": [
        "# Annual Demographics Un-nested\n",
        "demographics_annnual_df = flatten_column_data(demographics_annual, 'annual_demographics')\n"
      ],
      "metadata": {
        "id": "L81XoDTqU1z4",
        "outputId": "25e8c529-0a9a-4750-ffaf-ac3f3c46b6be",
        "colab": {
          "base_uri": "https://localhost:8080/",
          "height": 171
        }
      },
      "execution_count": 21,
      "outputs": [
        {
          "output_type": "error",
          "ename": "NameError",
          "evalue": "name 'demographics_annual' is not defined",
          "traceback": [
            "\u001b[0;31m---------------------------------------------------------------------------\u001b[0m",
            "\u001b[0;31mNameError\u001b[0m                                 Traceback (most recent call last)",
            "\u001b[0;32m<ipython-input-21-49a6daeca011>\u001b[0m in \u001b[0;36m<cell line: 0>\u001b[0;34m()\u001b[0m\n\u001b[1;32m      1\u001b[0m \u001b[0;31m# Annual Demographics Un-nested\u001b[0m\u001b[0;34m\u001b[0m\u001b[0;34m\u001b[0m\u001b[0m\n\u001b[0;32m----> 2\u001b[0;31m \u001b[0mdemographics_annnual_df\u001b[0m \u001b[0;34m=\u001b[0m \u001b[0mflatten_column_data\u001b[0m\u001b[0;34m(\u001b[0m\u001b[0mdemographics_annual\u001b[0m\u001b[0;34m,\u001b[0m \u001b[0;34m'annual_demographics'\u001b[0m\u001b[0;34m)\u001b[0m\u001b[0;34m\u001b[0m\u001b[0;34m\u001b[0m\u001b[0m\n\u001b[0m",
            "\u001b[0;31mNameError\u001b[0m: name 'demographics_annual' is not defined"
          ]
        }
      ]
    },
    {
      "cell_type": "markdown",
      "source": [
        "### Housing\n"
      ],
      "metadata": {
        "id": "mC3MO4XC7PJ3"
      }
    },
    {
      "cell_type": "code",
      "source": [
        "#Housing API end point\n",
        "housing_url=\"/api/v1/county/explorer/housing\"\n"
      ],
      "metadata": {
        "id": "leq2YbVx7Oof"
      },
      "execution_count": 22,
      "outputs": []
    },
    {
      "cell_type": "code",
      "source": [
        "# Calling the API\n",
        "housing_digest = NERDE_API(housing_url, my_fips, my_start, my_end)\n"
      ],
      "metadata": {
        "id": "EzBkwZhEU_38"
      },
      "execution_count": 23,
      "outputs": []
    },
    {
      "cell_type": "code",
      "source": [
        "# Turn response into Dataframe\n",
        "housing_df = pd.json_normalize(housing_digest)\n"
      ],
      "metadata": {
        "id": "LPQjoveBU_Yb"
      },
      "execution_count": 24,
      "outputs": []
    },
    {
      "cell_type": "markdown",
      "source": [
        "### Workforce\n",
        "\n"
      ],
      "metadata": {
        "id": "NGMOPQzT6oAT"
      }
    },
    {
      "cell_type": "code",
      "source": [
        "# Workforce API end point\n",
        "workforce_url = \"/api/v1/county/explorer/workforce\"\n"
      ],
      "metadata": {
        "id": "U69y1yHD6nXl"
      },
      "execution_count": 25,
      "outputs": []
    },
    {
      "cell_type": "code",
      "source": [
        "# Calling the API\n",
        "workforce_digest = NERDE_API(workforce_url, my_fips, my_start, my_end)\n"
      ],
      "metadata": {
        "id": "SJ1r4tJmVDoi"
      },
      "execution_count": 26,
      "outputs": []
    },
    {
      "cell_type": "code",
      "source": [
        "# Turn response into Dataframe\n",
        "workforce_df = pd.json_normalize(workforce_digest)\n"
      ],
      "metadata": {
        "id": "9d_NrbwTVEWS"
      },
      "execution_count": 27,
      "outputs": []
    },
    {
      "cell_type": "code",
      "source": [
        "# Monthly Economic Statistics Dataframe\n",
        "workforce_monthly_stats = workforce_df[['county', 'county_fips', 'monthly_economic_stats']]\n"
      ],
      "metadata": {
        "id": "v-ctn7s7VEtY"
      },
      "execution_count": 28,
      "outputs": []
    },
    {
      "cell_type": "code",
      "source": [
        "# Monthly Economic Statistics Un-nested\n",
        "workforce_monthly_stats_flattened = flatten_column_data(workforce_monthly_stats, 'monthly_economic_stats')\n"
      ],
      "metadata": {
        "id": "7ZcppaKkVFDw"
      },
      "execution_count": 29,
      "outputs": []
    },
    {
      "cell_type": "markdown",
      "source": [
        "### Local Economy\n",
        "\n"
      ],
      "metadata": {
        "id": "dFN2hhq66lwb"
      }
    },
    {
      "cell_type": "code",
      "source": [
        "# Local Economy URL\n",
        "localeconomy_url = \"/api/v1/county/explorer/localeconomy\"\n"
      ],
      "metadata": {
        "id": "l2Q2XWQa6lHI"
      },
      "execution_count": 30,
      "outputs": []
    },
    {
      "cell_type": "code",
      "source": [
        "# Calling the API\n",
        "localeconomy_digest = NERDE_API(localeconomy_url, my_fips, my_start, my_end)\n"
      ],
      "metadata": {
        "id": "tclaG2cwVKqG"
      },
      "execution_count": 31,
      "outputs": []
    },
    {
      "cell_type": "code",
      "source": [
        "# Turn response into Dataframe\n",
        "localeconomy_df = pd.json_normalize(localeconomy_digest)\n"
      ],
      "metadata": {
        "id": "8Pl26ZDwVLXM"
      },
      "execution_count": 32,
      "outputs": []
    },
    {
      "cell_type": "code",
      "source": [
        "# Industry Employment Dataframe\n",
        "localeconomy_industry_employment_series = localeconomy_df[['county', 'county_fips', 'state', 'industry_employment_series']]\n"
      ],
      "metadata": {
        "id": "UYDSVKkPVL7A"
      },
      "execution_count": 33,
      "outputs": []
    },
    {
      "cell_type": "code",
      "source": [
        "# Industry Employment Un-nested\n",
        "localeconomy_industry_employment_series_flattened = flatten_column_data(localeconomy_industry_employment_series, 'industry_employment_series')\n"
      ],
      "metadata": {
        "id": "PgT4k2IsVMUv"
      },
      "execution_count": 34,
      "outputs": []
    },
    {
      "cell_type": "code",
      "source": [
        "# Industry GDP Dataframe\n",
        "localeconomy_industry_gdp_series = localeconomy_df[['county', 'county_fips', 'state', 'industry_gdp_series']]\n"
      ],
      "metadata": {
        "id": "FrXA9yYaVMsF"
      },
      "execution_count": 35,
      "outputs": []
    },
    {
      "cell_type": "code",
      "source": [
        "# Industry GDP Un-nested\n",
        "localeconomy_industry_gdp_series_flattened = flatten_column_data(localeconomy_industry_gdp_series, 'industry_gdp_series')\n"
      ],
      "metadata": {
        "id": "RMGM1QdKVNCk"
      },
      "execution_count": 36,
      "outputs": []
    },
    {
      "cell_type": "markdown",
      "source": [
        "### Industry Trends\n",
        "\n"
      ],
      "metadata": {
        "id": "KEUDLnij6hnw"
      }
    },
    {
      "cell_type": "code",
      "source": [
        "# Industry Trends URL\n",
        "industrytrends_url=\"/api/v1/county/explorer/industrytrends\"\n"
      ],
      "metadata": {
        "id": "lgLG5RFg6g1w"
      },
      "execution_count": 37,
      "outputs": []
    },
    {
      "cell_type": "code",
      "source": [
        "# Calling the API\n",
        "industry_digest = NERDE_API(industrytrends_url, my_fips, my_start, my_end)\n"
      ],
      "metadata": {
        "id": "DFIXzl2pVVo5"
      },
      "execution_count": 38,
      "outputs": []
    },
    {
      "cell_type": "code",
      "source": [
        "# Turn response into Dataframe\n",
        "industry_df = pd.json_normalize(industry_digest)\n"
      ],
      "metadata": {
        "id": "WeJETR9dVWTu"
      },
      "execution_count": 39,
      "outputs": []
    },
    {
      "cell_type": "code",
      "source": [
        "# Industry Employment Dataframe\n",
        "industry_location_quotient_series_df = industry_df[['county', 'county_fips', 'location_quotient_series']]\n"
      ],
      "metadata": {
        "id": "58rCZI_sVWsF"
      },
      "execution_count": 40,
      "outputs": []
    },
    {
      "cell_type": "code",
      "source": [
        "# Industry Employment Un-nested\n",
        "industry_location_quotient_series_df_flattened = flatten_column_data(industry_location_quotient_series_df, 'location_quotient_series')\n"
      ],
      "metadata": {
        "id": "ikYiyZ-2VXB9"
      },
      "execution_count": 41,
      "outputs": []
    },
    {
      "cell_type": "markdown",
      "source": [
        "### Risk And Resilience\n"
      ],
      "metadata": {
        "id": "m7v2akmF6VLz"
      }
    },
    {
      "cell_type": "code",
      "source": [
        "# Rist and Resilience URL\n",
        "risk_url=\"/api/v1/county/explorer/riskresilience\"\n"
      ],
      "metadata": {
        "id": "wsLNXove6Twy"
      },
      "execution_count": 42,
      "outputs": []
    },
    {
      "cell_type": "code",
      "source": [
        "# Calling the API\n",
        "risk_digest = NERDE_API(risk_url, my_fips, my_start, my_end)\n"
      ],
      "metadata": {
        "id": "oaTkJ0URVcDC"
      },
      "execution_count": 43,
      "outputs": []
    },
    {
      "cell_type": "code",
      "source": [
        "# Turn response into Dataframe\n",
        "risk_df = pd.json_normalize(risk_digest)\n"
      ],
      "metadata": {
        "id": "DUsDNddGVclr"
      },
      "execution_count": 44,
      "outputs": []
    },
    {
      "cell_type": "code",
      "source": [
        "# Rename Column\n",
        "risk_df.rename(columns={\"geo_fips\": \"county_fips\"}, inplace=True)\n"
      ],
      "metadata": {
        "id": "jV2fpJbaVc9x"
      },
      "execution_count": 45,
      "outputs": []
    },
    {
      "cell_type": "code",
      "source": [
        "# Risk FEMA Disaster Declarations Dataframe\n",
        "risk_fema_disaster_dec_df = risk_df[['county', 'county_fips', 'fema_disaster_declarations']]\n"
      ],
      "metadata": {
        "id": "5wf_DHwGVdUH"
      },
      "execution_count": 46,
      "outputs": []
    },
    {
      "cell_type": "code",
      "source": [
        "# Risk FEMA Disaster Declarations Un-nested\n",
        "risk_fema_disaster_dec_df_flatten = flatten_column_data(risk_fema_disaster_dec_df, 'fema_disaster_declarations')\n"
      ],
      "metadata": {
        "id": "rBp8hLk6VdrB"
      },
      "execution_count": 47,
      "outputs": []
    },
    {
      "cell_type": "code",
      "source": [],
      "metadata": {
        "id": "9VSUNcKwVWed"
      },
      "execution_count": 47,
      "outputs": []
    }
  ]
}
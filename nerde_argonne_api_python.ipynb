{
  "nbformat": 4,
  "nbformat_minor": 0,
  "metadata": {
    "colab": {
      "provenance": [],
      "toc_visible": true,
      "authorship_tag": "ABX9TyO4zKs5hs6fxb7G8XbzpW2K",
      "include_colab_link": true
    },
    "kernelspec": {
      "name": "python3",
      "display_name": "Python 3"
    },
    "language_info": {
      "name": "python"
    }
  },
  "cells": [
    {
      "cell_type": "markdown",
      "metadata": {
        "id": "view-in-github",
        "colab_type": "text"
      },
      "source": [
        "<a href=\"https://colab.research.google.com/github/rwcitek/anl-nerde/blob/rwc/nerde_argonne_api_python.ipynb\" target=\"_parent\"><img src=\"https://colab.research.google.com/assets/colab-badge.svg\" alt=\"Open In Colab\"/></a>"
      ]
    },
    {
      "cell_type": "markdown",
      "source": [
        "# NERDE API via Python\n",
        "\n"
      ],
      "metadata": {
        "id": "5U6FRlgYE27G"
      }
    },
    {
      "cell_type": "markdown",
      "source": [
        "NERDE ( National Economic Resilience Data Explorer )\n",
        "\n",
        "\n",
        "\n",
        "- https://www.anl.gov/dis/national-economic-resilience-data-explorer-nerde\n",
        "- https://nerde.anl.gov/\n",
        "- [Introduction to Nerde]( https://youtu.be/FCzSLtNCG5U?feature=shared ) on YouTube\n",
        "- [API Docs]( https://nerde.anl.gov/resources/api-documentation )\n",
        "  - [account registration/sign in]( https://nerde.anl.gov/auth/login )\n"
      ],
      "metadata": {
        "id": "mwLiCi8vJYJC"
      }
    },
    {
      "cell_type": "markdown",
      "source": [
        "Other resources:\n",
        "- [Federal Information Processing Standards (FIPS) ]( https://en.wikipedia.org/wiki/Federal_Information_Processing_Standards )"
      ],
      "metadata": {
        "id": "Kxk7tZ2UE23_"
      }
    },
    {
      "cell_type": "markdown",
      "source": [
        "## Setting up the Request\n"
      ],
      "metadata": {
        "id": "IKUs0LtjUBjg"
      }
    },
    {
      "cell_type": "markdown",
      "source": [
        "### Obtaining an API Token\n"
      ],
      "metadata": {
        "id": "4pVIavG1UHGQ"
      }
    },
    {
      "cell_type": "code",
      "source": [
        "# Get u/p credentials from Colab Vault\n",
        "from google.colab import userdata\n",
        "\n",
        "nerde_username = userdata.get('nerde_username')\n",
        "nerde_password = userdata.get('nerde_password')\n"
      ],
      "metadata": {
        "id": "n8MATwUc-q2l"
      },
      "execution_count": 1,
      "outputs": []
    },
    {
      "cell_type": "code",
      "source": [
        "import requests\n",
        "import json\n",
        "import pandas as pd\n"
      ],
      "metadata": {
        "id": "hXPVU0H6AEya"
      },
      "execution_count": 2,
      "outputs": []
    },
    {
      "cell_type": "code",
      "source": [
        "call = \"https://nerde.anl.gov\"\n",
        "\n",
        "# Pull API Token\n",
        "response = requests.post(\n",
        "  url=f\"{call}/api/auth/login\",\n",
        "  json={\n",
        "    \"userName\": nerde_username,  # Remember to replace your username\n",
        "    \"password\": nerde_password,  # Remember to replace your password\n",
        "    \"rememberMe\": True\n",
        "  }\n",
        ")\n",
        "response\n"
      ],
      "metadata": {
        "id": "1KdLOlCvRWs8",
        "outputId": "d1a9dd74-465c-4c19-a2c8-b49affd77b7b",
        "colab": {
          "base_uri": "https://localhost:8080/"
        }
      },
      "execution_count": 3,
      "outputs": [
        {
          "output_type": "execute_result",
          "data": {
            "text/plain": [
              "<Response [200]>"
            ]
          },
          "metadata": {},
          "execution_count": 3
        }
      ]
    },
    {
      "cell_type": "code",
      "source": [
        "token = response.json()\n",
        "\n",
        "key = token['result']['token'] # Your unique key\n",
        "f\"{key[:20]}...{key[-20:]}\""
      ],
      "metadata": {
        "id": "Pd60VRz2SSbA",
        "outputId": "d3cb4384-daee-419a-8118-1eec083023df",
        "colab": {
          "base_uri": "https://localhost:8080/",
          "height": 37
        }
      },
      "execution_count": 4,
      "outputs": [
        {
          "output_type": "execute_result",
          "data": {
            "text/plain": [
              "'eyJhbGciOiJIUzI1NiIs...hPJkyIgymqQUI99jwG-4'"
            ],
            "application/vnd.google.colaboratory.intrinsic+json": {
              "type": "string"
            }
          },
          "metadata": {},
          "execution_count": 4
        }
      ]
    },
    {
      "cell_type": "markdown",
      "source": [
        "### Establishing parameters\n",
        "\n",
        "\n"
      ],
      "metadata": {
        "id": "Sb2qGn8OT9gG"
      }
    },
    {
      "cell_type": "code",
      "source": [
        "# FIPS codes\n",
        "my_fips = '24011,24013,24015,24017,24019,24021,24023,24025,24027,24029,24031,24033,24035,24039,24037,24041,24043,24045,24047'\n",
        "# Start and End dates\n",
        "my_start = '2020-01-01'\n",
        "my_end = '2023-01-01'\n"
      ],
      "metadata": {
        "id": "b6AQ8sHHSji6"
      },
      "execution_count": 5,
      "outputs": []
    },
    {
      "cell_type": "markdown",
      "source": [
        "### Defining the function to make the data request\n",
        "\n",
        "\n"
      ],
      "metadata": {
        "id": "9E3TUPXsUW26"
      }
    },
    {
      "cell_type": "code",
      "source": [
        "def NERDE_API(section_url, fips=\"24011\", startdate='2020-01-01', enddate='2023-01-01'):\n",
        "  response = requests.get(\n",
        "    url=f\"{call}{section_url}?county_fips={fips}&start_date={startdate}&end_date={enddate}\",\n",
        "    headers={\"Authorization\": f\"Bearer {key}\"}\n",
        "  ).json()\n",
        "\n",
        "  # Each county will populate a list, this loops through each called county to parse results\n",
        "  results_summary_digest = [ result for result in response['result'] ]\n",
        "\n",
        "  return results_summary_digest\n"
      ],
      "metadata": {
        "id": "y76H1WxaUUIc"
      },
      "execution_count": 6,
      "outputs": []
    },
    {
      "cell_type": "markdown",
      "source": [
        "## Getting County Level Data\n",
        "\n"
      ],
      "metadata": {
        "id": "6f9GQ6qhVDUQ"
      }
    },
    {
      "cell_type": "markdown",
      "source": [
        "### Summary Data\n",
        "\n"
      ],
      "metadata": {
        "id": "iS9uHmNSVFS5"
      }
    },
    {
      "cell_type": "code",
      "source": [
        "# Create the variable to point to the correct dataset you'd like to pull data from\n",
        "section_url = \"/api/v1/county/explorer/summary\"\n"
      ],
      "metadata": {
        "id": "MKNm4JV0U9wU"
      },
      "execution_count": 7,
      "outputs": []
    },
    {
      "cell_type": "code",
      "source": [
        "# API call\n",
        "summary_digest = NERDE_API(section_url, my_fips, my_start, my_end)\n"
      ],
      "metadata": {
        "id": "9jnCXXYFVrjw"
      },
      "execution_count": 8,
      "outputs": []
    },
    {
      "cell_type": "code",
      "source": [
        "type(summary_digest)"
      ],
      "metadata": {
        "colab": {
          "base_uri": "https://localhost:8080/"
        },
        "id": "aNfloOyDK4T4",
        "outputId": "be32a3f8-342a-4b46-d345-e51288915978"
      },
      "execution_count": 9,
      "outputs": [
        {
          "output_type": "execute_result",
          "data": {
            "text/plain": [
              "list"
            ]
          },
          "metadata": {},
          "execution_count": 9
        }
      ]
    },
    {
      "cell_type": "code",
      "source": [
        "# Create a Pandas DataFrame from summary_digest\n",
        "main_summary_df = pd.json_normalize(summary_digest)\n"
      ],
      "metadata": {
        "id": "etlR9ALGVr9N"
      },
      "execution_count": 10,
      "outputs": []
    },
    {
      "cell_type": "code",
      "source": [
        "main_summary_df.shape"
      ],
      "metadata": {
        "colab": {
          "base_uri": "https://localhost:8080/"
        },
        "id": "ILKZjKywLIZU",
        "outputId": "85419102-1e9f-433b-bd42-bf2c46641223"
      },
      "execution_count": 11,
      "outputs": [
        {
          "output_type": "execute_result",
          "data": {
            "text/plain": [
              "(19, 14)"
            ]
          },
          "metadata": {},
          "execution_count": 11
        }
      ]
    },
    {
      "cell_type": "code",
      "source": [
        "main_summary_df"
      ],
      "metadata": {
        "colab": {
          "base_uri": "https://localhost:8080/",
          "height": 1000
        },
        "id": "tR5TKPJ5LIWM",
        "outputId": "ea2e34c0-ae5d-4580-a6bc-60d5fa86d6de"
      },
      "execution_count": 12,
      "outputs": [
        {
          "output_type": "execute_result",
          "data": {
            "text/plain": [
              "   county_fips                  county     state  total_population  \\\n",
              "0        24011         Caroline County  Maryland             33406   \n",
              "1        24013          Carroll County  Maryland            174318   \n",
              "2        24015            Cecil County  Maryland            104366   \n",
              "3        24017          Charles County  Maryland            168710   \n",
              "4        24019       Dorchester County  Maryland             32612   \n",
              "5        24021        Frederick County  Maryland            280341   \n",
              "6        24023          Garrett County  Maryland             28713   \n",
              "7        24025          Harford County  Maryland            262509   \n",
              "8        24027           Howard County  Maryland            333916   \n",
              "9        24029             Kent County  Maryland             19265   \n",
              "10       24031       Montgomery County  Maryland           1057586   \n",
              "11       24033  Prince George's County  Maryland            955584   \n",
              "12       24035     Queen Anne's County  Maryland             50951   \n",
              "13       24037       St. Mary's County  Maryland            114372   \n",
              "14       24039         Somerset County  Maryland             24685   \n",
              "15       24041           Talbot County  Maryland             37707   \n",
              "16       24043       Washington County  Maryland            155033   \n",
              "17       24045         Wicomico County  Maryland            104117   \n",
              "18       24047        Worcester County  Maryland             53279   \n",
              "\n",
              "    census_per_capita_income  designated_coal_community adjacent_tribal_land  \\\n",
              "0                      33898                        NaN                 None   \n",
              "1                      51465                        NaN                 None   \n",
              "2                      42560                        NaN                 None   \n",
              "3                      50540                        1.0                 None   \n",
              "4                      34780                        NaN                 None   \n",
              "5                      53316                        1.0                 None   \n",
              "6                      42328                        1.0                 None   \n",
              "7                      50861                        NaN                 None   \n",
              "8                      65860                        NaN                 None   \n",
              "9                      45817                        NaN                 None   \n",
              "10                     66124                        1.0                 None   \n",
              "11                     45287                        1.0                 None   \n",
              "12                     54824                        NaN                 None   \n",
              "13                     51358                        1.0                 None   \n",
              "14                     26031                        NaN                 None   \n",
              "15                     53527                        NaN                 None   \n",
              "16                     37391                        1.0                 None   \n",
              "17                     36856                        NaN                 None   \n",
              "18                     51620                        NaN                 None   \n",
              "\n",
              "   nuclear_power_plant_present persistent_poverty_designation  pct_urban_2020  \\\n",
              "0                         None                             No        0.150452   \n",
              "1                         None                             No        0.577612   \n",
              "2                         None                             No        0.516520   \n",
              "3                         None                             No        0.715851   \n",
              "4                         None                             No        0.460422   \n",
              "5                         None                             No        0.724588   \n",
              "6                         None                             No        0.157884   \n",
              "7                         None                             No        0.790713   \n",
              "8                         None                             No        0.881225   \n",
              "9                         None                             No        0.303730   \n",
              "10                        None                             No        0.973206   \n",
              "11                        None                             No        0.975654   \n",
              "12                        None                             No        0.409733   \n",
              "13                        None                             No        0.432557   \n",
              "14                        None                             No        0.402721   \n",
              "15                        None                             No        0.480547   \n",
              "16                        None                             No        0.677729   \n",
              "17                        None                             No        0.731301   \n",
              "18                        None                             No        0.590412   \n",
              "\n",
              "    pct_rural_2020  bea_per_capita_income  \\\n",
              "0         0.849548                  56447   \n",
              "1         0.422388                  74895   \n",
              "2         0.483480                  59373   \n",
              "3         0.284149                  66642   \n",
              "4         0.539578                  57060   \n",
              "5         0.275412                  76664   \n",
              "6         0.842116                  57525   \n",
              "7         0.209287                  71196   \n",
              "8         0.118775                  95529   \n",
              "9         0.696270                  77025   \n",
              "10        0.026794                 100044   \n",
              "11        0.024346                  57096   \n",
              "12        0.590267                  83650   \n",
              "13        0.567443                  70353   \n",
              "14        0.597279                  37345   \n",
              "15        0.519453                  98166   \n",
              "16        0.322271                  56174   \n",
              "17        0.268699                  48596   \n",
              "18        0.409588                  68163   \n",
              "\n",
              "               local_24month_unemployment_rate_series  \\\n",
              "0   [{'value': 0.0372016509117358, 'timestamp': '2...   \n",
              "1   [{'value': 0.0296015539496292, 'timestamp': '2...   \n",
              "2   [{'value': 0.0397263205400315, 'timestamp': '2...   \n",
              "3   [{'value': 0.0352469640229852, 'timestamp': '2...   \n",
              "4   [{'value': 0.0424337032877077, 'timestamp': '2...   \n",
              "5   [{'value': 0.0290808153505861, 'timestamp': '2...   \n",
              "6   [{'value': 0.0427417766397479, 'timestamp': '2...   \n",
              "7   [{'value': 0.0331162769451329, 'timestamp': '2...   \n",
              "8   [{'value': 0.0285709624218793, 'timestamp': '2...   \n",
              "9   [{'value': 0.0411409553474282, 'timestamp': '2...   \n",
              "10  [{'value': 0.027514941376345, 'timestamp': '20...   \n",
              "11  [{'value': 0.0364871056149868, 'timestamp': '2...   \n",
              "12  [{'value': 0.0307078083924878, 'timestamp': '2...   \n",
              "13  [{'value': 0.0322113044568713, 'timestamp': '2...   \n",
              "14  [{'value': 0.049301814478304, 'timestamp': '20...   \n",
              "15  [{'value': 0.0364498145941086, 'timestamp': '2...   \n",
              "16  [{'value': 0.0402185142231589, 'timestamp': '2...   \n",
              "17  [{'value': 0.0416661303609123, 'timestamp': '2...   \n",
              "18  [{'value': 0.0573898088983114, 'timestamp': '2...   \n",
              "\n",
              "                                      edci_indicators  \n",
              "0   [{'score': -1.69499694620526, 'capacity': 'Inf...  \n",
              "1   [{'score': -1.63513699632672, 'capacity': 'Inf...  \n",
              "2   [{'score': -1.80146427534243, 'capacity': 'Inf...  \n",
              "3   [{'score': -3, 'capacity': 'Infrastructure', '...  \n",
              "4   [{'score': -1.23962080337455, 'capacity': 'Hum...  \n",
              "5   [{'score': -1.62025812191036, 'capacity': 'Inf...  \n",
              "6   [{'score': -2.01058199858782, 'capacity': 'Inf...  \n",
              "7   [{'score': -3, 'capacity': 'Infrastructure', '...  \n",
              "8   [{'score': -2.09380757210108, 'capacity': 'Ind...  \n",
              "9   [{'score': -1.13022441291406, 'capacity': 'Ins...  \n",
              "10  [{'score': -3, 'capacity': 'Industry Compositi...  \n",
              "11  [{'score': -3, 'capacity': 'Infrastructure', '...  \n",
              "12  [{'score': -2.05663679118475, 'capacity': 'Inf...  \n",
              "13  [{'score': -1.79446683233924, 'capacity': 'Inf...  \n",
              "14  [{'score': -1.89328266698605, 'capacity': 'Hum...  \n",
              "15  [{'score': -1.29166047004015, 'capacity': 'Hum...  \n",
              "16  [{'score': -1.58995808822614, 'capacity': 'Inf...  \n",
              "17  [{'score': -1.47910345549714, 'capacity': 'Inf...  \n",
              "18  [{'score': -1.70451679647425, 'capacity': 'Inf...  "
            ],
            "text/html": [
              "\n",
              "  <div id=\"df-98601af9-2722-4d71-b4b7-86f9d92d641a\" class=\"colab-df-container\">\n",
              "    <div>\n",
              "<style scoped>\n",
              "    .dataframe tbody tr th:only-of-type {\n",
              "        vertical-align: middle;\n",
              "    }\n",
              "\n",
              "    .dataframe tbody tr th {\n",
              "        vertical-align: top;\n",
              "    }\n",
              "\n",
              "    .dataframe thead th {\n",
              "        text-align: right;\n",
              "    }\n",
              "</style>\n",
              "<table border=\"1\" class=\"dataframe\">\n",
              "  <thead>\n",
              "    <tr style=\"text-align: right;\">\n",
              "      <th></th>\n",
              "      <th>county_fips</th>\n",
              "      <th>county</th>\n",
              "      <th>state</th>\n",
              "      <th>total_population</th>\n",
              "      <th>census_per_capita_income</th>\n",
              "      <th>designated_coal_community</th>\n",
              "      <th>adjacent_tribal_land</th>\n",
              "      <th>nuclear_power_plant_present</th>\n",
              "      <th>persistent_poverty_designation</th>\n",
              "      <th>pct_urban_2020</th>\n",
              "      <th>pct_rural_2020</th>\n",
              "      <th>bea_per_capita_income</th>\n",
              "      <th>local_24month_unemployment_rate_series</th>\n",
              "      <th>edci_indicators</th>\n",
              "    </tr>\n",
              "  </thead>\n",
              "  <tbody>\n",
              "    <tr>\n",
              "      <th>0</th>\n",
              "      <td>24011</td>\n",
              "      <td>Caroline County</td>\n",
              "      <td>Maryland</td>\n",
              "      <td>33406</td>\n",
              "      <td>33898</td>\n",
              "      <td>NaN</td>\n",
              "      <td>None</td>\n",
              "      <td>None</td>\n",
              "      <td>No</td>\n",
              "      <td>0.150452</td>\n",
              "      <td>0.849548</td>\n",
              "      <td>56447</td>\n",
              "      <td>[{'value': 0.0372016509117358, 'timestamp': '2...</td>\n",
              "      <td>[{'score': -1.69499694620526, 'capacity': 'Inf...</td>\n",
              "    </tr>\n",
              "    <tr>\n",
              "      <th>1</th>\n",
              "      <td>24013</td>\n",
              "      <td>Carroll County</td>\n",
              "      <td>Maryland</td>\n",
              "      <td>174318</td>\n",
              "      <td>51465</td>\n",
              "      <td>NaN</td>\n",
              "      <td>None</td>\n",
              "      <td>None</td>\n",
              "      <td>No</td>\n",
              "      <td>0.577612</td>\n",
              "      <td>0.422388</td>\n",
              "      <td>74895</td>\n",
              "      <td>[{'value': 0.0296015539496292, 'timestamp': '2...</td>\n",
              "      <td>[{'score': -1.63513699632672, 'capacity': 'Inf...</td>\n",
              "    </tr>\n",
              "    <tr>\n",
              "      <th>2</th>\n",
              "      <td>24015</td>\n",
              "      <td>Cecil County</td>\n",
              "      <td>Maryland</td>\n",
              "      <td>104366</td>\n",
              "      <td>42560</td>\n",
              "      <td>NaN</td>\n",
              "      <td>None</td>\n",
              "      <td>None</td>\n",
              "      <td>No</td>\n",
              "      <td>0.516520</td>\n",
              "      <td>0.483480</td>\n",
              "      <td>59373</td>\n",
              "      <td>[{'value': 0.0397263205400315, 'timestamp': '2...</td>\n",
              "      <td>[{'score': -1.80146427534243, 'capacity': 'Inf...</td>\n",
              "    </tr>\n",
              "    <tr>\n",
              "      <th>3</th>\n",
              "      <td>24017</td>\n",
              "      <td>Charles County</td>\n",
              "      <td>Maryland</td>\n",
              "      <td>168710</td>\n",
              "      <td>50540</td>\n",
              "      <td>1.0</td>\n",
              "      <td>None</td>\n",
              "      <td>None</td>\n",
              "      <td>No</td>\n",
              "      <td>0.715851</td>\n",
              "      <td>0.284149</td>\n",
              "      <td>66642</td>\n",
              "      <td>[{'value': 0.0352469640229852, 'timestamp': '2...</td>\n",
              "      <td>[{'score': -3, 'capacity': 'Infrastructure', '...</td>\n",
              "    </tr>\n",
              "    <tr>\n",
              "      <th>4</th>\n",
              "      <td>24019</td>\n",
              "      <td>Dorchester County</td>\n",
              "      <td>Maryland</td>\n",
              "      <td>32612</td>\n",
              "      <td>34780</td>\n",
              "      <td>NaN</td>\n",
              "      <td>None</td>\n",
              "      <td>None</td>\n",
              "      <td>No</td>\n",
              "      <td>0.460422</td>\n",
              "      <td>0.539578</td>\n",
              "      <td>57060</td>\n",
              "      <td>[{'value': 0.0424337032877077, 'timestamp': '2...</td>\n",
              "      <td>[{'score': -1.23962080337455, 'capacity': 'Hum...</td>\n",
              "    </tr>\n",
              "    <tr>\n",
              "      <th>5</th>\n",
              "      <td>24021</td>\n",
              "      <td>Frederick County</td>\n",
              "      <td>Maryland</td>\n",
              "      <td>280341</td>\n",
              "      <td>53316</td>\n",
              "      <td>1.0</td>\n",
              "      <td>None</td>\n",
              "      <td>None</td>\n",
              "      <td>No</td>\n",
              "      <td>0.724588</td>\n",
              "      <td>0.275412</td>\n",
              "      <td>76664</td>\n",
              "      <td>[{'value': 0.0290808153505861, 'timestamp': '2...</td>\n",
              "      <td>[{'score': -1.62025812191036, 'capacity': 'Inf...</td>\n",
              "    </tr>\n",
              "    <tr>\n",
              "      <th>6</th>\n",
              "      <td>24023</td>\n",
              "      <td>Garrett County</td>\n",
              "      <td>Maryland</td>\n",
              "      <td>28713</td>\n",
              "      <td>42328</td>\n",
              "      <td>1.0</td>\n",
              "      <td>None</td>\n",
              "      <td>None</td>\n",
              "      <td>No</td>\n",
              "      <td>0.157884</td>\n",
              "      <td>0.842116</td>\n",
              "      <td>57525</td>\n",
              "      <td>[{'value': 0.0427417766397479, 'timestamp': '2...</td>\n",
              "      <td>[{'score': -2.01058199858782, 'capacity': 'Inf...</td>\n",
              "    </tr>\n",
              "    <tr>\n",
              "      <th>7</th>\n",
              "      <td>24025</td>\n",
              "      <td>Harford County</td>\n",
              "      <td>Maryland</td>\n",
              "      <td>262509</td>\n",
              "      <td>50861</td>\n",
              "      <td>NaN</td>\n",
              "      <td>None</td>\n",
              "      <td>None</td>\n",
              "      <td>No</td>\n",
              "      <td>0.790713</td>\n",
              "      <td>0.209287</td>\n",
              "      <td>71196</td>\n",
              "      <td>[{'value': 0.0331162769451329, 'timestamp': '2...</td>\n",
              "      <td>[{'score': -3, 'capacity': 'Infrastructure', '...</td>\n",
              "    </tr>\n",
              "    <tr>\n",
              "      <th>8</th>\n",
              "      <td>24027</td>\n",
              "      <td>Howard County</td>\n",
              "      <td>Maryland</td>\n",
              "      <td>333916</td>\n",
              "      <td>65860</td>\n",
              "      <td>NaN</td>\n",
              "      <td>None</td>\n",
              "      <td>None</td>\n",
              "      <td>No</td>\n",
              "      <td>0.881225</td>\n",
              "      <td>0.118775</td>\n",
              "      <td>95529</td>\n",
              "      <td>[{'value': 0.0285709624218793, 'timestamp': '2...</td>\n",
              "      <td>[{'score': -2.09380757210108, 'capacity': 'Ind...</td>\n",
              "    </tr>\n",
              "    <tr>\n",
              "      <th>9</th>\n",
              "      <td>24029</td>\n",
              "      <td>Kent County</td>\n",
              "      <td>Maryland</td>\n",
              "      <td>19265</td>\n",
              "      <td>45817</td>\n",
              "      <td>NaN</td>\n",
              "      <td>None</td>\n",
              "      <td>None</td>\n",
              "      <td>No</td>\n",
              "      <td>0.303730</td>\n",
              "      <td>0.696270</td>\n",
              "      <td>77025</td>\n",
              "      <td>[{'value': 0.0411409553474282, 'timestamp': '2...</td>\n",
              "      <td>[{'score': -1.13022441291406, 'capacity': 'Ins...</td>\n",
              "    </tr>\n",
              "    <tr>\n",
              "      <th>10</th>\n",
              "      <td>24031</td>\n",
              "      <td>Montgomery County</td>\n",
              "      <td>Maryland</td>\n",
              "      <td>1057586</td>\n",
              "      <td>66124</td>\n",
              "      <td>1.0</td>\n",
              "      <td>None</td>\n",
              "      <td>None</td>\n",
              "      <td>No</td>\n",
              "      <td>0.973206</td>\n",
              "      <td>0.026794</td>\n",
              "      <td>100044</td>\n",
              "      <td>[{'value': 0.027514941376345, 'timestamp': '20...</td>\n",
              "      <td>[{'score': -3, 'capacity': 'Industry Compositi...</td>\n",
              "    </tr>\n",
              "    <tr>\n",
              "      <th>11</th>\n",
              "      <td>24033</td>\n",
              "      <td>Prince George's County</td>\n",
              "      <td>Maryland</td>\n",
              "      <td>955584</td>\n",
              "      <td>45287</td>\n",
              "      <td>1.0</td>\n",
              "      <td>None</td>\n",
              "      <td>None</td>\n",
              "      <td>No</td>\n",
              "      <td>0.975654</td>\n",
              "      <td>0.024346</td>\n",
              "      <td>57096</td>\n",
              "      <td>[{'value': 0.0364871056149868, 'timestamp': '2...</td>\n",
              "      <td>[{'score': -3, 'capacity': 'Infrastructure', '...</td>\n",
              "    </tr>\n",
              "    <tr>\n",
              "      <th>12</th>\n",
              "      <td>24035</td>\n",
              "      <td>Queen Anne's County</td>\n",
              "      <td>Maryland</td>\n",
              "      <td>50951</td>\n",
              "      <td>54824</td>\n",
              "      <td>NaN</td>\n",
              "      <td>None</td>\n",
              "      <td>None</td>\n",
              "      <td>No</td>\n",
              "      <td>0.409733</td>\n",
              "      <td>0.590267</td>\n",
              "      <td>83650</td>\n",
              "      <td>[{'value': 0.0307078083924878, 'timestamp': '2...</td>\n",
              "      <td>[{'score': -2.05663679118475, 'capacity': 'Inf...</td>\n",
              "    </tr>\n",
              "    <tr>\n",
              "      <th>13</th>\n",
              "      <td>24037</td>\n",
              "      <td>St. Mary's County</td>\n",
              "      <td>Maryland</td>\n",
              "      <td>114372</td>\n",
              "      <td>51358</td>\n",
              "      <td>1.0</td>\n",
              "      <td>None</td>\n",
              "      <td>None</td>\n",
              "      <td>No</td>\n",
              "      <td>0.432557</td>\n",
              "      <td>0.567443</td>\n",
              "      <td>70353</td>\n",
              "      <td>[{'value': 0.0322113044568713, 'timestamp': '2...</td>\n",
              "      <td>[{'score': -1.79446683233924, 'capacity': 'Inf...</td>\n",
              "    </tr>\n",
              "    <tr>\n",
              "      <th>14</th>\n",
              "      <td>24039</td>\n",
              "      <td>Somerset County</td>\n",
              "      <td>Maryland</td>\n",
              "      <td>24685</td>\n",
              "      <td>26031</td>\n",
              "      <td>NaN</td>\n",
              "      <td>None</td>\n",
              "      <td>None</td>\n",
              "      <td>No</td>\n",
              "      <td>0.402721</td>\n",
              "      <td>0.597279</td>\n",
              "      <td>37345</td>\n",
              "      <td>[{'value': 0.049301814478304, 'timestamp': '20...</td>\n",
              "      <td>[{'score': -1.89328266698605, 'capacity': 'Hum...</td>\n",
              "    </tr>\n",
              "    <tr>\n",
              "      <th>15</th>\n",
              "      <td>24041</td>\n",
              "      <td>Talbot County</td>\n",
              "      <td>Maryland</td>\n",
              "      <td>37707</td>\n",
              "      <td>53527</td>\n",
              "      <td>NaN</td>\n",
              "      <td>None</td>\n",
              "      <td>None</td>\n",
              "      <td>No</td>\n",
              "      <td>0.480547</td>\n",
              "      <td>0.519453</td>\n",
              "      <td>98166</td>\n",
              "      <td>[{'value': 0.0364498145941086, 'timestamp': '2...</td>\n",
              "      <td>[{'score': -1.29166047004015, 'capacity': 'Hum...</td>\n",
              "    </tr>\n",
              "    <tr>\n",
              "      <th>16</th>\n",
              "      <td>24043</td>\n",
              "      <td>Washington County</td>\n",
              "      <td>Maryland</td>\n",
              "      <td>155033</td>\n",
              "      <td>37391</td>\n",
              "      <td>1.0</td>\n",
              "      <td>None</td>\n",
              "      <td>None</td>\n",
              "      <td>No</td>\n",
              "      <td>0.677729</td>\n",
              "      <td>0.322271</td>\n",
              "      <td>56174</td>\n",
              "      <td>[{'value': 0.0402185142231589, 'timestamp': '2...</td>\n",
              "      <td>[{'score': -1.58995808822614, 'capacity': 'Inf...</td>\n",
              "    </tr>\n",
              "    <tr>\n",
              "      <th>17</th>\n",
              "      <td>24045</td>\n",
              "      <td>Wicomico County</td>\n",
              "      <td>Maryland</td>\n",
              "      <td>104117</td>\n",
              "      <td>36856</td>\n",
              "      <td>NaN</td>\n",
              "      <td>None</td>\n",
              "      <td>None</td>\n",
              "      <td>No</td>\n",
              "      <td>0.731301</td>\n",
              "      <td>0.268699</td>\n",
              "      <td>48596</td>\n",
              "      <td>[{'value': 0.0416661303609123, 'timestamp': '2...</td>\n",
              "      <td>[{'score': -1.47910345549714, 'capacity': 'Inf...</td>\n",
              "    </tr>\n",
              "    <tr>\n",
              "      <th>18</th>\n",
              "      <td>24047</td>\n",
              "      <td>Worcester County</td>\n",
              "      <td>Maryland</td>\n",
              "      <td>53279</td>\n",
              "      <td>51620</td>\n",
              "      <td>NaN</td>\n",
              "      <td>None</td>\n",
              "      <td>None</td>\n",
              "      <td>No</td>\n",
              "      <td>0.590412</td>\n",
              "      <td>0.409588</td>\n",
              "      <td>68163</td>\n",
              "      <td>[{'value': 0.0573898088983114, 'timestamp': '2...</td>\n",
              "      <td>[{'score': -1.70451679647425, 'capacity': 'Inf...</td>\n",
              "    </tr>\n",
              "  </tbody>\n",
              "</table>\n",
              "</div>\n",
              "    <div class=\"colab-df-buttons\">\n",
              "\n",
              "  <div class=\"colab-df-container\">\n",
              "    <button class=\"colab-df-convert\" onclick=\"convertToInteractive('df-98601af9-2722-4d71-b4b7-86f9d92d641a')\"\n",
              "            title=\"Convert this dataframe to an interactive table.\"\n",
              "            style=\"display:none;\">\n",
              "\n",
              "  <svg xmlns=\"http://www.w3.org/2000/svg\" height=\"24px\" viewBox=\"0 -960 960 960\">\n",
              "    <path d=\"M120-120v-720h720v720H120Zm60-500h600v-160H180v160Zm220 220h160v-160H400v160Zm0 220h160v-160H400v160ZM180-400h160v-160H180v160Zm440 0h160v-160H620v160ZM180-180h160v-160H180v160Zm440 0h160v-160H620v160Z\"/>\n",
              "  </svg>\n",
              "    </button>\n",
              "\n",
              "  <style>\n",
              "    .colab-df-container {\n",
              "      display:flex;\n",
              "      gap: 12px;\n",
              "    }\n",
              "\n",
              "    .colab-df-convert {\n",
              "      background-color: #E8F0FE;\n",
              "      border: none;\n",
              "      border-radius: 50%;\n",
              "      cursor: pointer;\n",
              "      display: none;\n",
              "      fill: #1967D2;\n",
              "      height: 32px;\n",
              "      padding: 0 0 0 0;\n",
              "      width: 32px;\n",
              "    }\n",
              "\n",
              "    .colab-df-convert:hover {\n",
              "      background-color: #E2EBFA;\n",
              "      box-shadow: 0px 1px 2px rgba(60, 64, 67, 0.3), 0px 1px 3px 1px rgba(60, 64, 67, 0.15);\n",
              "      fill: #174EA6;\n",
              "    }\n",
              "\n",
              "    .colab-df-buttons div {\n",
              "      margin-bottom: 4px;\n",
              "    }\n",
              "\n",
              "    [theme=dark] .colab-df-convert {\n",
              "      background-color: #3B4455;\n",
              "      fill: #D2E3FC;\n",
              "    }\n",
              "\n",
              "    [theme=dark] .colab-df-convert:hover {\n",
              "      background-color: #434B5C;\n",
              "      box-shadow: 0px 1px 3px 1px rgba(0, 0, 0, 0.15);\n",
              "      filter: drop-shadow(0px 1px 2px rgba(0, 0, 0, 0.3));\n",
              "      fill: #FFFFFF;\n",
              "    }\n",
              "  </style>\n",
              "\n",
              "    <script>\n",
              "      const buttonEl =\n",
              "        document.querySelector('#df-98601af9-2722-4d71-b4b7-86f9d92d641a button.colab-df-convert');\n",
              "      buttonEl.style.display =\n",
              "        google.colab.kernel.accessAllowed ? 'block' : 'none';\n",
              "\n",
              "      async function convertToInteractive(key) {\n",
              "        const element = document.querySelector('#df-98601af9-2722-4d71-b4b7-86f9d92d641a');\n",
              "        const dataTable =\n",
              "          await google.colab.kernel.invokeFunction('convertToInteractive',\n",
              "                                                    [key], {});\n",
              "        if (!dataTable) return;\n",
              "\n",
              "        const docLinkHtml = 'Like what you see? Visit the ' +\n",
              "          '<a target=\"_blank\" href=https://colab.research.google.com/notebooks/data_table.ipynb>data table notebook</a>'\n",
              "          + ' to learn more about interactive tables.';\n",
              "        element.innerHTML = '';\n",
              "        dataTable['output_type'] = 'display_data';\n",
              "        await google.colab.output.renderOutput(dataTable, element);\n",
              "        const docLink = document.createElement('div');\n",
              "        docLink.innerHTML = docLinkHtml;\n",
              "        element.appendChild(docLink);\n",
              "      }\n",
              "    </script>\n",
              "  </div>\n",
              "\n",
              "\n",
              "    <div id=\"df-8487519d-9ee5-4b8e-8c06-300a4fe2f888\">\n",
              "      <button class=\"colab-df-quickchart\" onclick=\"quickchart('df-8487519d-9ee5-4b8e-8c06-300a4fe2f888')\"\n",
              "                title=\"Suggest charts\"\n",
              "                style=\"display:none;\">\n",
              "\n",
              "<svg xmlns=\"http://www.w3.org/2000/svg\" height=\"24px\"viewBox=\"0 0 24 24\"\n",
              "     width=\"24px\">\n",
              "    <g>\n",
              "        <path d=\"M19 3H5c-1.1 0-2 .9-2 2v14c0 1.1.9 2 2 2h14c1.1 0 2-.9 2-2V5c0-1.1-.9-2-2-2zM9 17H7v-7h2v7zm4 0h-2V7h2v10zm4 0h-2v-4h2v4z\"/>\n",
              "    </g>\n",
              "</svg>\n",
              "      </button>\n",
              "\n",
              "<style>\n",
              "  .colab-df-quickchart {\n",
              "      --bg-color: #E8F0FE;\n",
              "      --fill-color: #1967D2;\n",
              "      --hover-bg-color: #E2EBFA;\n",
              "      --hover-fill-color: #174EA6;\n",
              "      --disabled-fill-color: #AAA;\n",
              "      --disabled-bg-color: #DDD;\n",
              "  }\n",
              "\n",
              "  [theme=dark] .colab-df-quickchart {\n",
              "      --bg-color: #3B4455;\n",
              "      --fill-color: #D2E3FC;\n",
              "      --hover-bg-color: #434B5C;\n",
              "      --hover-fill-color: #FFFFFF;\n",
              "      --disabled-bg-color: #3B4455;\n",
              "      --disabled-fill-color: #666;\n",
              "  }\n",
              "\n",
              "  .colab-df-quickchart {\n",
              "    background-color: var(--bg-color);\n",
              "    border: none;\n",
              "    border-radius: 50%;\n",
              "    cursor: pointer;\n",
              "    display: none;\n",
              "    fill: var(--fill-color);\n",
              "    height: 32px;\n",
              "    padding: 0;\n",
              "    width: 32px;\n",
              "  }\n",
              "\n",
              "  .colab-df-quickchart:hover {\n",
              "    background-color: var(--hover-bg-color);\n",
              "    box-shadow: 0 1px 2px rgba(60, 64, 67, 0.3), 0 1px 3px 1px rgba(60, 64, 67, 0.15);\n",
              "    fill: var(--button-hover-fill-color);\n",
              "  }\n",
              "\n",
              "  .colab-df-quickchart-complete:disabled,\n",
              "  .colab-df-quickchart-complete:disabled:hover {\n",
              "    background-color: var(--disabled-bg-color);\n",
              "    fill: var(--disabled-fill-color);\n",
              "    box-shadow: none;\n",
              "  }\n",
              "\n",
              "  .colab-df-spinner {\n",
              "    border: 2px solid var(--fill-color);\n",
              "    border-color: transparent;\n",
              "    border-bottom-color: var(--fill-color);\n",
              "    animation:\n",
              "      spin 1s steps(1) infinite;\n",
              "  }\n",
              "\n",
              "  @keyframes spin {\n",
              "    0% {\n",
              "      border-color: transparent;\n",
              "      border-bottom-color: var(--fill-color);\n",
              "      border-left-color: var(--fill-color);\n",
              "    }\n",
              "    20% {\n",
              "      border-color: transparent;\n",
              "      border-left-color: var(--fill-color);\n",
              "      border-top-color: var(--fill-color);\n",
              "    }\n",
              "    30% {\n",
              "      border-color: transparent;\n",
              "      border-left-color: var(--fill-color);\n",
              "      border-top-color: var(--fill-color);\n",
              "      border-right-color: var(--fill-color);\n",
              "    }\n",
              "    40% {\n",
              "      border-color: transparent;\n",
              "      border-right-color: var(--fill-color);\n",
              "      border-top-color: var(--fill-color);\n",
              "    }\n",
              "    60% {\n",
              "      border-color: transparent;\n",
              "      border-right-color: var(--fill-color);\n",
              "    }\n",
              "    80% {\n",
              "      border-color: transparent;\n",
              "      border-right-color: var(--fill-color);\n",
              "      border-bottom-color: var(--fill-color);\n",
              "    }\n",
              "    90% {\n",
              "      border-color: transparent;\n",
              "      border-bottom-color: var(--fill-color);\n",
              "    }\n",
              "  }\n",
              "</style>\n",
              "\n",
              "      <script>\n",
              "        async function quickchart(key) {\n",
              "          const quickchartButtonEl =\n",
              "            document.querySelector('#' + key + ' button');\n",
              "          quickchartButtonEl.disabled = true;  // To prevent multiple clicks.\n",
              "          quickchartButtonEl.classList.add('colab-df-spinner');\n",
              "          try {\n",
              "            const charts = await google.colab.kernel.invokeFunction(\n",
              "                'suggestCharts', [key], {});\n",
              "          } catch (error) {\n",
              "            console.error('Error during call to suggestCharts:', error);\n",
              "          }\n",
              "          quickchartButtonEl.classList.remove('colab-df-spinner');\n",
              "          quickchartButtonEl.classList.add('colab-df-quickchart-complete');\n",
              "        }\n",
              "        (() => {\n",
              "          let quickchartButtonEl =\n",
              "            document.querySelector('#df-8487519d-9ee5-4b8e-8c06-300a4fe2f888 button');\n",
              "          quickchartButtonEl.style.display =\n",
              "            google.colab.kernel.accessAllowed ? 'block' : 'none';\n",
              "        })();\n",
              "      </script>\n",
              "    </div>\n",
              "\n",
              "  <div id=\"id_7057b635-e8c9-4f5b-ab5d-2aa137f2b38b\">\n",
              "    <style>\n",
              "      .colab-df-generate {\n",
              "        background-color: #E8F0FE;\n",
              "        border: none;\n",
              "        border-radius: 50%;\n",
              "        cursor: pointer;\n",
              "        display: none;\n",
              "        fill: #1967D2;\n",
              "        height: 32px;\n",
              "        padding: 0 0 0 0;\n",
              "        width: 32px;\n",
              "      }\n",
              "\n",
              "      .colab-df-generate:hover {\n",
              "        background-color: #E2EBFA;\n",
              "        box-shadow: 0px 1px 2px rgba(60, 64, 67, 0.3), 0px 1px 3px 1px rgba(60, 64, 67, 0.15);\n",
              "        fill: #174EA6;\n",
              "      }\n",
              "\n",
              "      [theme=dark] .colab-df-generate {\n",
              "        background-color: #3B4455;\n",
              "        fill: #D2E3FC;\n",
              "      }\n",
              "\n",
              "      [theme=dark] .colab-df-generate:hover {\n",
              "        background-color: #434B5C;\n",
              "        box-shadow: 0px 1px 3px 1px rgba(0, 0, 0, 0.15);\n",
              "        filter: drop-shadow(0px 1px 2px rgba(0, 0, 0, 0.3));\n",
              "        fill: #FFFFFF;\n",
              "      }\n",
              "    </style>\n",
              "    <button class=\"colab-df-generate\" onclick=\"generateWithVariable('main_summary_df')\"\n",
              "            title=\"Generate code using this dataframe.\"\n",
              "            style=\"display:none;\">\n",
              "\n",
              "  <svg xmlns=\"http://www.w3.org/2000/svg\" height=\"24px\"viewBox=\"0 0 24 24\"\n",
              "       width=\"24px\">\n",
              "    <path d=\"M7,19H8.4L18.45,9,17,7.55,7,17.6ZM5,21V16.75L18.45,3.32a2,2,0,0,1,2.83,0l1.4,1.43a1.91,1.91,0,0,1,.58,1.4,1.91,1.91,0,0,1-.58,1.4L9.25,21ZM18.45,9,17,7.55Zm-12,3A5.31,5.31,0,0,0,4.9,8.1,5.31,5.31,0,0,0,1,6.5,5.31,5.31,0,0,0,4.9,4.9,5.31,5.31,0,0,0,6.5,1,5.31,5.31,0,0,0,8.1,4.9,5.31,5.31,0,0,0,12,6.5,5.46,5.46,0,0,0,6.5,12Z\"/>\n",
              "  </svg>\n",
              "    </button>\n",
              "    <script>\n",
              "      (() => {\n",
              "      const buttonEl =\n",
              "        document.querySelector('#id_7057b635-e8c9-4f5b-ab5d-2aa137f2b38b button.colab-df-generate');\n",
              "      buttonEl.style.display =\n",
              "        google.colab.kernel.accessAllowed ? 'block' : 'none';\n",
              "\n",
              "      buttonEl.onclick = () => {\n",
              "        google.colab.notebook.generateWithVariable('main_summary_df');\n",
              "      }\n",
              "      })();\n",
              "    </script>\n",
              "  </div>\n",
              "\n",
              "    </div>\n",
              "  </div>\n"
            ],
            "application/vnd.google.colaboratory.intrinsic+json": {
              "type": "dataframe",
              "variable_name": "main_summary_df",
              "repr_error": "Out of range float values are not JSON compliant: nan"
            }
          },
          "metadata": {},
          "execution_count": 12
        }
      ]
    },
    {
      "cell_type": "code",
      "source": [
        "main_summary_df.info()"
      ],
      "metadata": {
        "colab": {
          "base_uri": "https://localhost:8080/"
        },
        "id": "V1YKURArLIRj",
        "outputId": "0c44501d-53f1-4786-b9d8-f5b235da3da7"
      },
      "execution_count": 13,
      "outputs": [
        {
          "output_type": "stream",
          "name": "stdout",
          "text": [
            "<class 'pandas.core.frame.DataFrame'>\n",
            "RangeIndex: 19 entries, 0 to 18\n",
            "Data columns (total 14 columns):\n",
            " #   Column                                  Non-Null Count  Dtype  \n",
            "---  ------                                  --------------  -----  \n",
            " 0   county_fips                             19 non-null     object \n",
            " 1   county                                  19 non-null     object \n",
            " 2   state                                   19 non-null     object \n",
            " 3   total_population                        19 non-null     int64  \n",
            " 4   census_per_capita_income                19 non-null     int64  \n",
            " 5   designated_coal_community               7 non-null      float64\n",
            " 6   adjacent_tribal_land                    0 non-null      object \n",
            " 7   nuclear_power_plant_present             0 non-null      object \n",
            " 8   persistent_poverty_designation          19 non-null     object \n",
            " 9   pct_urban_2020                          19 non-null     float64\n",
            " 10  pct_rural_2020                          19 non-null     float64\n",
            " 11  bea_per_capita_income                   19 non-null     int64  \n",
            " 12  local_24month_unemployment_rate_series  19 non-null     object \n",
            " 13  edci_indicators                         19 non-null     object \n",
            "dtypes: float64(3), int64(3), object(8)\n",
            "memory usage: 2.2+ KB\n"
          ]
        }
      ]
    },
    {
      "cell_type": "code",
      "source": [
        "main_summary_df[\"designated_coal_community\"].value_counts( dropna=False)"
      ],
      "metadata": {
        "colab": {
          "base_uri": "https://localhost:8080/",
          "height": 178
        },
        "id": "xk2U4ZG8LIN_",
        "outputId": "3cf34396-d2f0-4d63-dc87-8bb939259b4d"
      },
      "execution_count": 14,
      "outputs": [
        {
          "output_type": "execute_result",
          "data": {
            "text/plain": [
              "designated_coal_community\n",
              "NaN    12\n",
              "1.0     7\n",
              "Name: count, dtype: int64"
            ],
            "text/html": [
              "<div>\n",
              "<style scoped>\n",
              "    .dataframe tbody tr th:only-of-type {\n",
              "        vertical-align: middle;\n",
              "    }\n",
              "\n",
              "    .dataframe tbody tr th {\n",
              "        vertical-align: top;\n",
              "    }\n",
              "\n",
              "    .dataframe thead th {\n",
              "        text-align: right;\n",
              "    }\n",
              "</style>\n",
              "<table border=\"1\" class=\"dataframe\">\n",
              "  <thead>\n",
              "    <tr style=\"text-align: right;\">\n",
              "      <th></th>\n",
              "      <th>count</th>\n",
              "    </tr>\n",
              "    <tr>\n",
              "      <th>designated_coal_community</th>\n",
              "      <th></th>\n",
              "    </tr>\n",
              "  </thead>\n",
              "  <tbody>\n",
              "    <tr>\n",
              "      <th>NaN</th>\n",
              "      <td>12</td>\n",
              "    </tr>\n",
              "    <tr>\n",
              "      <th>1.0</th>\n",
              "      <td>7</td>\n",
              "    </tr>\n",
              "  </tbody>\n",
              "</table>\n",
              "</div><br><label><b>dtype:</b> int64</label>"
            ]
          },
          "metadata": {},
          "execution_count": 14
        }
      ]
    },
    {
      "cell_type": "code",
      "source": [
        "main_summary_df[\"nuclear_power_plant_present\"].value_counts( dropna=False)"
      ],
      "metadata": {
        "colab": {
          "base_uri": "https://localhost:8080/",
          "height": 147
        },
        "id": "69AdLdPGLIKa",
        "outputId": "8a332486-f22f-41ba-9264-8ef00eb4e4a0"
      },
      "execution_count": 15,
      "outputs": [
        {
          "output_type": "execute_result",
          "data": {
            "text/plain": [
              "nuclear_power_plant_present\n",
              "None    19\n",
              "Name: count, dtype: int64"
            ],
            "text/html": [
              "<div>\n",
              "<style scoped>\n",
              "    .dataframe tbody tr th:only-of-type {\n",
              "        vertical-align: middle;\n",
              "    }\n",
              "\n",
              "    .dataframe tbody tr th {\n",
              "        vertical-align: top;\n",
              "    }\n",
              "\n",
              "    .dataframe thead th {\n",
              "        text-align: right;\n",
              "    }\n",
              "</style>\n",
              "<table border=\"1\" class=\"dataframe\">\n",
              "  <thead>\n",
              "    <tr style=\"text-align: right;\">\n",
              "      <th></th>\n",
              "      <th>count</th>\n",
              "    </tr>\n",
              "    <tr>\n",
              "      <th>nuclear_power_plant_present</th>\n",
              "      <th></th>\n",
              "    </tr>\n",
              "  </thead>\n",
              "  <tbody>\n",
              "    <tr>\n",
              "      <th>None</th>\n",
              "      <td>19</td>\n",
              "    </tr>\n",
              "  </tbody>\n",
              "</table>\n",
              "</div><br><label><b>dtype:</b> int64</label>"
            ]
          },
          "metadata": {},
          "execution_count": 15
        }
      ]
    },
    {
      "cell_type": "markdown",
      "source": [
        "Our returned dataframe contains binary column data that has been returned as a floating number as well as several missing values. Let's clean that up...\n",
        "\n"
      ],
      "metadata": {
        "id": "-MbaYHSkVTkn"
      }
    },
    {
      "cell_type": "markdown",
      "source": [
        "### Cleaning the Dataframe\n",
        "\n"
      ],
      "metadata": {
        "id": "OKr6Fp7pVUzZ"
      }
    },
    {
      "cell_type": "code",
      "source": [
        "def update_column_values(df, column_name):\n",
        "  # Replace 1.0 with 'Yes' and NaN with 'No'\n",
        "  df[column_name] = df[column_name].apply(lambda x: 'Yes' if x == 1.0 else ( 'No' if pd.isna(x) else x ))\n",
        "\n",
        "  # Set column to string type\n",
        "  df[column_name] = df[column_name].astype(str)\n",
        "\n",
        "  return df\n"
      ],
      "metadata": {
        "id": "e8_5182m69wi"
      },
      "execution_count": 16,
      "outputs": []
    },
    {
      "cell_type": "code",
      "source": [
        "main_summary_df = update_column_values(main_summary_df, 'designated_coal_community')\n",
        "main_summary_df = update_column_values(main_summary_df, 'nuclear_power_plant_present')\n"
      ],
      "metadata": {
        "id": "2_q4cEI2Vp_j"
      },
      "execution_count": 17,
      "outputs": []
    },
    {
      "cell_type": "code",
      "source": [
        "main_summary_df[\"designated_coal_community\"].value_counts( dropna=False)"
      ],
      "metadata": {
        "colab": {
          "base_uri": "https://localhost:8080/",
          "height": 178
        },
        "outputId": "3027f4b9-7f93-4395-e08d-e3d33f820bb0",
        "id": "5nM8pGmT6Rgp"
      },
      "execution_count": 18,
      "outputs": [
        {
          "output_type": "execute_result",
          "data": {
            "text/plain": [
              "designated_coal_community\n",
              "No     12\n",
              "Yes     7\n",
              "Name: count, dtype: int64"
            ],
            "text/html": [
              "<div>\n",
              "<style scoped>\n",
              "    .dataframe tbody tr th:only-of-type {\n",
              "        vertical-align: middle;\n",
              "    }\n",
              "\n",
              "    .dataframe tbody tr th {\n",
              "        vertical-align: top;\n",
              "    }\n",
              "\n",
              "    .dataframe thead th {\n",
              "        text-align: right;\n",
              "    }\n",
              "</style>\n",
              "<table border=\"1\" class=\"dataframe\">\n",
              "  <thead>\n",
              "    <tr style=\"text-align: right;\">\n",
              "      <th></th>\n",
              "      <th>count</th>\n",
              "    </tr>\n",
              "    <tr>\n",
              "      <th>designated_coal_community</th>\n",
              "      <th></th>\n",
              "    </tr>\n",
              "  </thead>\n",
              "  <tbody>\n",
              "    <tr>\n",
              "      <th>No</th>\n",
              "      <td>12</td>\n",
              "    </tr>\n",
              "    <tr>\n",
              "      <th>Yes</th>\n",
              "      <td>7</td>\n",
              "    </tr>\n",
              "  </tbody>\n",
              "</table>\n",
              "</div><br><label><b>dtype:</b> int64</label>"
            ]
          },
          "metadata": {},
          "execution_count": 18
        }
      ]
    },
    {
      "cell_type": "code",
      "source": [
        "main_summary_df[\"nuclear_power_plant_present\"].value_counts( dropna=False)"
      ],
      "metadata": {
        "colab": {
          "base_uri": "https://localhost:8080/",
          "height": 147
        },
        "outputId": "742161b0-2d38-42c2-ef34-cb7142e388b8",
        "id": "e4xKhPoE6Rgs"
      },
      "execution_count": 19,
      "outputs": [
        {
          "output_type": "execute_result",
          "data": {
            "text/plain": [
              "nuclear_power_plant_present\n",
              "No    19\n",
              "Name: count, dtype: int64"
            ],
            "text/html": [
              "<div>\n",
              "<style scoped>\n",
              "    .dataframe tbody tr th:only-of-type {\n",
              "        vertical-align: middle;\n",
              "    }\n",
              "\n",
              "    .dataframe tbody tr th {\n",
              "        vertical-align: top;\n",
              "    }\n",
              "\n",
              "    .dataframe thead th {\n",
              "        text-align: right;\n",
              "    }\n",
              "</style>\n",
              "<table border=\"1\" class=\"dataframe\">\n",
              "  <thead>\n",
              "    <tr style=\"text-align: right;\">\n",
              "      <th></th>\n",
              "      <th>count</th>\n",
              "    </tr>\n",
              "    <tr>\n",
              "      <th>nuclear_power_plant_present</th>\n",
              "      <th></th>\n",
              "    </tr>\n",
              "  </thead>\n",
              "  <tbody>\n",
              "    <tr>\n",
              "      <th>No</th>\n",
              "      <td>19</td>\n",
              "    </tr>\n",
              "  </tbody>\n",
              "</table>\n",
              "</div><br><label><b>dtype:</b> int64</label>"
            ]
          },
          "metadata": {},
          "execution_count": 19
        }
      ]
    },
    {
      "cell_type": "markdown",
      "source": [
        "### Separate Unemploment data and EDCI Indicators and flattened nested dictionaries\n",
        "\n",
        "\n"
      ],
      "metadata": {
        "id": "4f1sPg9Y63ZO"
      }
    },
    {
      "cell_type": "code",
      "source": [
        "# Create function to un-nest columns\n",
        "def flatten_column_data(df, list_column, county_column='county', code_column='county_fips'):\n",
        "  flattened_rows = []\n",
        "\n",
        "  for _, row in df.iterrows():\n",
        "    county = row[county_column]\n",
        "    code = row[code_column]\n",
        "    for entry in row[list_column]:\n",
        "      flattened_entry = {\n",
        "        'County': county,\n",
        "        'Code': code\n",
        "      }\n",
        "      # Add all key-value pairs from the dictionary to the flattened entry\n",
        "      for key, value in entry.items():\n",
        "        flattened_entry[key] = value\n",
        "      flattened_rows.append(flattened_entry)\n",
        "\n",
        "  return pd.DataFrame(flattened_rows)\n"
      ],
      "metadata": {
        "id": "LeNscPTO62ju"
      },
      "execution_count": 20,
      "outputs": []
    },
    {
      "cell_type": "code",
      "source": [
        "# Create function to un-nest columns\n",
        "def flatten_column_data_2(df, list_column):\n",
        "  # explode list_column\n",
        "  df_1 = df.explode(list_column)\n",
        "\n",
        "  # convert dictionaries to fields\n",
        "  df_2 = df_1[list_column].apply(pd.Series)\n",
        "\n",
        "  # join data frames on their index and drop original list column\n",
        "  return df.join(df_2).drop(columns = list_column)\n"
      ],
      "metadata": {
        "id": "aNcpmfbREcQI"
      },
      "execution_count": 21,
      "outputs": []
    },
    {
      "cell_type": "code",
      "source": [
        "sorted(main_summary_df.columns)"
      ],
      "metadata": {
        "id": "jGDnXyV_LzN6",
        "outputId": "1aa0bea7-3f89-4d80-95c1-a5e15f054c0d",
        "colab": {
          "base_uri": "https://localhost:8080/"
        }
      },
      "execution_count": 22,
      "outputs": [
        {
          "output_type": "execute_result",
          "data": {
            "text/plain": [
              "['adjacent_tribal_land',\n",
              " 'bea_per_capita_income',\n",
              " 'census_per_capita_income',\n",
              " 'county',\n",
              " 'county_fips',\n",
              " 'designated_coal_community',\n",
              " 'edci_indicators',\n",
              " 'local_24month_unemployment_rate_series',\n",
              " 'nuclear_power_plant_present',\n",
              " 'pct_rural_2020',\n",
              " 'pct_urban_2020',\n",
              " 'persistent_poverty_designation',\n",
              " 'state',\n",
              " 'total_population']"
            ]
          },
          "metadata": {},
          "execution_count": 22
        }
      ]
    },
    {
      "cell_type": "code",
      "source": [
        "# Unemployment Data\n",
        "unemployment_edci_data = main_summary_df[['county', 'county_fips', 'local_24month_unemployment_rate_series']]\n"
      ],
      "metadata": {
        "id": "1teW_dPQUb2D"
      },
      "execution_count": 23,
      "outputs": []
    },
    {
      "cell_type": "code",
      "source": [
        "unemployment_edci_data.shape"
      ],
      "metadata": {
        "id": "jDl0FW5a6z4B",
        "outputId": "d43cd784-7631-45a9-92ed-647d913fd0c7",
        "colab": {
          "base_uri": "https://localhost:8080/"
        }
      },
      "execution_count": 24,
      "outputs": [
        {
          "output_type": "execute_result",
          "data": {
            "text/plain": [
              "(19, 3)"
            ]
          },
          "metadata": {},
          "execution_count": 24
        }
      ]
    },
    {
      "cell_type": "code",
      "source": [
        "unemployment_edci_data[:5]"
      ],
      "metadata": {
        "id": "K7C2S_cB6z0j",
        "outputId": "a2d46ca2-eec4-4ae3-ad7b-1f4c5579ad91",
        "colab": {
          "base_uri": "https://localhost:8080/",
          "height": 206
        }
      },
      "execution_count": 25,
      "outputs": [
        {
          "output_type": "execute_result",
          "data": {
            "text/plain": [
              "              county county_fips  \\\n",
              "0    Caroline County       24011   \n",
              "1     Carroll County       24013   \n",
              "2       Cecil County       24015   \n",
              "3     Charles County       24017   \n",
              "4  Dorchester County       24019   \n",
              "\n",
              "              local_24month_unemployment_rate_series  \n",
              "0  [{'value': 0.0372016509117358, 'timestamp': '2...  \n",
              "1  [{'value': 0.0296015539496292, 'timestamp': '2...  \n",
              "2  [{'value': 0.0397263205400315, 'timestamp': '2...  \n",
              "3  [{'value': 0.0352469640229852, 'timestamp': '2...  \n",
              "4  [{'value': 0.0424337032877077, 'timestamp': '2...  "
            ],
            "text/html": [
              "\n",
              "  <div id=\"df-cc138fec-3a3a-4ef6-b63f-ac293d5d2bcc\" class=\"colab-df-container\">\n",
              "    <div>\n",
              "<style scoped>\n",
              "    .dataframe tbody tr th:only-of-type {\n",
              "        vertical-align: middle;\n",
              "    }\n",
              "\n",
              "    .dataframe tbody tr th {\n",
              "        vertical-align: top;\n",
              "    }\n",
              "\n",
              "    .dataframe thead th {\n",
              "        text-align: right;\n",
              "    }\n",
              "</style>\n",
              "<table border=\"1\" class=\"dataframe\">\n",
              "  <thead>\n",
              "    <tr style=\"text-align: right;\">\n",
              "      <th></th>\n",
              "      <th>county</th>\n",
              "      <th>county_fips</th>\n",
              "      <th>local_24month_unemployment_rate_series</th>\n",
              "    </tr>\n",
              "  </thead>\n",
              "  <tbody>\n",
              "    <tr>\n",
              "      <th>0</th>\n",
              "      <td>Caroline County</td>\n",
              "      <td>24011</td>\n",
              "      <td>[{'value': 0.0372016509117358, 'timestamp': '2...</td>\n",
              "    </tr>\n",
              "    <tr>\n",
              "      <th>1</th>\n",
              "      <td>Carroll County</td>\n",
              "      <td>24013</td>\n",
              "      <td>[{'value': 0.0296015539496292, 'timestamp': '2...</td>\n",
              "    </tr>\n",
              "    <tr>\n",
              "      <th>2</th>\n",
              "      <td>Cecil County</td>\n",
              "      <td>24015</td>\n",
              "      <td>[{'value': 0.0397263205400315, 'timestamp': '2...</td>\n",
              "    </tr>\n",
              "    <tr>\n",
              "      <th>3</th>\n",
              "      <td>Charles County</td>\n",
              "      <td>24017</td>\n",
              "      <td>[{'value': 0.0352469640229852, 'timestamp': '2...</td>\n",
              "    </tr>\n",
              "    <tr>\n",
              "      <th>4</th>\n",
              "      <td>Dorchester County</td>\n",
              "      <td>24019</td>\n",
              "      <td>[{'value': 0.0424337032877077, 'timestamp': '2...</td>\n",
              "    </tr>\n",
              "  </tbody>\n",
              "</table>\n",
              "</div>\n",
              "    <div class=\"colab-df-buttons\">\n",
              "\n",
              "  <div class=\"colab-df-container\">\n",
              "    <button class=\"colab-df-convert\" onclick=\"convertToInteractive('df-cc138fec-3a3a-4ef6-b63f-ac293d5d2bcc')\"\n",
              "            title=\"Convert this dataframe to an interactive table.\"\n",
              "            style=\"display:none;\">\n",
              "\n",
              "  <svg xmlns=\"http://www.w3.org/2000/svg\" height=\"24px\" viewBox=\"0 -960 960 960\">\n",
              "    <path d=\"M120-120v-720h720v720H120Zm60-500h600v-160H180v160Zm220 220h160v-160H400v160Zm0 220h160v-160H400v160ZM180-400h160v-160H180v160Zm440 0h160v-160H620v160ZM180-180h160v-160H180v160Zm440 0h160v-160H620v160Z\"/>\n",
              "  </svg>\n",
              "    </button>\n",
              "\n",
              "  <style>\n",
              "    .colab-df-container {\n",
              "      display:flex;\n",
              "      gap: 12px;\n",
              "    }\n",
              "\n",
              "    .colab-df-convert {\n",
              "      background-color: #E8F0FE;\n",
              "      border: none;\n",
              "      border-radius: 50%;\n",
              "      cursor: pointer;\n",
              "      display: none;\n",
              "      fill: #1967D2;\n",
              "      height: 32px;\n",
              "      padding: 0 0 0 0;\n",
              "      width: 32px;\n",
              "    }\n",
              "\n",
              "    .colab-df-convert:hover {\n",
              "      background-color: #E2EBFA;\n",
              "      box-shadow: 0px 1px 2px rgba(60, 64, 67, 0.3), 0px 1px 3px 1px rgba(60, 64, 67, 0.15);\n",
              "      fill: #174EA6;\n",
              "    }\n",
              "\n",
              "    .colab-df-buttons div {\n",
              "      margin-bottom: 4px;\n",
              "    }\n",
              "\n",
              "    [theme=dark] .colab-df-convert {\n",
              "      background-color: #3B4455;\n",
              "      fill: #D2E3FC;\n",
              "    }\n",
              "\n",
              "    [theme=dark] .colab-df-convert:hover {\n",
              "      background-color: #434B5C;\n",
              "      box-shadow: 0px 1px 3px 1px rgba(0, 0, 0, 0.15);\n",
              "      filter: drop-shadow(0px 1px 2px rgba(0, 0, 0, 0.3));\n",
              "      fill: #FFFFFF;\n",
              "    }\n",
              "  </style>\n",
              "\n",
              "    <script>\n",
              "      const buttonEl =\n",
              "        document.querySelector('#df-cc138fec-3a3a-4ef6-b63f-ac293d5d2bcc button.colab-df-convert');\n",
              "      buttonEl.style.display =\n",
              "        google.colab.kernel.accessAllowed ? 'block' : 'none';\n",
              "\n",
              "      async function convertToInteractive(key) {\n",
              "        const element = document.querySelector('#df-cc138fec-3a3a-4ef6-b63f-ac293d5d2bcc');\n",
              "        const dataTable =\n",
              "          await google.colab.kernel.invokeFunction('convertToInteractive',\n",
              "                                                    [key], {});\n",
              "        if (!dataTable) return;\n",
              "\n",
              "        const docLinkHtml = 'Like what you see? Visit the ' +\n",
              "          '<a target=\"_blank\" href=https://colab.research.google.com/notebooks/data_table.ipynb>data table notebook</a>'\n",
              "          + ' to learn more about interactive tables.';\n",
              "        element.innerHTML = '';\n",
              "        dataTable['output_type'] = 'display_data';\n",
              "        await google.colab.output.renderOutput(dataTable, element);\n",
              "        const docLink = document.createElement('div');\n",
              "        docLink.innerHTML = docLinkHtml;\n",
              "        element.appendChild(docLink);\n",
              "      }\n",
              "    </script>\n",
              "  </div>\n",
              "\n",
              "\n",
              "    <div id=\"df-37cca1dc-d74f-41b9-958d-e8dde2951ff1\">\n",
              "      <button class=\"colab-df-quickchart\" onclick=\"quickchart('df-37cca1dc-d74f-41b9-958d-e8dde2951ff1')\"\n",
              "                title=\"Suggest charts\"\n",
              "                style=\"display:none;\">\n",
              "\n",
              "<svg xmlns=\"http://www.w3.org/2000/svg\" height=\"24px\"viewBox=\"0 0 24 24\"\n",
              "     width=\"24px\">\n",
              "    <g>\n",
              "        <path d=\"M19 3H5c-1.1 0-2 .9-2 2v14c0 1.1.9 2 2 2h14c1.1 0 2-.9 2-2V5c0-1.1-.9-2-2-2zM9 17H7v-7h2v7zm4 0h-2V7h2v10zm4 0h-2v-4h2v4z\"/>\n",
              "    </g>\n",
              "</svg>\n",
              "      </button>\n",
              "\n",
              "<style>\n",
              "  .colab-df-quickchart {\n",
              "      --bg-color: #E8F0FE;\n",
              "      --fill-color: #1967D2;\n",
              "      --hover-bg-color: #E2EBFA;\n",
              "      --hover-fill-color: #174EA6;\n",
              "      --disabled-fill-color: #AAA;\n",
              "      --disabled-bg-color: #DDD;\n",
              "  }\n",
              "\n",
              "  [theme=dark] .colab-df-quickchart {\n",
              "      --bg-color: #3B4455;\n",
              "      --fill-color: #D2E3FC;\n",
              "      --hover-bg-color: #434B5C;\n",
              "      --hover-fill-color: #FFFFFF;\n",
              "      --disabled-bg-color: #3B4455;\n",
              "      --disabled-fill-color: #666;\n",
              "  }\n",
              "\n",
              "  .colab-df-quickchart {\n",
              "    background-color: var(--bg-color);\n",
              "    border: none;\n",
              "    border-radius: 50%;\n",
              "    cursor: pointer;\n",
              "    display: none;\n",
              "    fill: var(--fill-color);\n",
              "    height: 32px;\n",
              "    padding: 0;\n",
              "    width: 32px;\n",
              "  }\n",
              "\n",
              "  .colab-df-quickchart:hover {\n",
              "    background-color: var(--hover-bg-color);\n",
              "    box-shadow: 0 1px 2px rgba(60, 64, 67, 0.3), 0 1px 3px 1px rgba(60, 64, 67, 0.15);\n",
              "    fill: var(--button-hover-fill-color);\n",
              "  }\n",
              "\n",
              "  .colab-df-quickchart-complete:disabled,\n",
              "  .colab-df-quickchart-complete:disabled:hover {\n",
              "    background-color: var(--disabled-bg-color);\n",
              "    fill: var(--disabled-fill-color);\n",
              "    box-shadow: none;\n",
              "  }\n",
              "\n",
              "  .colab-df-spinner {\n",
              "    border: 2px solid var(--fill-color);\n",
              "    border-color: transparent;\n",
              "    border-bottom-color: var(--fill-color);\n",
              "    animation:\n",
              "      spin 1s steps(1) infinite;\n",
              "  }\n",
              "\n",
              "  @keyframes spin {\n",
              "    0% {\n",
              "      border-color: transparent;\n",
              "      border-bottom-color: var(--fill-color);\n",
              "      border-left-color: var(--fill-color);\n",
              "    }\n",
              "    20% {\n",
              "      border-color: transparent;\n",
              "      border-left-color: var(--fill-color);\n",
              "      border-top-color: var(--fill-color);\n",
              "    }\n",
              "    30% {\n",
              "      border-color: transparent;\n",
              "      border-left-color: var(--fill-color);\n",
              "      border-top-color: var(--fill-color);\n",
              "      border-right-color: var(--fill-color);\n",
              "    }\n",
              "    40% {\n",
              "      border-color: transparent;\n",
              "      border-right-color: var(--fill-color);\n",
              "      border-top-color: var(--fill-color);\n",
              "    }\n",
              "    60% {\n",
              "      border-color: transparent;\n",
              "      border-right-color: var(--fill-color);\n",
              "    }\n",
              "    80% {\n",
              "      border-color: transparent;\n",
              "      border-right-color: var(--fill-color);\n",
              "      border-bottom-color: var(--fill-color);\n",
              "    }\n",
              "    90% {\n",
              "      border-color: transparent;\n",
              "      border-bottom-color: var(--fill-color);\n",
              "    }\n",
              "  }\n",
              "</style>\n",
              "\n",
              "      <script>\n",
              "        async function quickchart(key) {\n",
              "          const quickchartButtonEl =\n",
              "            document.querySelector('#' + key + ' button');\n",
              "          quickchartButtonEl.disabled = true;  // To prevent multiple clicks.\n",
              "          quickchartButtonEl.classList.add('colab-df-spinner');\n",
              "          try {\n",
              "            const charts = await google.colab.kernel.invokeFunction(\n",
              "                'suggestCharts', [key], {});\n",
              "          } catch (error) {\n",
              "            console.error('Error during call to suggestCharts:', error);\n",
              "          }\n",
              "          quickchartButtonEl.classList.remove('colab-df-spinner');\n",
              "          quickchartButtonEl.classList.add('colab-df-quickchart-complete');\n",
              "        }\n",
              "        (() => {\n",
              "          let quickchartButtonEl =\n",
              "            document.querySelector('#df-37cca1dc-d74f-41b9-958d-e8dde2951ff1 button');\n",
              "          quickchartButtonEl.style.display =\n",
              "            google.colab.kernel.accessAllowed ? 'block' : 'none';\n",
              "        })();\n",
              "      </script>\n",
              "    </div>\n",
              "\n",
              "    </div>\n",
              "  </div>\n"
            ],
            "application/vnd.google.colaboratory.intrinsic+json": {
              "type": "dataframe",
              "summary": "{\n  \"name\": \"unemployment_edci_data[:5]\",\n  \"rows\": 5,\n  \"fields\": [\n    {\n      \"column\": \"county\",\n      \"properties\": {\n        \"dtype\": \"string\",\n        \"num_unique_values\": 5,\n        \"samples\": [\n          \"Carroll County\",\n          \"Dorchester County\",\n          \"Cecil County\"\n        ],\n        \"semantic_type\": \"\",\n        \"description\": \"\"\n      }\n    },\n    {\n      \"column\": \"county_fips\",\n      \"properties\": {\n        \"dtype\": \"string\",\n        \"num_unique_values\": 5,\n        \"samples\": [\n          \"24013\",\n          \"24019\",\n          \"24015\"\n        ],\n        \"semantic_type\": \"\",\n        \"description\": \"\"\n      }\n    },\n    {\n      \"column\": \"local_24month_unemployment_rate_series\",\n      \"properties\": {\n        \"dtype\": \"object\",\n        \"semantic_type\": \"\",\n        \"description\": \"\"\n      }\n    }\n  ]\n}"
            }
          },
          "metadata": {},
          "execution_count": 25
        }
      ]
    },
    {
      "cell_type": "code",
      "source": [
        "# Create a new unemployment DataFrame with flattened data\n",
        "flattened_unemployment_data = flatten_column_data(unemployment_edci_data, 'local_24month_unemployment_rate_series')\n"
      ],
      "metadata": {
        "id": "95H-yGRRUf67"
      },
      "execution_count": 26,
      "outputs": []
    },
    {
      "cell_type": "code",
      "source": [
        "flattened_unemployment_data.shape"
      ],
      "metadata": {
        "id": "qGlGUZGT8Sm1",
        "outputId": "eb67e628-d93b-4d78-8f0d-bbb6185d7aad",
        "colab": {
          "base_uri": "https://localhost:8080/"
        }
      },
      "execution_count": 27,
      "outputs": [
        {
          "output_type": "execute_result",
          "data": {
            "text/plain": [
              "(703, 4)"
            ]
          },
          "metadata": {},
          "execution_count": 27
        }
      ]
    },
    {
      "cell_type": "code",
      "source": [
        "flattened_unemployment_data[:5]"
      ],
      "metadata": {
        "id": "uxov6KNe6_Lt",
        "outputId": "46d49b2c-9377-4e8d-b21a-aeecd6dc4330",
        "colab": {
          "base_uri": "https://localhost:8080/",
          "height": 206
        }
      },
      "execution_count": 28,
      "outputs": [
        {
          "output_type": "execute_result",
          "data": {
            "text/plain": [
              "            County   Code     value   timestamp\n",
              "0  Caroline County  24011  0.037202  2020-02-01\n",
              "1  Caroline County  24011  0.037232  2020-03-01\n",
              "2  Caroline County  24011  0.037641  2020-01-01\n",
              "3  Caroline County  24011  0.037756  2023-01-01\n",
              "4  Caroline County  24011  0.039085  2020-04-01"
            ],
            "text/html": [
              "\n",
              "  <div id=\"df-a21f70c1-2518-46f8-bd07-6bb48242e873\" class=\"colab-df-container\">\n",
              "    <div>\n",
              "<style scoped>\n",
              "    .dataframe tbody tr th:only-of-type {\n",
              "        vertical-align: middle;\n",
              "    }\n",
              "\n",
              "    .dataframe tbody tr th {\n",
              "        vertical-align: top;\n",
              "    }\n",
              "\n",
              "    .dataframe thead th {\n",
              "        text-align: right;\n",
              "    }\n",
              "</style>\n",
              "<table border=\"1\" class=\"dataframe\">\n",
              "  <thead>\n",
              "    <tr style=\"text-align: right;\">\n",
              "      <th></th>\n",
              "      <th>County</th>\n",
              "      <th>Code</th>\n",
              "      <th>value</th>\n",
              "      <th>timestamp</th>\n",
              "    </tr>\n",
              "  </thead>\n",
              "  <tbody>\n",
              "    <tr>\n",
              "      <th>0</th>\n",
              "      <td>Caroline County</td>\n",
              "      <td>24011</td>\n",
              "      <td>0.037202</td>\n",
              "      <td>2020-02-01</td>\n",
              "    </tr>\n",
              "    <tr>\n",
              "      <th>1</th>\n",
              "      <td>Caroline County</td>\n",
              "      <td>24011</td>\n",
              "      <td>0.037232</td>\n",
              "      <td>2020-03-01</td>\n",
              "    </tr>\n",
              "    <tr>\n",
              "      <th>2</th>\n",
              "      <td>Caroline County</td>\n",
              "      <td>24011</td>\n",
              "      <td>0.037641</td>\n",
              "      <td>2020-01-01</td>\n",
              "    </tr>\n",
              "    <tr>\n",
              "      <th>3</th>\n",
              "      <td>Caroline County</td>\n",
              "      <td>24011</td>\n",
              "      <td>0.037756</td>\n",
              "      <td>2023-01-01</td>\n",
              "    </tr>\n",
              "    <tr>\n",
              "      <th>4</th>\n",
              "      <td>Caroline County</td>\n",
              "      <td>24011</td>\n",
              "      <td>0.039085</td>\n",
              "      <td>2020-04-01</td>\n",
              "    </tr>\n",
              "  </tbody>\n",
              "</table>\n",
              "</div>\n",
              "    <div class=\"colab-df-buttons\">\n",
              "\n",
              "  <div class=\"colab-df-container\">\n",
              "    <button class=\"colab-df-convert\" onclick=\"convertToInteractive('df-a21f70c1-2518-46f8-bd07-6bb48242e873')\"\n",
              "            title=\"Convert this dataframe to an interactive table.\"\n",
              "            style=\"display:none;\">\n",
              "\n",
              "  <svg xmlns=\"http://www.w3.org/2000/svg\" height=\"24px\" viewBox=\"0 -960 960 960\">\n",
              "    <path d=\"M120-120v-720h720v720H120Zm60-500h600v-160H180v160Zm220 220h160v-160H400v160Zm0 220h160v-160H400v160ZM180-400h160v-160H180v160Zm440 0h160v-160H620v160ZM180-180h160v-160H180v160Zm440 0h160v-160H620v160Z\"/>\n",
              "  </svg>\n",
              "    </button>\n",
              "\n",
              "  <style>\n",
              "    .colab-df-container {\n",
              "      display:flex;\n",
              "      gap: 12px;\n",
              "    }\n",
              "\n",
              "    .colab-df-convert {\n",
              "      background-color: #E8F0FE;\n",
              "      border: none;\n",
              "      border-radius: 50%;\n",
              "      cursor: pointer;\n",
              "      display: none;\n",
              "      fill: #1967D2;\n",
              "      height: 32px;\n",
              "      padding: 0 0 0 0;\n",
              "      width: 32px;\n",
              "    }\n",
              "\n",
              "    .colab-df-convert:hover {\n",
              "      background-color: #E2EBFA;\n",
              "      box-shadow: 0px 1px 2px rgba(60, 64, 67, 0.3), 0px 1px 3px 1px rgba(60, 64, 67, 0.15);\n",
              "      fill: #174EA6;\n",
              "    }\n",
              "\n",
              "    .colab-df-buttons div {\n",
              "      margin-bottom: 4px;\n",
              "    }\n",
              "\n",
              "    [theme=dark] .colab-df-convert {\n",
              "      background-color: #3B4455;\n",
              "      fill: #D2E3FC;\n",
              "    }\n",
              "\n",
              "    [theme=dark] .colab-df-convert:hover {\n",
              "      background-color: #434B5C;\n",
              "      box-shadow: 0px 1px 3px 1px rgba(0, 0, 0, 0.15);\n",
              "      filter: drop-shadow(0px 1px 2px rgba(0, 0, 0, 0.3));\n",
              "      fill: #FFFFFF;\n",
              "    }\n",
              "  </style>\n",
              "\n",
              "    <script>\n",
              "      const buttonEl =\n",
              "        document.querySelector('#df-a21f70c1-2518-46f8-bd07-6bb48242e873 button.colab-df-convert');\n",
              "      buttonEl.style.display =\n",
              "        google.colab.kernel.accessAllowed ? 'block' : 'none';\n",
              "\n",
              "      async function convertToInteractive(key) {\n",
              "        const element = document.querySelector('#df-a21f70c1-2518-46f8-bd07-6bb48242e873');\n",
              "        const dataTable =\n",
              "          await google.colab.kernel.invokeFunction('convertToInteractive',\n",
              "                                                    [key], {});\n",
              "        if (!dataTable) return;\n",
              "\n",
              "        const docLinkHtml = 'Like what you see? Visit the ' +\n",
              "          '<a target=\"_blank\" href=https://colab.research.google.com/notebooks/data_table.ipynb>data table notebook</a>'\n",
              "          + ' to learn more about interactive tables.';\n",
              "        element.innerHTML = '';\n",
              "        dataTable['output_type'] = 'display_data';\n",
              "        await google.colab.output.renderOutput(dataTable, element);\n",
              "        const docLink = document.createElement('div');\n",
              "        docLink.innerHTML = docLinkHtml;\n",
              "        element.appendChild(docLink);\n",
              "      }\n",
              "    </script>\n",
              "  </div>\n",
              "\n",
              "\n",
              "    <div id=\"df-3d2b26dd-7461-41f3-941f-f29e0a85141a\">\n",
              "      <button class=\"colab-df-quickchart\" onclick=\"quickchart('df-3d2b26dd-7461-41f3-941f-f29e0a85141a')\"\n",
              "                title=\"Suggest charts\"\n",
              "                style=\"display:none;\">\n",
              "\n",
              "<svg xmlns=\"http://www.w3.org/2000/svg\" height=\"24px\"viewBox=\"0 0 24 24\"\n",
              "     width=\"24px\">\n",
              "    <g>\n",
              "        <path d=\"M19 3H5c-1.1 0-2 .9-2 2v14c0 1.1.9 2 2 2h14c1.1 0 2-.9 2-2V5c0-1.1-.9-2-2-2zM9 17H7v-7h2v7zm4 0h-2V7h2v10zm4 0h-2v-4h2v4z\"/>\n",
              "    </g>\n",
              "</svg>\n",
              "      </button>\n",
              "\n",
              "<style>\n",
              "  .colab-df-quickchart {\n",
              "      --bg-color: #E8F0FE;\n",
              "      --fill-color: #1967D2;\n",
              "      --hover-bg-color: #E2EBFA;\n",
              "      --hover-fill-color: #174EA6;\n",
              "      --disabled-fill-color: #AAA;\n",
              "      --disabled-bg-color: #DDD;\n",
              "  }\n",
              "\n",
              "  [theme=dark] .colab-df-quickchart {\n",
              "      --bg-color: #3B4455;\n",
              "      --fill-color: #D2E3FC;\n",
              "      --hover-bg-color: #434B5C;\n",
              "      --hover-fill-color: #FFFFFF;\n",
              "      --disabled-bg-color: #3B4455;\n",
              "      --disabled-fill-color: #666;\n",
              "  }\n",
              "\n",
              "  .colab-df-quickchart {\n",
              "    background-color: var(--bg-color);\n",
              "    border: none;\n",
              "    border-radius: 50%;\n",
              "    cursor: pointer;\n",
              "    display: none;\n",
              "    fill: var(--fill-color);\n",
              "    height: 32px;\n",
              "    padding: 0;\n",
              "    width: 32px;\n",
              "  }\n",
              "\n",
              "  .colab-df-quickchart:hover {\n",
              "    background-color: var(--hover-bg-color);\n",
              "    box-shadow: 0 1px 2px rgba(60, 64, 67, 0.3), 0 1px 3px 1px rgba(60, 64, 67, 0.15);\n",
              "    fill: var(--button-hover-fill-color);\n",
              "  }\n",
              "\n",
              "  .colab-df-quickchart-complete:disabled,\n",
              "  .colab-df-quickchart-complete:disabled:hover {\n",
              "    background-color: var(--disabled-bg-color);\n",
              "    fill: var(--disabled-fill-color);\n",
              "    box-shadow: none;\n",
              "  }\n",
              "\n",
              "  .colab-df-spinner {\n",
              "    border: 2px solid var(--fill-color);\n",
              "    border-color: transparent;\n",
              "    border-bottom-color: var(--fill-color);\n",
              "    animation:\n",
              "      spin 1s steps(1) infinite;\n",
              "  }\n",
              "\n",
              "  @keyframes spin {\n",
              "    0% {\n",
              "      border-color: transparent;\n",
              "      border-bottom-color: var(--fill-color);\n",
              "      border-left-color: var(--fill-color);\n",
              "    }\n",
              "    20% {\n",
              "      border-color: transparent;\n",
              "      border-left-color: var(--fill-color);\n",
              "      border-top-color: var(--fill-color);\n",
              "    }\n",
              "    30% {\n",
              "      border-color: transparent;\n",
              "      border-left-color: var(--fill-color);\n",
              "      border-top-color: var(--fill-color);\n",
              "      border-right-color: var(--fill-color);\n",
              "    }\n",
              "    40% {\n",
              "      border-color: transparent;\n",
              "      border-right-color: var(--fill-color);\n",
              "      border-top-color: var(--fill-color);\n",
              "    }\n",
              "    60% {\n",
              "      border-color: transparent;\n",
              "      border-right-color: var(--fill-color);\n",
              "    }\n",
              "    80% {\n",
              "      border-color: transparent;\n",
              "      border-right-color: var(--fill-color);\n",
              "      border-bottom-color: var(--fill-color);\n",
              "    }\n",
              "    90% {\n",
              "      border-color: transparent;\n",
              "      border-bottom-color: var(--fill-color);\n",
              "    }\n",
              "  }\n",
              "</style>\n",
              "\n",
              "      <script>\n",
              "        async function quickchart(key) {\n",
              "          const quickchartButtonEl =\n",
              "            document.querySelector('#' + key + ' button');\n",
              "          quickchartButtonEl.disabled = true;  // To prevent multiple clicks.\n",
              "          quickchartButtonEl.classList.add('colab-df-spinner');\n",
              "          try {\n",
              "            const charts = await google.colab.kernel.invokeFunction(\n",
              "                'suggestCharts', [key], {});\n",
              "          } catch (error) {\n",
              "            console.error('Error during call to suggestCharts:', error);\n",
              "          }\n",
              "          quickchartButtonEl.classList.remove('colab-df-spinner');\n",
              "          quickchartButtonEl.classList.add('colab-df-quickchart-complete');\n",
              "        }\n",
              "        (() => {\n",
              "          let quickchartButtonEl =\n",
              "            document.querySelector('#df-3d2b26dd-7461-41f3-941f-f29e0a85141a button');\n",
              "          quickchartButtonEl.style.display =\n",
              "            google.colab.kernel.accessAllowed ? 'block' : 'none';\n",
              "        })();\n",
              "      </script>\n",
              "    </div>\n",
              "\n",
              "    </div>\n",
              "  </div>\n"
            ],
            "application/vnd.google.colaboratory.intrinsic+json": {
              "type": "dataframe",
              "summary": "{\n  \"name\": \"flattened_unemployment_data[:5]\",\n  \"rows\": 5,\n  \"fields\": [\n    {\n      \"column\": \"County\",\n      \"properties\": {\n        \"dtype\": \"category\",\n        \"num_unique_values\": 1,\n        \"samples\": [\n          \"Caroline County\"\n        ],\n        \"semantic_type\": \"\",\n        \"description\": \"\"\n      }\n    },\n    {\n      \"column\": \"Code\",\n      \"properties\": {\n        \"dtype\": \"category\",\n        \"num_unique_values\": 1,\n        \"samples\": [\n          \"24011\"\n        ],\n        \"semantic_type\": \"\",\n        \"description\": \"\"\n      }\n    },\n    {\n      \"column\": \"value\",\n      \"properties\": {\n        \"dtype\": \"number\",\n        \"std\": 0.0007677340108445645,\n        \"min\": 0.0372016509117358,\n        \"max\": 0.0390848707042129,\n        \"num_unique_values\": 5,\n        \"samples\": [\n          0.0372318217443215\n        ],\n        \"semantic_type\": \"\",\n        \"description\": \"\"\n      }\n    },\n    {\n      \"column\": \"timestamp\",\n      \"properties\": {\n        \"dtype\": \"object\",\n        \"num_unique_values\": 5,\n        \"samples\": [\n          \"2020-03-01\"\n        ],\n        \"semantic_type\": \"\",\n        \"description\": \"\"\n      }\n    }\n  ]\n}"
            }
          },
          "metadata": {},
          "execution_count": 28
        }
      ]
    },
    {
      "cell_type": "code",
      "source": [
        "flatten_column_data_2(unemployment_edci_data, 'local_24month_unemployment_rate_series')[:5]"
      ],
      "metadata": {
        "id": "SmTxF15TEpOl",
        "outputId": "81ee4cce-b845-4ea8-8c66-283c20ca23f6",
        "colab": {
          "base_uri": "https://localhost:8080/",
          "height": 206
        }
      },
      "execution_count": 29,
      "outputs": [
        {
          "output_type": "execute_result",
          "data": {
            "text/plain": [
              "            county county_fips     value   timestamp\n",
              "0  Caroline County       24011  0.037202  2020-02-01\n",
              "0  Caroline County       24011  0.037232  2020-03-01\n",
              "0  Caroline County       24011  0.037641  2020-01-01\n",
              "0  Caroline County       24011  0.037756  2023-01-01\n",
              "0  Caroline County       24011  0.039085  2020-04-01"
            ],
            "text/html": [
              "\n",
              "  <div id=\"df-93543b2d-e554-4b29-aea7-f298fd9eabf0\" class=\"colab-df-container\">\n",
              "    <div>\n",
              "<style scoped>\n",
              "    .dataframe tbody tr th:only-of-type {\n",
              "        vertical-align: middle;\n",
              "    }\n",
              "\n",
              "    .dataframe tbody tr th {\n",
              "        vertical-align: top;\n",
              "    }\n",
              "\n",
              "    .dataframe thead th {\n",
              "        text-align: right;\n",
              "    }\n",
              "</style>\n",
              "<table border=\"1\" class=\"dataframe\">\n",
              "  <thead>\n",
              "    <tr style=\"text-align: right;\">\n",
              "      <th></th>\n",
              "      <th>county</th>\n",
              "      <th>county_fips</th>\n",
              "      <th>value</th>\n",
              "      <th>timestamp</th>\n",
              "    </tr>\n",
              "  </thead>\n",
              "  <tbody>\n",
              "    <tr>\n",
              "      <th>0</th>\n",
              "      <td>Caroline County</td>\n",
              "      <td>24011</td>\n",
              "      <td>0.037202</td>\n",
              "      <td>2020-02-01</td>\n",
              "    </tr>\n",
              "    <tr>\n",
              "      <th>0</th>\n",
              "      <td>Caroline County</td>\n",
              "      <td>24011</td>\n",
              "      <td>0.037232</td>\n",
              "      <td>2020-03-01</td>\n",
              "    </tr>\n",
              "    <tr>\n",
              "      <th>0</th>\n",
              "      <td>Caroline County</td>\n",
              "      <td>24011</td>\n",
              "      <td>0.037641</td>\n",
              "      <td>2020-01-01</td>\n",
              "    </tr>\n",
              "    <tr>\n",
              "      <th>0</th>\n",
              "      <td>Caroline County</td>\n",
              "      <td>24011</td>\n",
              "      <td>0.037756</td>\n",
              "      <td>2023-01-01</td>\n",
              "    </tr>\n",
              "    <tr>\n",
              "      <th>0</th>\n",
              "      <td>Caroline County</td>\n",
              "      <td>24011</td>\n",
              "      <td>0.039085</td>\n",
              "      <td>2020-04-01</td>\n",
              "    </tr>\n",
              "  </tbody>\n",
              "</table>\n",
              "</div>\n",
              "    <div class=\"colab-df-buttons\">\n",
              "\n",
              "  <div class=\"colab-df-container\">\n",
              "    <button class=\"colab-df-convert\" onclick=\"convertToInteractive('df-93543b2d-e554-4b29-aea7-f298fd9eabf0')\"\n",
              "            title=\"Convert this dataframe to an interactive table.\"\n",
              "            style=\"display:none;\">\n",
              "\n",
              "  <svg xmlns=\"http://www.w3.org/2000/svg\" height=\"24px\" viewBox=\"0 -960 960 960\">\n",
              "    <path d=\"M120-120v-720h720v720H120Zm60-500h600v-160H180v160Zm220 220h160v-160H400v160Zm0 220h160v-160H400v160ZM180-400h160v-160H180v160Zm440 0h160v-160H620v160ZM180-180h160v-160H180v160Zm440 0h160v-160H620v160Z\"/>\n",
              "  </svg>\n",
              "    </button>\n",
              "\n",
              "  <style>\n",
              "    .colab-df-container {\n",
              "      display:flex;\n",
              "      gap: 12px;\n",
              "    }\n",
              "\n",
              "    .colab-df-convert {\n",
              "      background-color: #E8F0FE;\n",
              "      border: none;\n",
              "      border-radius: 50%;\n",
              "      cursor: pointer;\n",
              "      display: none;\n",
              "      fill: #1967D2;\n",
              "      height: 32px;\n",
              "      padding: 0 0 0 0;\n",
              "      width: 32px;\n",
              "    }\n",
              "\n",
              "    .colab-df-convert:hover {\n",
              "      background-color: #E2EBFA;\n",
              "      box-shadow: 0px 1px 2px rgba(60, 64, 67, 0.3), 0px 1px 3px 1px rgba(60, 64, 67, 0.15);\n",
              "      fill: #174EA6;\n",
              "    }\n",
              "\n",
              "    .colab-df-buttons div {\n",
              "      margin-bottom: 4px;\n",
              "    }\n",
              "\n",
              "    [theme=dark] .colab-df-convert {\n",
              "      background-color: #3B4455;\n",
              "      fill: #D2E3FC;\n",
              "    }\n",
              "\n",
              "    [theme=dark] .colab-df-convert:hover {\n",
              "      background-color: #434B5C;\n",
              "      box-shadow: 0px 1px 3px 1px rgba(0, 0, 0, 0.15);\n",
              "      filter: drop-shadow(0px 1px 2px rgba(0, 0, 0, 0.3));\n",
              "      fill: #FFFFFF;\n",
              "    }\n",
              "  </style>\n",
              "\n",
              "    <script>\n",
              "      const buttonEl =\n",
              "        document.querySelector('#df-93543b2d-e554-4b29-aea7-f298fd9eabf0 button.colab-df-convert');\n",
              "      buttonEl.style.display =\n",
              "        google.colab.kernel.accessAllowed ? 'block' : 'none';\n",
              "\n",
              "      async function convertToInteractive(key) {\n",
              "        const element = document.querySelector('#df-93543b2d-e554-4b29-aea7-f298fd9eabf0');\n",
              "        const dataTable =\n",
              "          await google.colab.kernel.invokeFunction('convertToInteractive',\n",
              "                                                    [key], {});\n",
              "        if (!dataTable) return;\n",
              "\n",
              "        const docLinkHtml = 'Like what you see? Visit the ' +\n",
              "          '<a target=\"_blank\" href=https://colab.research.google.com/notebooks/data_table.ipynb>data table notebook</a>'\n",
              "          + ' to learn more about interactive tables.';\n",
              "        element.innerHTML = '';\n",
              "        dataTable['output_type'] = 'display_data';\n",
              "        await google.colab.output.renderOutput(dataTable, element);\n",
              "        const docLink = document.createElement('div');\n",
              "        docLink.innerHTML = docLinkHtml;\n",
              "        element.appendChild(docLink);\n",
              "      }\n",
              "    </script>\n",
              "  </div>\n",
              "\n",
              "\n",
              "    <div id=\"df-0486cea0-8d3e-4b19-a45e-adf414696d94\">\n",
              "      <button class=\"colab-df-quickchart\" onclick=\"quickchart('df-0486cea0-8d3e-4b19-a45e-adf414696d94')\"\n",
              "                title=\"Suggest charts\"\n",
              "                style=\"display:none;\">\n",
              "\n",
              "<svg xmlns=\"http://www.w3.org/2000/svg\" height=\"24px\"viewBox=\"0 0 24 24\"\n",
              "     width=\"24px\">\n",
              "    <g>\n",
              "        <path d=\"M19 3H5c-1.1 0-2 .9-2 2v14c0 1.1.9 2 2 2h14c1.1 0 2-.9 2-2V5c0-1.1-.9-2-2-2zM9 17H7v-7h2v7zm4 0h-2V7h2v10zm4 0h-2v-4h2v4z\"/>\n",
              "    </g>\n",
              "</svg>\n",
              "      </button>\n",
              "\n",
              "<style>\n",
              "  .colab-df-quickchart {\n",
              "      --bg-color: #E8F0FE;\n",
              "      --fill-color: #1967D2;\n",
              "      --hover-bg-color: #E2EBFA;\n",
              "      --hover-fill-color: #174EA6;\n",
              "      --disabled-fill-color: #AAA;\n",
              "      --disabled-bg-color: #DDD;\n",
              "  }\n",
              "\n",
              "  [theme=dark] .colab-df-quickchart {\n",
              "      --bg-color: #3B4455;\n",
              "      --fill-color: #D2E3FC;\n",
              "      --hover-bg-color: #434B5C;\n",
              "      --hover-fill-color: #FFFFFF;\n",
              "      --disabled-bg-color: #3B4455;\n",
              "      --disabled-fill-color: #666;\n",
              "  }\n",
              "\n",
              "  .colab-df-quickchart {\n",
              "    background-color: var(--bg-color);\n",
              "    border: none;\n",
              "    border-radius: 50%;\n",
              "    cursor: pointer;\n",
              "    display: none;\n",
              "    fill: var(--fill-color);\n",
              "    height: 32px;\n",
              "    padding: 0;\n",
              "    width: 32px;\n",
              "  }\n",
              "\n",
              "  .colab-df-quickchart:hover {\n",
              "    background-color: var(--hover-bg-color);\n",
              "    box-shadow: 0 1px 2px rgba(60, 64, 67, 0.3), 0 1px 3px 1px rgba(60, 64, 67, 0.15);\n",
              "    fill: var(--button-hover-fill-color);\n",
              "  }\n",
              "\n",
              "  .colab-df-quickchart-complete:disabled,\n",
              "  .colab-df-quickchart-complete:disabled:hover {\n",
              "    background-color: var(--disabled-bg-color);\n",
              "    fill: var(--disabled-fill-color);\n",
              "    box-shadow: none;\n",
              "  }\n",
              "\n",
              "  .colab-df-spinner {\n",
              "    border: 2px solid var(--fill-color);\n",
              "    border-color: transparent;\n",
              "    border-bottom-color: var(--fill-color);\n",
              "    animation:\n",
              "      spin 1s steps(1) infinite;\n",
              "  }\n",
              "\n",
              "  @keyframes spin {\n",
              "    0% {\n",
              "      border-color: transparent;\n",
              "      border-bottom-color: var(--fill-color);\n",
              "      border-left-color: var(--fill-color);\n",
              "    }\n",
              "    20% {\n",
              "      border-color: transparent;\n",
              "      border-left-color: var(--fill-color);\n",
              "      border-top-color: var(--fill-color);\n",
              "    }\n",
              "    30% {\n",
              "      border-color: transparent;\n",
              "      border-left-color: var(--fill-color);\n",
              "      border-top-color: var(--fill-color);\n",
              "      border-right-color: var(--fill-color);\n",
              "    }\n",
              "    40% {\n",
              "      border-color: transparent;\n",
              "      border-right-color: var(--fill-color);\n",
              "      border-top-color: var(--fill-color);\n",
              "    }\n",
              "    60% {\n",
              "      border-color: transparent;\n",
              "      border-right-color: var(--fill-color);\n",
              "    }\n",
              "    80% {\n",
              "      border-color: transparent;\n",
              "      border-right-color: var(--fill-color);\n",
              "      border-bottom-color: var(--fill-color);\n",
              "    }\n",
              "    90% {\n",
              "      border-color: transparent;\n",
              "      border-bottom-color: var(--fill-color);\n",
              "    }\n",
              "  }\n",
              "</style>\n",
              "\n",
              "      <script>\n",
              "        async function quickchart(key) {\n",
              "          const quickchartButtonEl =\n",
              "            document.querySelector('#' + key + ' button');\n",
              "          quickchartButtonEl.disabled = true;  // To prevent multiple clicks.\n",
              "          quickchartButtonEl.classList.add('colab-df-spinner');\n",
              "          try {\n",
              "            const charts = await google.colab.kernel.invokeFunction(\n",
              "                'suggestCharts', [key], {});\n",
              "          } catch (error) {\n",
              "            console.error('Error during call to suggestCharts:', error);\n",
              "          }\n",
              "          quickchartButtonEl.classList.remove('colab-df-spinner');\n",
              "          quickchartButtonEl.classList.add('colab-df-quickchart-complete');\n",
              "        }\n",
              "        (() => {\n",
              "          let quickchartButtonEl =\n",
              "            document.querySelector('#df-0486cea0-8d3e-4b19-a45e-adf414696d94 button');\n",
              "          quickchartButtonEl.style.display =\n",
              "            google.colab.kernel.accessAllowed ? 'block' : 'none';\n",
              "        })();\n",
              "      </script>\n",
              "    </div>\n",
              "\n",
              "    </div>\n",
              "  </div>\n"
            ],
            "application/vnd.google.colaboratory.intrinsic+json": {
              "type": "dataframe",
              "summary": "{\n  \"name\": \"flatten_column_data_2(unemployment_edci_data, 'local_24month_unemployment_rate_series')[:5]\",\n  \"rows\": 5,\n  \"fields\": [\n    {\n      \"column\": \"county\",\n      \"properties\": {\n        \"dtype\": \"category\",\n        \"num_unique_values\": 1,\n        \"samples\": [\n          \"Caroline County\"\n        ],\n        \"semantic_type\": \"\",\n        \"description\": \"\"\n      }\n    },\n    {\n      \"column\": \"county_fips\",\n      \"properties\": {\n        \"dtype\": \"category\",\n        \"num_unique_values\": 1,\n        \"samples\": [\n          \"24011\"\n        ],\n        \"semantic_type\": \"\",\n        \"description\": \"\"\n      }\n    },\n    {\n      \"column\": \"value\",\n      \"properties\": {\n        \"dtype\": \"number\",\n        \"std\": 0.0007677340108445645,\n        \"min\": 0.0372016509117358,\n        \"max\": 0.0390848707042129,\n        \"num_unique_values\": 5,\n        \"samples\": [\n          0.0372318217443215\n        ],\n        \"semantic_type\": \"\",\n        \"description\": \"\"\n      }\n    },\n    {\n      \"column\": \"timestamp\",\n      \"properties\": {\n        \"dtype\": \"date\",\n        \"min\": \"2020-01-01\",\n        \"max\": \"2023-01-01\",\n        \"num_unique_values\": 5,\n        \"samples\": [\n          \"2020-03-01\"\n        ],\n        \"semantic_type\": \"\",\n        \"description\": \"\"\n      }\n    }\n  ]\n}"
            }
          },
          "metadata": {},
          "execution_count": 29
        }
      ]
    },
    {
      "cell_type": "code",
      "source": [
        "# EDCI Indicators Data\n",
        "edci_data = main_summary_df[['county', 'county_fips', 'edci_indicators']]\n"
      ],
      "metadata": {
        "id": "Jb_QHNsaUkQO"
      },
      "execution_count": 30,
      "outputs": []
    },
    {
      "cell_type": "code",
      "source": [
        "# Create a new EDCI DataFrame with flattened data\n",
        "flattened_edci_data = flatten_column_data(edci_data, 'edci_indicators')\n"
      ],
      "metadata": {
        "id": "LKLIjKtMUryg"
      },
      "execution_count": 31,
      "outputs": []
    },
    {
      "cell_type": "code",
      "source": [
        "flattened_edci_data.shape"
      ],
      "metadata": {
        "id": "O7Z_9Fy5LEnh",
        "outputId": "7bdf0c67-334e-455e-9781-ce335175ed4b",
        "colab": {
          "base_uri": "https://localhost:8080/"
        }
      },
      "execution_count": 32,
      "outputs": [
        {
          "output_type": "execute_result",
          "data": {
            "text/plain": [
              "(1121, 7)"
            ]
          },
          "metadata": {},
          "execution_count": 32
        }
      ]
    },
    {
      "cell_type": "code",
      "source": [
        "flattened_edci_data[:5]"
      ],
      "metadata": {
        "id": "az5nCMQLK2EZ",
        "outputId": "88408b4a-dab6-4cad-bc36-3da5e282477b",
        "colab": {
          "base_uri": "https://localhost:8080/",
          "height": 206
        }
      },
      "execution_count": 33,
      "outputs": [
        {
          "output_type": "execute_result",
          "data": {
            "text/plain": [
              "            County   Code     score                       capacity  \\\n",
              "0  Caroline County  24011 -1.694997                 Infrastructure   \n",
              "1  Caroline County  24011 -1.211996                 Infrastructure   \n",
              "2  Caroline County  24011 -1.130224  Institutions and Partnerships   \n",
              "3  Caroline County  24011 -0.798065           Industry Composition   \n",
              "4  Caroline County  24011 -0.636447                  Human Capital   \n",
              "\n",
              "                                           indicator  percentile  \\\n",
              "0                                    perc_selfsupply    0.075941   \n",
              "1                               perc_stream_impaired    0.156863   \n",
              "2                    local_govt_employees_per_capita    0.032991   \n",
              "3                                   estabs_exit_rate    0.203859   \n",
              "4  pct_gross_rent_as_pct_of_hhold_income_above_35pct    0.245876   \n",
              "\n",
              "  directionality  \n",
              "0       negative  \n",
              "1       negative  \n",
              "2       positive  \n",
              "3       negative  \n",
              "4       negative  "
            ],
            "text/html": [
              "\n",
              "  <div id=\"df-0465e9ea-9d53-4d26-9435-6984c2a3cf18\" class=\"colab-df-container\">\n",
              "    <div>\n",
              "<style scoped>\n",
              "    .dataframe tbody tr th:only-of-type {\n",
              "        vertical-align: middle;\n",
              "    }\n",
              "\n",
              "    .dataframe tbody tr th {\n",
              "        vertical-align: top;\n",
              "    }\n",
              "\n",
              "    .dataframe thead th {\n",
              "        text-align: right;\n",
              "    }\n",
              "</style>\n",
              "<table border=\"1\" class=\"dataframe\">\n",
              "  <thead>\n",
              "    <tr style=\"text-align: right;\">\n",
              "      <th></th>\n",
              "      <th>County</th>\n",
              "      <th>Code</th>\n",
              "      <th>score</th>\n",
              "      <th>capacity</th>\n",
              "      <th>indicator</th>\n",
              "      <th>percentile</th>\n",
              "      <th>directionality</th>\n",
              "    </tr>\n",
              "  </thead>\n",
              "  <tbody>\n",
              "    <tr>\n",
              "      <th>0</th>\n",
              "      <td>Caroline County</td>\n",
              "      <td>24011</td>\n",
              "      <td>-1.694997</td>\n",
              "      <td>Infrastructure</td>\n",
              "      <td>perc_selfsupply</td>\n",
              "      <td>0.075941</td>\n",
              "      <td>negative</td>\n",
              "    </tr>\n",
              "    <tr>\n",
              "      <th>1</th>\n",
              "      <td>Caroline County</td>\n",
              "      <td>24011</td>\n",
              "      <td>-1.211996</td>\n",
              "      <td>Infrastructure</td>\n",
              "      <td>perc_stream_impaired</td>\n",
              "      <td>0.156863</td>\n",
              "      <td>negative</td>\n",
              "    </tr>\n",
              "    <tr>\n",
              "      <th>2</th>\n",
              "      <td>Caroline County</td>\n",
              "      <td>24011</td>\n",
              "      <td>-1.130224</td>\n",
              "      <td>Institutions and Partnerships</td>\n",
              "      <td>local_govt_employees_per_capita</td>\n",
              "      <td>0.032991</td>\n",
              "      <td>positive</td>\n",
              "    </tr>\n",
              "    <tr>\n",
              "      <th>3</th>\n",
              "      <td>Caroline County</td>\n",
              "      <td>24011</td>\n",
              "      <td>-0.798065</td>\n",
              "      <td>Industry Composition</td>\n",
              "      <td>estabs_exit_rate</td>\n",
              "      <td>0.203859</td>\n",
              "      <td>negative</td>\n",
              "    </tr>\n",
              "    <tr>\n",
              "      <th>4</th>\n",
              "      <td>Caroline County</td>\n",
              "      <td>24011</td>\n",
              "      <td>-0.636447</td>\n",
              "      <td>Human Capital</td>\n",
              "      <td>pct_gross_rent_as_pct_of_hhold_income_above_35pct</td>\n",
              "      <td>0.245876</td>\n",
              "      <td>negative</td>\n",
              "    </tr>\n",
              "  </tbody>\n",
              "</table>\n",
              "</div>\n",
              "    <div class=\"colab-df-buttons\">\n",
              "\n",
              "  <div class=\"colab-df-container\">\n",
              "    <button class=\"colab-df-convert\" onclick=\"convertToInteractive('df-0465e9ea-9d53-4d26-9435-6984c2a3cf18')\"\n",
              "            title=\"Convert this dataframe to an interactive table.\"\n",
              "            style=\"display:none;\">\n",
              "\n",
              "  <svg xmlns=\"http://www.w3.org/2000/svg\" height=\"24px\" viewBox=\"0 -960 960 960\">\n",
              "    <path d=\"M120-120v-720h720v720H120Zm60-500h600v-160H180v160Zm220 220h160v-160H400v160Zm0 220h160v-160H400v160ZM180-400h160v-160H180v160Zm440 0h160v-160H620v160ZM180-180h160v-160H180v160Zm440 0h160v-160H620v160Z\"/>\n",
              "  </svg>\n",
              "    </button>\n",
              "\n",
              "  <style>\n",
              "    .colab-df-container {\n",
              "      display:flex;\n",
              "      gap: 12px;\n",
              "    }\n",
              "\n",
              "    .colab-df-convert {\n",
              "      background-color: #E8F0FE;\n",
              "      border: none;\n",
              "      border-radius: 50%;\n",
              "      cursor: pointer;\n",
              "      display: none;\n",
              "      fill: #1967D2;\n",
              "      height: 32px;\n",
              "      padding: 0 0 0 0;\n",
              "      width: 32px;\n",
              "    }\n",
              "\n",
              "    .colab-df-convert:hover {\n",
              "      background-color: #E2EBFA;\n",
              "      box-shadow: 0px 1px 2px rgba(60, 64, 67, 0.3), 0px 1px 3px 1px rgba(60, 64, 67, 0.15);\n",
              "      fill: #174EA6;\n",
              "    }\n",
              "\n",
              "    .colab-df-buttons div {\n",
              "      margin-bottom: 4px;\n",
              "    }\n",
              "\n",
              "    [theme=dark] .colab-df-convert {\n",
              "      background-color: #3B4455;\n",
              "      fill: #D2E3FC;\n",
              "    }\n",
              "\n",
              "    [theme=dark] .colab-df-convert:hover {\n",
              "      background-color: #434B5C;\n",
              "      box-shadow: 0px 1px 3px 1px rgba(0, 0, 0, 0.15);\n",
              "      filter: drop-shadow(0px 1px 2px rgba(0, 0, 0, 0.3));\n",
              "      fill: #FFFFFF;\n",
              "    }\n",
              "  </style>\n",
              "\n",
              "    <script>\n",
              "      const buttonEl =\n",
              "        document.querySelector('#df-0465e9ea-9d53-4d26-9435-6984c2a3cf18 button.colab-df-convert');\n",
              "      buttonEl.style.display =\n",
              "        google.colab.kernel.accessAllowed ? 'block' : 'none';\n",
              "\n",
              "      async function convertToInteractive(key) {\n",
              "        const element = document.querySelector('#df-0465e9ea-9d53-4d26-9435-6984c2a3cf18');\n",
              "        const dataTable =\n",
              "          await google.colab.kernel.invokeFunction('convertToInteractive',\n",
              "                                                    [key], {});\n",
              "        if (!dataTable) return;\n",
              "\n",
              "        const docLinkHtml = 'Like what you see? Visit the ' +\n",
              "          '<a target=\"_blank\" href=https://colab.research.google.com/notebooks/data_table.ipynb>data table notebook</a>'\n",
              "          + ' to learn more about interactive tables.';\n",
              "        element.innerHTML = '';\n",
              "        dataTable['output_type'] = 'display_data';\n",
              "        await google.colab.output.renderOutput(dataTable, element);\n",
              "        const docLink = document.createElement('div');\n",
              "        docLink.innerHTML = docLinkHtml;\n",
              "        element.appendChild(docLink);\n",
              "      }\n",
              "    </script>\n",
              "  </div>\n",
              "\n",
              "\n",
              "    <div id=\"df-de51e8eb-3340-443d-986a-28d4b7c8659d\">\n",
              "      <button class=\"colab-df-quickchart\" onclick=\"quickchart('df-de51e8eb-3340-443d-986a-28d4b7c8659d')\"\n",
              "                title=\"Suggest charts\"\n",
              "                style=\"display:none;\">\n",
              "\n",
              "<svg xmlns=\"http://www.w3.org/2000/svg\" height=\"24px\"viewBox=\"0 0 24 24\"\n",
              "     width=\"24px\">\n",
              "    <g>\n",
              "        <path d=\"M19 3H5c-1.1 0-2 .9-2 2v14c0 1.1.9 2 2 2h14c1.1 0 2-.9 2-2V5c0-1.1-.9-2-2-2zM9 17H7v-7h2v7zm4 0h-2V7h2v10zm4 0h-2v-4h2v4z\"/>\n",
              "    </g>\n",
              "</svg>\n",
              "      </button>\n",
              "\n",
              "<style>\n",
              "  .colab-df-quickchart {\n",
              "      --bg-color: #E8F0FE;\n",
              "      --fill-color: #1967D2;\n",
              "      --hover-bg-color: #E2EBFA;\n",
              "      --hover-fill-color: #174EA6;\n",
              "      --disabled-fill-color: #AAA;\n",
              "      --disabled-bg-color: #DDD;\n",
              "  }\n",
              "\n",
              "  [theme=dark] .colab-df-quickchart {\n",
              "      --bg-color: #3B4455;\n",
              "      --fill-color: #D2E3FC;\n",
              "      --hover-bg-color: #434B5C;\n",
              "      --hover-fill-color: #FFFFFF;\n",
              "      --disabled-bg-color: #3B4455;\n",
              "      --disabled-fill-color: #666;\n",
              "  }\n",
              "\n",
              "  .colab-df-quickchart {\n",
              "    background-color: var(--bg-color);\n",
              "    border: none;\n",
              "    border-radius: 50%;\n",
              "    cursor: pointer;\n",
              "    display: none;\n",
              "    fill: var(--fill-color);\n",
              "    height: 32px;\n",
              "    padding: 0;\n",
              "    width: 32px;\n",
              "  }\n",
              "\n",
              "  .colab-df-quickchart:hover {\n",
              "    background-color: var(--hover-bg-color);\n",
              "    box-shadow: 0 1px 2px rgba(60, 64, 67, 0.3), 0 1px 3px 1px rgba(60, 64, 67, 0.15);\n",
              "    fill: var(--button-hover-fill-color);\n",
              "  }\n",
              "\n",
              "  .colab-df-quickchart-complete:disabled,\n",
              "  .colab-df-quickchart-complete:disabled:hover {\n",
              "    background-color: var(--disabled-bg-color);\n",
              "    fill: var(--disabled-fill-color);\n",
              "    box-shadow: none;\n",
              "  }\n",
              "\n",
              "  .colab-df-spinner {\n",
              "    border: 2px solid var(--fill-color);\n",
              "    border-color: transparent;\n",
              "    border-bottom-color: var(--fill-color);\n",
              "    animation:\n",
              "      spin 1s steps(1) infinite;\n",
              "  }\n",
              "\n",
              "  @keyframes spin {\n",
              "    0% {\n",
              "      border-color: transparent;\n",
              "      border-bottom-color: var(--fill-color);\n",
              "      border-left-color: var(--fill-color);\n",
              "    }\n",
              "    20% {\n",
              "      border-color: transparent;\n",
              "      border-left-color: var(--fill-color);\n",
              "      border-top-color: var(--fill-color);\n",
              "    }\n",
              "    30% {\n",
              "      border-color: transparent;\n",
              "      border-left-color: var(--fill-color);\n",
              "      border-top-color: var(--fill-color);\n",
              "      border-right-color: var(--fill-color);\n",
              "    }\n",
              "    40% {\n",
              "      border-color: transparent;\n",
              "      border-right-color: var(--fill-color);\n",
              "      border-top-color: var(--fill-color);\n",
              "    }\n",
              "    60% {\n",
              "      border-color: transparent;\n",
              "      border-right-color: var(--fill-color);\n",
              "    }\n",
              "    80% {\n",
              "      border-color: transparent;\n",
              "      border-right-color: var(--fill-color);\n",
              "      border-bottom-color: var(--fill-color);\n",
              "    }\n",
              "    90% {\n",
              "      border-color: transparent;\n",
              "      border-bottom-color: var(--fill-color);\n",
              "    }\n",
              "  }\n",
              "</style>\n",
              "\n",
              "      <script>\n",
              "        async function quickchart(key) {\n",
              "          const quickchartButtonEl =\n",
              "            document.querySelector('#' + key + ' button');\n",
              "          quickchartButtonEl.disabled = true;  // To prevent multiple clicks.\n",
              "          quickchartButtonEl.classList.add('colab-df-spinner');\n",
              "          try {\n",
              "            const charts = await google.colab.kernel.invokeFunction(\n",
              "                'suggestCharts', [key], {});\n",
              "          } catch (error) {\n",
              "            console.error('Error during call to suggestCharts:', error);\n",
              "          }\n",
              "          quickchartButtonEl.classList.remove('colab-df-spinner');\n",
              "          quickchartButtonEl.classList.add('colab-df-quickchart-complete');\n",
              "        }\n",
              "        (() => {\n",
              "          let quickchartButtonEl =\n",
              "            document.querySelector('#df-de51e8eb-3340-443d-986a-28d4b7c8659d button');\n",
              "          quickchartButtonEl.style.display =\n",
              "            google.colab.kernel.accessAllowed ? 'block' : 'none';\n",
              "        })();\n",
              "      </script>\n",
              "    </div>\n",
              "\n",
              "    </div>\n",
              "  </div>\n"
            ],
            "application/vnd.google.colaboratory.intrinsic+json": {
              "type": "dataframe",
              "summary": "{\n  \"name\": \"flattened_edci_data[:5]\",\n  \"rows\": 5,\n  \"fields\": [\n    {\n      \"column\": \"County\",\n      \"properties\": {\n        \"dtype\": \"category\",\n        \"num_unique_values\": 1,\n        \"samples\": [\n          \"Caroline County\"\n        ],\n        \"semantic_type\": \"\",\n        \"description\": \"\"\n      }\n    },\n    {\n      \"column\": \"Code\",\n      \"properties\": {\n        \"dtype\": \"category\",\n        \"num_unique_values\": 1,\n        \"samples\": [\n          \"24011\"\n        ],\n        \"semantic_type\": \"\",\n        \"description\": \"\"\n      }\n    },\n    {\n      \"column\": \"score\",\n      \"properties\": {\n        \"dtype\": \"number\",\n        \"std\": 0.41029384654212364,\n        \"min\": -1.69499694620526,\n        \"max\": -0.636447406213789,\n        \"num_unique_values\": 5,\n        \"samples\": [\n          -1.21199633121415\n        ],\n        \"semantic_type\": \"\",\n        \"description\": \"\"\n      }\n    },\n    {\n      \"column\": \"capacity\",\n      \"properties\": {\n        \"dtype\": \"string\",\n        \"num_unique_values\": 4,\n        \"samples\": [\n          \"Institutions and Partnerships\"\n        ],\n        \"semantic_type\": \"\",\n        \"description\": \"\"\n      }\n    },\n    {\n      \"column\": \"indicator\",\n      \"properties\": {\n        \"dtype\": \"string\",\n        \"num_unique_values\": 5,\n        \"samples\": [\n          \"perc_stream_impaired\"\n        ],\n        \"semantic_type\": \"\",\n        \"description\": \"\"\n      }\n    },\n    {\n      \"column\": \"percentile\",\n      \"properties\": {\n        \"dtype\": \"number\",\n        \"std\": 0.08814519838262916,\n        \"min\": 0.0329909741674448,\n        \"max\": 0.245876128229069,\n        \"num_unique_values\": 5,\n        \"samples\": [\n          0.156862745098039\n        ],\n        \"semantic_type\": \"\",\n        \"description\": \"\"\n      }\n    },\n    {\n      \"column\": \"directionality\",\n      \"properties\": {\n        \"dtype\": \"category\",\n        \"num_unique_values\": 2,\n        \"samples\": [\n          \"positive\"\n        ],\n        \"semantic_type\": \"\",\n        \"description\": \"\"\n      }\n    }\n  ]\n}"
            }
          },
          "metadata": {},
          "execution_count": 33
        }
      ]
    },
    {
      "cell_type": "code",
      "source": [
        "flatten_column_data_2(edci_data, 'edci_indicators').shape"
      ],
      "metadata": {
        "id": "EFUg7HGaLHzd",
        "outputId": "fc418964-4acc-4dad-9721-845278f8adca",
        "colab": {
          "base_uri": "https://localhost:8080/"
        }
      },
      "execution_count": 34,
      "outputs": [
        {
          "output_type": "execute_result",
          "data": {
            "text/plain": [
              "(1121, 7)"
            ]
          },
          "metadata": {},
          "execution_count": 34
        }
      ]
    },
    {
      "cell_type": "code",
      "source": [
        "flatten_column_data_2(edci_data, 'edci_indicators')[:5]"
      ],
      "metadata": {
        "id": "uxfhjVYYK2AU",
        "outputId": "fe3108c9-ede1-44ef-ae1b-43c227f1d669",
        "colab": {
          "base_uri": "https://localhost:8080/",
          "height": 293
        }
      },
      "execution_count": 35,
      "outputs": [
        {
          "output_type": "execute_result",
          "data": {
            "text/plain": [
              "            county county_fips     score                       capacity  \\\n",
              "0  Caroline County       24011 -1.694997                 Infrastructure   \n",
              "0  Caroline County       24011 -1.211996                 Infrastructure   \n",
              "0  Caroline County       24011 -1.130224  Institutions and Partnerships   \n",
              "0  Caroline County       24011 -0.798065           Industry Composition   \n",
              "0  Caroline County       24011 -0.636447                  Human Capital   \n",
              "\n",
              "                                           indicator  percentile  \\\n",
              "0                                    perc_selfsupply    0.075941   \n",
              "0                               perc_stream_impaired    0.156863   \n",
              "0                    local_govt_employees_per_capita    0.032991   \n",
              "0                                   estabs_exit_rate    0.203859   \n",
              "0  pct_gross_rent_as_pct_of_hhold_income_above_35pct    0.245876   \n",
              "\n",
              "  directionality  \n",
              "0       negative  \n",
              "0       negative  \n",
              "0       positive  \n",
              "0       negative  \n",
              "0       negative  "
            ],
            "text/html": [
              "\n",
              "  <div id=\"df-490afbf1-1966-4246-a59b-7bbeaac1546f\" class=\"colab-df-container\">\n",
              "    <div>\n",
              "<style scoped>\n",
              "    .dataframe tbody tr th:only-of-type {\n",
              "        vertical-align: middle;\n",
              "    }\n",
              "\n",
              "    .dataframe tbody tr th {\n",
              "        vertical-align: top;\n",
              "    }\n",
              "\n",
              "    .dataframe thead th {\n",
              "        text-align: right;\n",
              "    }\n",
              "</style>\n",
              "<table border=\"1\" class=\"dataframe\">\n",
              "  <thead>\n",
              "    <tr style=\"text-align: right;\">\n",
              "      <th></th>\n",
              "      <th>county</th>\n",
              "      <th>county_fips</th>\n",
              "      <th>score</th>\n",
              "      <th>capacity</th>\n",
              "      <th>indicator</th>\n",
              "      <th>percentile</th>\n",
              "      <th>directionality</th>\n",
              "    </tr>\n",
              "  </thead>\n",
              "  <tbody>\n",
              "    <tr>\n",
              "      <th>0</th>\n",
              "      <td>Caroline County</td>\n",
              "      <td>24011</td>\n",
              "      <td>-1.694997</td>\n",
              "      <td>Infrastructure</td>\n",
              "      <td>perc_selfsupply</td>\n",
              "      <td>0.075941</td>\n",
              "      <td>negative</td>\n",
              "    </tr>\n",
              "    <tr>\n",
              "      <th>0</th>\n",
              "      <td>Caroline County</td>\n",
              "      <td>24011</td>\n",
              "      <td>-1.211996</td>\n",
              "      <td>Infrastructure</td>\n",
              "      <td>perc_stream_impaired</td>\n",
              "      <td>0.156863</td>\n",
              "      <td>negative</td>\n",
              "    </tr>\n",
              "    <tr>\n",
              "      <th>0</th>\n",
              "      <td>Caroline County</td>\n",
              "      <td>24011</td>\n",
              "      <td>-1.130224</td>\n",
              "      <td>Institutions and Partnerships</td>\n",
              "      <td>local_govt_employees_per_capita</td>\n",
              "      <td>0.032991</td>\n",
              "      <td>positive</td>\n",
              "    </tr>\n",
              "    <tr>\n",
              "      <th>0</th>\n",
              "      <td>Caroline County</td>\n",
              "      <td>24011</td>\n",
              "      <td>-0.798065</td>\n",
              "      <td>Industry Composition</td>\n",
              "      <td>estabs_exit_rate</td>\n",
              "      <td>0.203859</td>\n",
              "      <td>negative</td>\n",
              "    </tr>\n",
              "    <tr>\n",
              "      <th>0</th>\n",
              "      <td>Caroline County</td>\n",
              "      <td>24011</td>\n",
              "      <td>-0.636447</td>\n",
              "      <td>Human Capital</td>\n",
              "      <td>pct_gross_rent_as_pct_of_hhold_income_above_35pct</td>\n",
              "      <td>0.245876</td>\n",
              "      <td>negative</td>\n",
              "    </tr>\n",
              "  </tbody>\n",
              "</table>\n",
              "</div>\n",
              "    <div class=\"colab-df-buttons\">\n",
              "\n",
              "  <div class=\"colab-df-container\">\n",
              "    <button class=\"colab-df-convert\" onclick=\"convertToInteractive('df-490afbf1-1966-4246-a59b-7bbeaac1546f')\"\n",
              "            title=\"Convert this dataframe to an interactive table.\"\n",
              "            style=\"display:none;\">\n",
              "\n",
              "  <svg xmlns=\"http://www.w3.org/2000/svg\" height=\"24px\" viewBox=\"0 -960 960 960\">\n",
              "    <path d=\"M120-120v-720h720v720H120Zm60-500h600v-160H180v160Zm220 220h160v-160H400v160Zm0 220h160v-160H400v160ZM180-400h160v-160H180v160Zm440 0h160v-160H620v160ZM180-180h160v-160H180v160Zm440 0h160v-160H620v160Z\"/>\n",
              "  </svg>\n",
              "    </button>\n",
              "\n",
              "  <style>\n",
              "    .colab-df-container {\n",
              "      display:flex;\n",
              "      gap: 12px;\n",
              "    }\n",
              "\n",
              "    .colab-df-convert {\n",
              "      background-color: #E8F0FE;\n",
              "      border: none;\n",
              "      border-radius: 50%;\n",
              "      cursor: pointer;\n",
              "      display: none;\n",
              "      fill: #1967D2;\n",
              "      height: 32px;\n",
              "      padding: 0 0 0 0;\n",
              "      width: 32px;\n",
              "    }\n",
              "\n",
              "    .colab-df-convert:hover {\n",
              "      background-color: #E2EBFA;\n",
              "      box-shadow: 0px 1px 2px rgba(60, 64, 67, 0.3), 0px 1px 3px 1px rgba(60, 64, 67, 0.15);\n",
              "      fill: #174EA6;\n",
              "    }\n",
              "\n",
              "    .colab-df-buttons div {\n",
              "      margin-bottom: 4px;\n",
              "    }\n",
              "\n",
              "    [theme=dark] .colab-df-convert {\n",
              "      background-color: #3B4455;\n",
              "      fill: #D2E3FC;\n",
              "    }\n",
              "\n",
              "    [theme=dark] .colab-df-convert:hover {\n",
              "      background-color: #434B5C;\n",
              "      box-shadow: 0px 1px 3px 1px rgba(0, 0, 0, 0.15);\n",
              "      filter: drop-shadow(0px 1px 2px rgba(0, 0, 0, 0.3));\n",
              "      fill: #FFFFFF;\n",
              "    }\n",
              "  </style>\n",
              "\n",
              "    <script>\n",
              "      const buttonEl =\n",
              "        document.querySelector('#df-490afbf1-1966-4246-a59b-7bbeaac1546f button.colab-df-convert');\n",
              "      buttonEl.style.display =\n",
              "        google.colab.kernel.accessAllowed ? 'block' : 'none';\n",
              "\n",
              "      async function convertToInteractive(key) {\n",
              "        const element = document.querySelector('#df-490afbf1-1966-4246-a59b-7bbeaac1546f');\n",
              "        const dataTable =\n",
              "          await google.colab.kernel.invokeFunction('convertToInteractive',\n",
              "                                                    [key], {});\n",
              "        if (!dataTable) return;\n",
              "\n",
              "        const docLinkHtml = 'Like what you see? Visit the ' +\n",
              "          '<a target=\"_blank\" href=https://colab.research.google.com/notebooks/data_table.ipynb>data table notebook</a>'\n",
              "          + ' to learn more about interactive tables.';\n",
              "        element.innerHTML = '';\n",
              "        dataTable['output_type'] = 'display_data';\n",
              "        await google.colab.output.renderOutput(dataTable, element);\n",
              "        const docLink = document.createElement('div');\n",
              "        docLink.innerHTML = docLinkHtml;\n",
              "        element.appendChild(docLink);\n",
              "      }\n",
              "    </script>\n",
              "  </div>\n",
              "\n",
              "\n",
              "    <div id=\"df-f8f0e2e6-6529-456f-9398-8fba34e38618\">\n",
              "      <button class=\"colab-df-quickchart\" onclick=\"quickchart('df-f8f0e2e6-6529-456f-9398-8fba34e38618')\"\n",
              "                title=\"Suggest charts\"\n",
              "                style=\"display:none;\">\n",
              "\n",
              "<svg xmlns=\"http://www.w3.org/2000/svg\" height=\"24px\"viewBox=\"0 0 24 24\"\n",
              "     width=\"24px\">\n",
              "    <g>\n",
              "        <path d=\"M19 3H5c-1.1 0-2 .9-2 2v14c0 1.1.9 2 2 2h14c1.1 0 2-.9 2-2V5c0-1.1-.9-2-2-2zM9 17H7v-7h2v7zm4 0h-2V7h2v10zm4 0h-2v-4h2v4z\"/>\n",
              "    </g>\n",
              "</svg>\n",
              "      </button>\n",
              "\n",
              "<style>\n",
              "  .colab-df-quickchart {\n",
              "      --bg-color: #E8F0FE;\n",
              "      --fill-color: #1967D2;\n",
              "      --hover-bg-color: #E2EBFA;\n",
              "      --hover-fill-color: #174EA6;\n",
              "      --disabled-fill-color: #AAA;\n",
              "      --disabled-bg-color: #DDD;\n",
              "  }\n",
              "\n",
              "  [theme=dark] .colab-df-quickchart {\n",
              "      --bg-color: #3B4455;\n",
              "      --fill-color: #D2E3FC;\n",
              "      --hover-bg-color: #434B5C;\n",
              "      --hover-fill-color: #FFFFFF;\n",
              "      --disabled-bg-color: #3B4455;\n",
              "      --disabled-fill-color: #666;\n",
              "  }\n",
              "\n",
              "  .colab-df-quickchart {\n",
              "    background-color: var(--bg-color);\n",
              "    border: none;\n",
              "    border-radius: 50%;\n",
              "    cursor: pointer;\n",
              "    display: none;\n",
              "    fill: var(--fill-color);\n",
              "    height: 32px;\n",
              "    padding: 0;\n",
              "    width: 32px;\n",
              "  }\n",
              "\n",
              "  .colab-df-quickchart:hover {\n",
              "    background-color: var(--hover-bg-color);\n",
              "    box-shadow: 0 1px 2px rgba(60, 64, 67, 0.3), 0 1px 3px 1px rgba(60, 64, 67, 0.15);\n",
              "    fill: var(--button-hover-fill-color);\n",
              "  }\n",
              "\n",
              "  .colab-df-quickchart-complete:disabled,\n",
              "  .colab-df-quickchart-complete:disabled:hover {\n",
              "    background-color: var(--disabled-bg-color);\n",
              "    fill: var(--disabled-fill-color);\n",
              "    box-shadow: none;\n",
              "  }\n",
              "\n",
              "  .colab-df-spinner {\n",
              "    border: 2px solid var(--fill-color);\n",
              "    border-color: transparent;\n",
              "    border-bottom-color: var(--fill-color);\n",
              "    animation:\n",
              "      spin 1s steps(1) infinite;\n",
              "  }\n",
              "\n",
              "  @keyframes spin {\n",
              "    0% {\n",
              "      border-color: transparent;\n",
              "      border-bottom-color: var(--fill-color);\n",
              "      border-left-color: var(--fill-color);\n",
              "    }\n",
              "    20% {\n",
              "      border-color: transparent;\n",
              "      border-left-color: var(--fill-color);\n",
              "      border-top-color: var(--fill-color);\n",
              "    }\n",
              "    30% {\n",
              "      border-color: transparent;\n",
              "      border-left-color: var(--fill-color);\n",
              "      border-top-color: var(--fill-color);\n",
              "      border-right-color: var(--fill-color);\n",
              "    }\n",
              "    40% {\n",
              "      border-color: transparent;\n",
              "      border-right-color: var(--fill-color);\n",
              "      border-top-color: var(--fill-color);\n",
              "    }\n",
              "    60% {\n",
              "      border-color: transparent;\n",
              "      border-right-color: var(--fill-color);\n",
              "    }\n",
              "    80% {\n",
              "      border-color: transparent;\n",
              "      border-right-color: var(--fill-color);\n",
              "      border-bottom-color: var(--fill-color);\n",
              "    }\n",
              "    90% {\n",
              "      border-color: transparent;\n",
              "      border-bottom-color: var(--fill-color);\n",
              "    }\n",
              "  }\n",
              "</style>\n",
              "\n",
              "      <script>\n",
              "        async function quickchart(key) {\n",
              "          const quickchartButtonEl =\n",
              "            document.querySelector('#' + key + ' button');\n",
              "          quickchartButtonEl.disabled = true;  // To prevent multiple clicks.\n",
              "          quickchartButtonEl.classList.add('colab-df-spinner');\n",
              "          try {\n",
              "            const charts = await google.colab.kernel.invokeFunction(\n",
              "                'suggestCharts', [key], {});\n",
              "          } catch (error) {\n",
              "            console.error('Error during call to suggestCharts:', error);\n",
              "          }\n",
              "          quickchartButtonEl.classList.remove('colab-df-spinner');\n",
              "          quickchartButtonEl.classList.add('colab-df-quickchart-complete');\n",
              "        }\n",
              "        (() => {\n",
              "          let quickchartButtonEl =\n",
              "            document.querySelector('#df-f8f0e2e6-6529-456f-9398-8fba34e38618 button');\n",
              "          quickchartButtonEl.style.display =\n",
              "            google.colab.kernel.accessAllowed ? 'block' : 'none';\n",
              "        })();\n",
              "      </script>\n",
              "    </div>\n",
              "\n",
              "    </div>\n",
              "  </div>\n"
            ],
            "application/vnd.google.colaboratory.intrinsic+json": {
              "type": "dataframe",
              "summary": "{\n  \"name\": \"flatten_column_data_2(edci_data, 'edci_indicators')[:5]\",\n  \"rows\": 5,\n  \"fields\": [\n    {\n      \"column\": \"county\",\n      \"properties\": {\n        \"dtype\": \"category\",\n        \"num_unique_values\": 1,\n        \"samples\": [\n          \"Caroline County\"\n        ],\n        \"semantic_type\": \"\",\n        \"description\": \"\"\n      }\n    },\n    {\n      \"column\": \"county_fips\",\n      \"properties\": {\n        \"dtype\": \"category\",\n        \"num_unique_values\": 1,\n        \"samples\": [\n          \"24011\"\n        ],\n        \"semantic_type\": \"\",\n        \"description\": \"\"\n      }\n    },\n    {\n      \"column\": \"score\",\n      \"properties\": {\n        \"dtype\": \"number\",\n        \"std\": 0.41029384654212364,\n        \"min\": -1.69499694620526,\n        \"max\": -0.636447406213789,\n        \"num_unique_values\": 5,\n        \"samples\": [\n          -1.21199633121415\n        ],\n        \"semantic_type\": \"\",\n        \"description\": \"\"\n      }\n    },\n    {\n      \"column\": \"capacity\",\n      \"properties\": {\n        \"dtype\": \"string\",\n        \"num_unique_values\": 4,\n        \"samples\": [\n          \"Institutions and Partnerships\"\n        ],\n        \"semantic_type\": \"\",\n        \"description\": \"\"\n      }\n    },\n    {\n      \"column\": \"indicator\",\n      \"properties\": {\n        \"dtype\": \"string\",\n        \"num_unique_values\": 5,\n        \"samples\": [\n          \"perc_stream_impaired\"\n        ],\n        \"semantic_type\": \"\",\n        \"description\": \"\"\n      }\n    },\n    {\n      \"column\": \"percentile\",\n      \"properties\": {\n        \"dtype\": \"number\",\n        \"std\": 0.08814519838262916,\n        \"min\": 0.0329909741674448,\n        \"max\": 0.245876128229069,\n        \"num_unique_values\": 5,\n        \"samples\": [\n          0.156862745098039\n        ],\n        \"semantic_type\": \"\",\n        \"description\": \"\"\n      }\n    },\n    {\n      \"column\": \"directionality\",\n      \"properties\": {\n        \"dtype\": \"category\",\n        \"num_unique_values\": 2,\n        \"samples\": [\n          \"positive\"\n        ],\n        \"semantic_type\": \"\",\n        \"description\": \"\"\n      }\n    }\n  ]\n}"
            }
          },
          "metadata": {},
          "execution_count": 35
        }
      ]
    },
    {
      "cell_type": "markdown",
      "source": [
        "> **Tip**\n",
        ">\n",
        "> If you run into `KeyError: 'result'` the API Key has expired and you should re-run the section [Obtaining an API Token](#obtaining-an-api-token)\n",
        "\n"
      ],
      "metadata": {
        "id": "zTUNXjEr6tX2"
      }
    },
    {
      "cell_type": "markdown",
      "source": [
        "### Demographics\n",
        "\n"
      ],
      "metadata": {
        "id": "Lj8VvDuH6q_O"
      }
    },
    {
      "cell_type": "code",
      "source": [
        "# Demographics API end point\n",
        "demographics_url=\"/api/v1/county/explorer/demographics\"\n"
      ],
      "metadata": {
        "id": "1_NhUg426qPa"
      },
      "execution_count": 36,
      "outputs": []
    },
    {
      "cell_type": "code",
      "source": [
        "# Calling the API\n",
        "demographics_digest = NERDE_API(demographics_url, my_fips, my_start, my_end)\n"
      ],
      "metadata": {
        "id": "h6POOXs5U0c7"
      },
      "execution_count": 37,
      "outputs": []
    },
    {
      "cell_type": "code",
      "source": [
        "# Turn response into Dataframe\n",
        "demographics_df = pd.json_normalize(demographics_digest)\n"
      ],
      "metadata": {
        "id": "ISFjJjObU08q"
      },
      "execution_count": 38,
      "outputs": []
    },
    {
      "cell_type": "code",
      "source": [
        "# Annual Demographics Dataframe\n",
        "demographics_nested_df = demographics_df[['county', 'county_fips', 'annual_demographics']]\n"
      ],
      "metadata": {
        "id": "Pmvyl9j7U1aD"
      },
      "execution_count": 39,
      "outputs": []
    },
    {
      "cell_type": "code",
      "source": [
        "# Annual Demographics Un-nested\n",
        "demographics_annnual_df = flatten_column_data(demographics_nested_df, 'annual_demographics')\n"
      ],
      "metadata": {
        "id": "L81XoDTqU1z4"
      },
      "execution_count": 40,
      "outputs": []
    },
    {
      "cell_type": "markdown",
      "source": [
        "### Housing\n"
      ],
      "metadata": {
        "id": "mC3MO4XC7PJ3"
      }
    },
    {
      "cell_type": "code",
      "source": [
        "#Housing API end point\n",
        "housing_url=\"/api/v1/county/explorer/housing\"\n"
      ],
      "metadata": {
        "id": "leq2YbVx7Oof"
      },
      "execution_count": 41,
      "outputs": []
    },
    {
      "cell_type": "code",
      "source": [
        "# Calling the API\n",
        "housing_digest = NERDE_API(housing_url, my_fips, my_start, my_end)\n"
      ],
      "metadata": {
        "id": "EzBkwZhEU_38"
      },
      "execution_count": 42,
      "outputs": []
    },
    {
      "cell_type": "code",
      "source": [
        "# Turn response into Dataframe\n",
        "housing_df = pd.json_normalize(housing_digest)\n"
      ],
      "metadata": {
        "id": "LPQjoveBU_Yb"
      },
      "execution_count": 43,
      "outputs": []
    },
    {
      "cell_type": "markdown",
      "source": [
        "### Workforce\n",
        "\n"
      ],
      "metadata": {
        "id": "NGMOPQzT6oAT"
      }
    },
    {
      "cell_type": "code",
      "source": [
        "# Workforce API end point\n",
        "workforce_url = \"/api/v1/county/explorer/workforce\"\n"
      ],
      "metadata": {
        "id": "U69y1yHD6nXl"
      },
      "execution_count": 44,
      "outputs": []
    },
    {
      "cell_type": "code",
      "source": [
        "# Calling the API\n",
        "workforce_digest = NERDE_API(workforce_url, my_fips, my_start, my_end)\n"
      ],
      "metadata": {
        "id": "SJ1r4tJmVDoi"
      },
      "execution_count": 45,
      "outputs": []
    },
    {
      "cell_type": "code",
      "source": [
        "# Turn response into Dataframe\n",
        "workforce_df = pd.json_normalize(workforce_digest)\n"
      ],
      "metadata": {
        "id": "9d_NrbwTVEWS"
      },
      "execution_count": 46,
      "outputs": []
    },
    {
      "cell_type": "code",
      "source": [
        "# Monthly Economic Statistics Dataframe\n",
        "workforce_monthly_stats = workforce_df[['county', 'county_fips', 'monthly_economic_stats']]\n"
      ],
      "metadata": {
        "id": "v-ctn7s7VEtY"
      },
      "execution_count": 47,
      "outputs": []
    },
    {
      "cell_type": "code",
      "source": [
        "# Monthly Economic Statistics Un-nested\n",
        "workforce_monthly_stats_flattened = flatten_column_data(workforce_monthly_stats, 'monthly_economic_stats')\n"
      ],
      "metadata": {
        "id": "7ZcppaKkVFDw"
      },
      "execution_count": 48,
      "outputs": []
    },
    {
      "cell_type": "markdown",
      "source": [
        "### Local Economy\n",
        "\n"
      ],
      "metadata": {
        "id": "dFN2hhq66lwb"
      }
    },
    {
      "cell_type": "code",
      "source": [
        "# Local Economy URL\n",
        "localeconomy_url = \"/api/v1/county/explorer/localeconomy\"\n"
      ],
      "metadata": {
        "id": "l2Q2XWQa6lHI"
      },
      "execution_count": 49,
      "outputs": []
    },
    {
      "cell_type": "code",
      "source": [
        "# Calling the API\n",
        "localeconomy_digest = NERDE_API(localeconomy_url, my_fips, my_start, my_end)\n"
      ],
      "metadata": {
        "id": "tclaG2cwVKqG"
      },
      "execution_count": 50,
      "outputs": []
    },
    {
      "cell_type": "code",
      "source": [
        "# Turn response into Dataframe\n",
        "localeconomy_df = pd.json_normalize(localeconomy_digest)\n"
      ],
      "metadata": {
        "id": "8Pl26ZDwVLXM"
      },
      "execution_count": 51,
      "outputs": []
    },
    {
      "cell_type": "code",
      "source": [
        "# Industry Employment Dataframe\n",
        "localeconomy_industry_employment_series = localeconomy_df[['county', 'county_fips', 'state', 'industry_employment_series']]\n"
      ],
      "metadata": {
        "id": "UYDSVKkPVL7A"
      },
      "execution_count": 52,
      "outputs": []
    },
    {
      "cell_type": "code",
      "source": [
        "# Industry Employment Un-nested\n",
        "localeconomy_industry_employment_series_flattened = flatten_column_data(localeconomy_industry_employment_series, 'industry_employment_series')\n"
      ],
      "metadata": {
        "id": "PgT4k2IsVMUv"
      },
      "execution_count": 53,
      "outputs": []
    },
    {
      "cell_type": "code",
      "source": [
        "# Industry GDP Dataframe\n",
        "localeconomy_industry_gdp_series = localeconomy_df[['county', 'county_fips', 'state', 'industry_gdp_series']]\n"
      ],
      "metadata": {
        "id": "FrXA9yYaVMsF"
      },
      "execution_count": 54,
      "outputs": []
    },
    {
      "cell_type": "code",
      "source": [
        "# Industry GDP Un-nested\n",
        "localeconomy_industry_gdp_series_flattened = flatten_column_data(localeconomy_industry_gdp_series, 'industry_gdp_series')\n"
      ],
      "metadata": {
        "id": "RMGM1QdKVNCk"
      },
      "execution_count": 55,
      "outputs": []
    },
    {
      "cell_type": "markdown",
      "source": [
        "### Industry Trends\n",
        "\n"
      ],
      "metadata": {
        "id": "KEUDLnij6hnw"
      }
    },
    {
      "cell_type": "code",
      "source": [
        "# Industry Trends URL\n",
        "industrytrends_url=\"/api/v1/county/explorer/industrytrends\"\n"
      ],
      "metadata": {
        "id": "lgLG5RFg6g1w"
      },
      "execution_count": 56,
      "outputs": []
    },
    {
      "cell_type": "code",
      "source": [
        "# Calling the API\n",
        "industry_digest = NERDE_API(industrytrends_url, my_fips, my_start, my_end)\n"
      ],
      "metadata": {
        "id": "DFIXzl2pVVo5"
      },
      "execution_count": 57,
      "outputs": []
    },
    {
      "cell_type": "code",
      "source": [
        "# Turn response into Dataframe\n",
        "industry_df = pd.json_normalize(industry_digest)\n"
      ],
      "metadata": {
        "id": "WeJETR9dVWTu"
      },
      "execution_count": 58,
      "outputs": []
    },
    {
      "cell_type": "code",
      "source": [
        "# Industry Employment Dataframe\n",
        "industry_location_quotient_series_df = industry_df[['county', 'county_fips', 'location_quotient_series']]\n"
      ],
      "metadata": {
        "id": "58rCZI_sVWsF"
      },
      "execution_count": 59,
      "outputs": []
    },
    {
      "cell_type": "code",
      "source": [
        "# Industry Employment Un-nested\n",
        "industry_location_quotient_series_df_flattened = flatten_column_data(industry_location_quotient_series_df, 'location_quotient_series')\n"
      ],
      "metadata": {
        "id": "ikYiyZ-2VXB9"
      },
      "execution_count": 60,
      "outputs": []
    },
    {
      "cell_type": "markdown",
      "source": [
        "### Risk And Resilience\n"
      ],
      "metadata": {
        "id": "m7v2akmF6VLz"
      }
    },
    {
      "cell_type": "code",
      "source": [
        "# Rist and Resilience URL\n",
        "risk_url=\"/api/v1/county/explorer/riskresilience\"\n"
      ],
      "metadata": {
        "id": "wsLNXove6Twy"
      },
      "execution_count": 61,
      "outputs": []
    },
    {
      "cell_type": "code",
      "source": [
        "# Calling the API\n",
        "risk_digest = NERDE_API(risk_url, my_fips, my_start, my_end)\n"
      ],
      "metadata": {
        "id": "oaTkJ0URVcDC"
      },
      "execution_count": 62,
      "outputs": []
    },
    {
      "cell_type": "code",
      "source": [
        "# Turn response into Dataframe\n",
        "risk_df = pd.json_normalize(risk_digest)\n"
      ],
      "metadata": {
        "id": "DUsDNddGVclr"
      },
      "execution_count": 63,
      "outputs": []
    },
    {
      "cell_type": "code",
      "source": [
        "# Rename Column\n",
        "risk_df.rename(columns={\"geo_fips\": \"county_fips\"}, inplace=True)\n"
      ],
      "metadata": {
        "id": "jV2fpJbaVc9x"
      },
      "execution_count": 64,
      "outputs": []
    },
    {
      "cell_type": "code",
      "source": [
        "# Risk FEMA Disaster Declarations Dataframe\n",
        "risk_fema_disaster_dec_df = risk_df[['county', 'county_fips', 'fema_disaster_declarations']]\n"
      ],
      "metadata": {
        "id": "5wf_DHwGVdUH"
      },
      "execution_count": 65,
      "outputs": []
    },
    {
      "cell_type": "code",
      "source": [
        "# Risk FEMA Disaster Declarations Un-nested\n",
        "risk_fema_disaster_dec_df_flatten = flatten_column_data(risk_fema_disaster_dec_df, 'fema_disaster_declarations')\n"
      ],
      "metadata": {
        "id": "rBp8hLk6VdrB"
      },
      "execution_count": 66,
      "outputs": []
    },
    {
      "cell_type": "code",
      "source": [],
      "metadata": {
        "id": "9VSUNcKwVWed"
      },
      "execution_count": 66,
      "outputs": []
    }
  ]
}